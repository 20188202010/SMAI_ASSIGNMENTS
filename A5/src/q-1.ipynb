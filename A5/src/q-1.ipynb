{
 "cells": [
  {
   "cell_type": "markdown",
   "metadata": {
    "colab_type": "text",
    "id": "wbfBq_jSnt6u"
   },
   "source": [
    "### Q1: Train and validate your own n-layer Neural Network on the Apparel dataset to predict the class label of a given apparel"
   ]
  },
  {
   "cell_type": "markdown",
   "metadata": {},
   "source": [
    "### REPORT INCLUDED"
   ]
  },
  {
   "cell_type": "code",
   "execution_count": 1,
   "metadata": {
    "colab": {},
    "colab_type": "code",
    "id": "HYlDbV1mnt64"
   },
   "outputs": [],
   "source": [
    "import numpy as np\n",
    "import pandas as pd\n",
    "from math import sqrt, isnan, ceil\n",
    "import matplotlib.pyplot as plt\n",
    "import pickle"
   ]
  },
  {
   "cell_type": "code",
   "execution_count": null,
   "metadata": {
    "colab": {
     "base_uri": "https://localhost:8080/",
     "height": 124
    },
    "colab_type": "code",
    "id": "BmYdSIODn0RJ",
    "outputId": "8ecb477f-1a97-4664-df4a-9b75774c8420"
   },
   "outputs": [],
   "source": [
    "# from google.colab import drive\n",
    "# drive.mount('/content/drive')"
   ]
  },
  {
   "cell_type": "code",
   "execution_count": null,
   "metadata": {
    "colab": {},
    "colab_type": "code",
    "id": "Ak9sv3Klnt7O"
   },
   "outputs": [],
   "source": [
    "# dataset = pd.read_csv('/content/drive/My Drive/apparel-trainval.csv')"
   ]
  },
  {
   "cell_type": "code",
   "execution_count": 2,
   "metadata": {
    "colab": {},
    "colab_type": "code",
    "id": "Ak9sv3Klnt7O"
   },
   "outputs": [],
   "source": [
    "dataset = pd.read_csv('../input_data/Apparel/apparel-trainval.csv')"
   ]
  },
  {
   "cell_type": "code",
   "execution_count": 3,
   "metadata": {
    "colab": {
     "base_uri": "https://localhost:8080/",
     "height": 159
    },
    "colab_type": "code",
    "id": "e_p0DIVVnt7e",
    "outputId": "177e7fb3-e960-4ce9-8401-bb25fc3db7ed"
   },
   "outputs": [],
   "source": [
    "rows, cols = dataset.shape\n",
    "target = 'label'\n",
    "classes = dataset['label'].nunique() #no of unique classes 0-9"
   ]
  },
  {
   "cell_type": "markdown",
   "metadata": {},
   "source": [
    "### Standardising the dataset"
   ]
  },
  {
   "cell_type": "code",
   "execution_count": 4,
   "metadata": {
    "colab": {},
    "colab_type": "code",
    "id": "CQSVnw0Znt7z"
   },
   "outputs": [],
   "source": [
    "def standardise(df):\n",
    "    cols = df.columns\n",
    "    for c in cols:\n",
    "        if c != target:\n",
    "            sd = df[c].std()\n",
    "            mean = df[c].mean()\n",
    "       \n",
    "            if not isnan(sd) and sd != 0.0:\n",
    "                df[c] = (df[c] - mean)/sd\n",
    "            else:\n",
    "                df[c] = 0\n",
    "            \n",
    "    return df"
   ]
  },
  {
   "cell_type": "code",
   "execution_count": 5,
   "metadata": {
    "colab": {
     "base_uri": "https://localhost:8080/",
     "height": 34
    },
    "colab_type": "code",
    "id": "jaY9LdtOnt8I",
    "outputId": "89d7e67e-a62e-4185-b0ca-e64c6f90487c"
   },
   "outputs": [],
   "source": [
    "dataset = standardise(dataset)"
   ]
  },
  {
   "cell_type": "code",
   "execution_count": 6,
   "metadata": {
    "colab": {
     "base_uri": "https://localhost:8080/",
     "height": 34
    },
    "colab_type": "code",
    "id": "jaY9LdtOnt8I",
    "outputId": "89d7e67e-a62e-4185-b0ca-e64c6f90487c"
   },
   "outputs": [],
   "source": [
    "train, validate = np.split(dataset, [int(.8*len(dataset))])\n",
    "train_rows, train_cols = train.shape\n",
    "labels = dataset[target].values #all actual classes of both train and validate"
   ]
  },
  {
   "cell_type": "markdown",
   "metadata": {},
   "source": [
    "#### Convert dataframe to matrix without target column"
   ]
  },
  {
   "cell_type": "code",
   "execution_count": 7,
   "metadata": {},
   "outputs": [],
   "source": [
    "def makeX(df):\n",
    "    if target in df.columns:\n",
    "        df = df.drop([target], axis=1)\n",
    "    X = df.values\n",
    "    return X"
   ]
  },
  {
   "cell_type": "code",
   "execution_count": 8,
   "metadata": {
    "colab": {},
    "colab_type": "code",
    "id": "cxjs2i0wnt8o"
   },
   "outputs": [],
   "source": [
    "matrix = makeX(train)"
   ]
  },
  {
   "cell_type": "code",
   "execution_count": 9,
   "metadata": {
    "colab": {},
    "colab_type": "code",
    "id": "iIL0urPP95BW"
   },
   "outputs": [],
   "source": [
    "validate_mat =  makeX(validate) #make matrix of validate dataframe"
   ]
  },
  {
   "cell_type": "code",
   "execution_count": 10,
   "metadata": {
    "colab": {
     "base_uri": "https://localhost:8080/",
     "height": 34
    },
    "colab_type": "code",
    "id": "JTkg4lCyx7FE",
    "outputId": "a398e4a5-aa6f-4dd1-ffdc-e4ef2fa203cf"
   },
   "outputs": [],
   "source": [
    "validate_actual = validate[target].values #actual class values of validate df"
   ]
  },
  {
   "cell_type": "markdown",
   "metadata": {},
   "source": [
    "### Find one_hot_labels for training matrix"
   ]
  },
  {
   "cell_type": "code",
   "execution_count": 11,
   "metadata": {
    "colab": {
     "base_uri": "https://localhost:8080/",
     "height": 34
    },
    "colab_type": "code",
    "id": "5fzDq5o9nt8W",
    "outputId": "5892bf5b-0ee5-46ea-d99f-1c7a9f5311ba"
   },
   "outputs": [
    {
     "name": "stdout",
     "output_type": "stream",
     "text": [
      "one_hot_labels:  (48000, 10)\n"
     ]
    }
   ],
   "source": [
    "one_hot_labels = np.zeros((train_rows, classes))\n",
    "\n",
    "for i in range(train_rows):  \n",
    "    one_hot_labels[i, labels[i]] = 1\n",
    "print \"one_hot_labels: \", one_hot_labels.shape"
   ]
  },
  {
   "cell_type": "markdown",
   "metadata": {
    "colab_type": "text",
    "id": "5gCdqw2znt9K"
   },
   "source": [
    "--> 0 T-shirt/top 1\tTrouser 2 Pullover 3 Dress 4 Coat 5\tSandal 6 Shirt 7 Sneaker 8 Bag 9 Ankle boot"
   ]
  },
  {
   "cell_type": "markdown",
   "metadata": {},
   "source": [
    "#### Function to make mini batches of input matrix and output matrix and specified batch size.\n",
    "- First shuffle all the rows\n",
    "- Then slice indices accordingly\n",
    "- Returns a list of list of structure where one list comprises of corresponding i/p and o/p"
   ]
  },
  {
   "cell_type": "code",
   "execution_count": 12,
   "metadata": {
    "colab": {},
    "colab_type": "code",
    "id": "oeljttKx18Xc"
   },
   "outputs": [],
   "source": [
    "def makeMiniBatches(inputs, outputs, batch_size):\n",
    "  #optional to shuffle the rows\n",
    "  #generate a random list of indices from 0 to train_size without replacement\n",
    "    r_idx = np.random.choice(inputs.shape[0], inputs.shape[0], replace=False) #returns a list of shuffled nums from 0 to train_rows\n",
    "    shuffle_input = inputs[r_idx] #shuffles the input array\n",
    "    shuffle_output = outputs[r_idx]\n",
    "    ########### optional ends ###########\n",
    "    mini_batches = []\n",
    "    for i in range (0, inputs.shape[0], batch_size):\n",
    "        x = shuffle_input[i:i + batch_size, :]\n",
    "        y = shuffle_output[i:i + batch_size, :]\n",
    "        mini_batches.append([x, y])\n",
    "    return mini_batches"
   ]
  },
  {
   "cell_type": "markdown",
   "metadata": {
    "colab_type": "text",
    "id": "PMZPVNmY4JN5"
   },
   "source": [
    "### **FOR SINGLE HIDDEN LAYER**"
   ]
  },
  {
   "cell_type": "code",
   "execution_count": 13,
   "metadata": {
    "colab": {},
    "colab_type": "code",
    "id": "OxHBnjCgnt9R"
   },
   "outputs": [],
   "source": [
    "class NeuralNetwork:\n",
    "    def __init__(self, x, y, h):\n",
    "        self.inputLayerSize = x\n",
    "        self.outputLayerSize = y\n",
    "        self.hiddenLayerSize = h\n",
    "        self.weights_in_h = np.random.randn(x, h)  * sqrt(2.0/x)\n",
    "\n",
    "        self.weights_h_op = np.random.randn(h, y)  * sqrt(2.0/h)  \n",
    "\n",
    "        self.bias_1 = np.random.randn(h)\n",
    "        self.bias_2 = np.random.randn(y)\n",
    "        \n",
    "  \n",
    "    def feedForward(self, input_mat, activation_func):\n",
    "        \n",
    "        self.input_features = input_mat\n",
    "    \n",
    "        self.z2 = np.dot(input_mat, self.weights_in_h) + self.bias_1 #input to first hidden layer\n",
    "        \n",
    "        #output from first hidden layer\n",
    "        if activation_func == 'sigmoid':\n",
    "            self.a2 = self.sigmoid(self.z2)\n",
    "        elif activation_func == 'tanh':\n",
    "            self.a2 = np.tanh(self.z2)\n",
    "        elif activation_func == 'relu':\n",
    "            self.a2 = self.relu(self.z2)\n",
    "        self.z3 = np.dot(self.a2, self.weights_h_op) + self.bias_2 #h1 -> o/p layer input\n",
    "        y_pred = self.softmax(self.z3) #final output\n",
    "        return y_pred\n",
    "    \n",
    "    def sigmoid(self, z):\n",
    "        den = 1 + np.exp(-z)\n",
    "        return 1/den\n",
    "    \n",
    "    def relu(self,x):\n",
    "        return x * (x > 0)\n",
    "\n",
    "    def relu_prime(self,x):\n",
    "        return 1. * (x > 0)\n",
    "    \n",
    "    def saveWeights(self):\n",
    "        np.savetxt(\"w1.txt\", self.weights_in_h, fmt=\"%s\")\n",
    "        np.savetxt(\"w2.txt\", self.weights_h_op, fmt=\"%s\")\n",
    "        \n",
    "    def softmax(self,A):  \n",
    "        expA = np.exp(A)\n",
    "        return expA / expA.sum(axis=1, keepdims=True)\n",
    "\n",
    "    def backprop(self, y_pred, y_act, activation_func):\n",
    "      \n",
    "      #phase 1\n",
    "        cost_wrt_z3 = y_pred - y_act\n",
    "        z3_wrt_who = self.a2\n",
    "\n",
    "        cost_wrt_who = np.dot(z3_wrt_who.transpose(), cost_wrt_z3)\n",
    "        cost_wrt_bias2 = cost_wrt_z3\n",
    "\n",
    "      #phase 2\n",
    "\n",
    "        z3_wrt_a2 = self.weights_h_op\n",
    "        cost_wrt_a2 = np.dot(cost_wrt_z3, z3_wrt_a2.transpose())\n",
    "        if activation_func == \"sigmoid\":\n",
    "            a2_wrt_z2 = self.sigmoid(self.z2) * (1 - self.sigmoid(self.z2))\n",
    "        elif activation_func == \"tanh\":\n",
    "            a2_wrt_z2 = 1 - np.tanh(self.z2)**2\n",
    "        elif activation_func == 'relu':\n",
    "            a2_wrt_z2 = self.relu_prime(self.z2)\n",
    "        z2_wrt_wih = self.input_features\n",
    "\n",
    "        cost_wrt_wih = np.dot(z2_wrt_wih.transpose(), a2_wrt_z2 * cost_wrt_a2)\n",
    "        cost_wrt_bias1 = cost_wrt_a2 * a2_wrt_z2\n",
    "        return cost_wrt_wih, cost_wrt_bias1, cost_wrt_who, cost_wrt_bias2\n",
    "    \n",
    "    def updateWeights(self, cost_ih, cost_b1, cost_ho, cost_b2, alpha):\n",
    "        self.weights_in_h -= alpha * cost_ih\n",
    "        self.bias_1 -= alpha * cost_b1.sum(axis=0)\n",
    "        self.weights_h_op -= alpha * cost_ho\n",
    "        self.bias_2 -= alpha * cost_b2.sum(axis=0)\n",
    "        \n",
    "        \n",
    "    def loss(self, y_pred, y_act):\n",
    "        loss = np.sum(-y_act * np.log(y_pred))\n",
    "        print \":\", loss,\") \",\n",
    "        return loss\n",
    "    \n",
    "   "
   ]
  },
  {
   "cell_type": "markdown",
   "metadata": {},
   "source": [
    "### Function to train 'single' layer neural network"
   ]
  },
  {
   "cell_type": "code",
   "execution_count": null,
   "metadata": {
    "colab": {},
    "colab_type": "code",
    "id": "kLqdAXZ21JiP"
   },
   "outputs": [],
   "source": [
    "batchsize = 200 #divide the training set into mini batches, each of size <batchsize>"
   ]
  },
  {
   "cell_type": "code",
   "execution_count": null,
   "metadata": {
    "colab": {
     "base_uri": "https://localhost:8080/",
     "height": 1478
    },
    "colab_type": "code",
    "id": "_Djs8k75nt9b",
    "outputId": "2f13b078-3354-420b-a223-514624a5bd6b"
   },
   "outputs": [],
   "source": [
    "def trainSingle(hNeurons, iterations, alpha, function_name):\n",
    "    num_points_to_plot = 50\n",
    "    mod = ceil(iterations // num_points_to_plot)\n",
    "    if mod == 0:\n",
    "        mod = 1\n",
    "    err=[]\n",
    "    ep_list = []\n",
    "    \n",
    "    \n",
    "    ApparelNN = NeuralNetwork(cols - 1, classes, hNeurons)      \n",
    "\n",
    "\n",
    "    for i in range(iterations):\n",
    "        #make mini batches of the training set\n",
    "        mini_batches = makeMiniBatches(matrix, one_hot_labels, batchsize) \n",
    "        #returns a list of list: [ [ <i/p matrix of 1st mini batch>, <o/p matrix of 1st mini batch>], ... ]\n",
    "\n",
    "      #create empty matrices for all predictions and actual values\n",
    "        all_pred = np.array([])\n",
    "        all_act = np.array([])\n",
    "\n",
    "        for one_mini_batch in mini_batches:\n",
    "            inp = one_mini_batch[0]\n",
    "            out = one_mini_batch[1]\n",
    "\n",
    "            #prediction for this mini batch\n",
    "            if function_name == 'sigmoid':\n",
    "                y_hat = ApparelNN.feedForward(inp, 'sigmoid')\n",
    "\n",
    "                #do back propagation\n",
    "                c1, c2, c3, c4 = ApparelNN.backprop(y_hat, out, 'sigmoid')\n",
    "            elif function_name == 'tanh':\n",
    "                y_hat = ApparelNN.feedForward(inp, 'tanh')\n",
    "                c1, c2, c3, c4 = ApparelNN.backprop(y_hat, out, 'tanh')\n",
    "            elif function_name == 'relu':\n",
    "                y_hat = ApparelNN.feedForward(inp, 'relu')\n",
    "                c1, c2, c3, c4 = ApparelNN.backprop(y_hat, out, 'relu')\n",
    " \n",
    "            #update the weights\n",
    "            ApparelNN.updateWeights(c1, c2, c3, c4, alpha)\n",
    "\n",
    "            #concatenate prediction and actual to bigger matrix\n",
    "            all_pred = np.vstack([all_pred, y_hat]) if all_pred.size else y_hat\n",
    "            all_act = np.vstack([all_act, out]) if all_act.size else out\n",
    "\n",
    "        if i % mod == 0:\n",
    "            print \"(\",i,\n",
    "            ep_list.append(i)\n",
    "            err.append(ApparelNN.loss(all_pred, all_act))\n",
    "            print\n",
    "    plt.figure(figsize = (5,8))\n",
    "    plt.plot(ep_list, err)\n",
    "    return ApparelNN"
   ]
  },
  {
   "cell_type": "markdown",
   "metadata": {
    "colab_type": "text",
    "id": "Zx-sCkHp4by5"
   },
   "source": [
    "*SIGMOID 1 layer*"
   ]
  },
  {
   "cell_type": "code",
   "execution_count": null,
   "metadata": {},
   "outputs": [],
   "source": [
    "sigmoid_1 = trainSingle(100, 5, 0.001, 'sigmoid')"
   ]
  },
  {
   "cell_type": "code",
   "execution_count": null,
   "metadata": {
    "colab": {
     "base_uri": "https://localhost:8080/",
     "height": 34
    },
    "colab_type": "code",
    "id": "QjiQmS6Cv7Ku",
    "outputId": "328b22a6-df3a-4a6c-aee1-1c1754c76f38"
   },
   "outputs": [],
   "source": [
    "y_hat_validate = sigmoid_1.feedForward(validate_mat, 'sigmoid') #find prediction using feed forward"
   ]
  },
  {
   "cell_type": "markdown",
   "metadata": {},
   "source": [
    "#### Function to find classes of predicted probabilities"
   ]
  },
  {
   "cell_type": "code",
   "execution_count": 22,
   "metadata": {
    "colab": {
     "base_uri": "https://localhost:8080/",
     "height": 34
    },
    "colab_type": "code",
    "id": "QjiQmS6Cv7Ku",
    "outputId": "328b22a6-df3a-4a6c-aee1-1c1754c76f38"
   },
   "outputs": [],
   "source": [
    "def findClassesPred(prob_list):\n",
    "    pred_classes = []\n",
    "    rows = prob_list.shape[0]\n",
    "    for i in range(rows):  \n",
    "        label =prob_list[i].argmax() #assign the class whose value is maximum\n",
    "        pred_classes.append(label)\n",
    "    return pred_classes"
   ]
  },
  {
   "cell_type": "code",
   "execution_count": null,
   "metadata": {},
   "outputs": [],
   "source": [
    "validate_prediction = findClassesPred(y_hat_validate)"
   ]
  },
  {
   "cell_type": "markdown",
   "metadata": {},
   "source": [
    "#### Using Sklearn to find accuracy"
   ]
  },
  {
   "cell_type": "code",
   "execution_count": 21,
   "metadata": {
    "colab": {},
    "colab_type": "code",
    "id": "fbe5kzt_-QXb"
   },
   "outputs": [],
   "source": [
    "from sklearn.metrics import accuracy_score"
   ]
  },
  {
   "cell_type": "code",
   "execution_count": null,
   "metadata": {
    "colab": {
     "base_uri": "https://localhost:8080/",
     "height": 34
    },
    "colab_type": "code",
    "id": "4Nyt_tClyVsD",
    "outputId": "d9949a15-359f-48c1-c25b-9e7198b97892"
   },
   "outputs": [],
   "source": [
    "print 'Accuracy Score :',accuracy_score(validate_actual, validate_prediction) * 100"
   ]
  },
  {
   "cell_type": "markdown",
   "metadata": {
    "colab_type": "text",
    "id": "Zx-sCkHp4by5"
   },
   "source": [
    "*TANH 1 layer*"
   ]
  },
  {
   "cell_type": "code",
   "execution_count": null,
   "metadata": {},
   "outputs": [],
   "source": [
    "tanh_1 = trainSingle(100, 5, 0.001, 'tanh')"
   ]
  },
  {
   "cell_type": "code",
   "execution_count": null,
   "metadata": {
    "colab": {
     "base_uri": "https://localhost:8080/",
     "height": 166
    },
    "colab_type": "code",
    "id": "Nkl6bwN523D9",
    "outputId": "1a825676-5f8a-41e9-e185-f1ae53bce64f"
   },
   "outputs": [],
   "source": [
    "y_hat_validate = tanh_1.feedForward(validate_mat, 'tanh')"
   ]
  },
  {
   "cell_type": "code",
   "execution_count": null,
   "metadata": {
    "colab": {
     "base_uri": "https://localhost:8080/",
     "height": 34
    },
    "colab_type": "code",
    "id": "G0mBAQpp-EiJ",
    "outputId": "93d5ce1a-25e6-4d1f-e3a8-59567419e598"
   },
   "outputs": [],
   "source": [
    "validate_prediction = findClassesPred(y_hat_validate)"
   ]
  },
  {
   "cell_type": "code",
   "execution_count": null,
   "metadata": {
    "colab": {
     "base_uri": "https://localhost:8080/",
     "height": 34
    },
    "colab_type": "code",
    "id": "psyYVbQc-K9b",
    "outputId": "c74e0c8a-18dd-47a9-a98d-2e6cc3ba3a3f"
   },
   "outputs": [],
   "source": [
    "print 'Accuracy Score tanh :',accuracy_score(validate_actual, validate_prediction) * 100"
   ]
  },
  {
   "cell_type": "markdown",
   "metadata": {
    "colab_type": "text",
    "id": "Zx-sCkHp4by5"
   },
   "source": [
    "*ReLU 1 layer*"
   ]
  },
  {
   "cell_type": "code",
   "execution_count": null,
   "metadata": {},
   "outputs": [],
   "source": [
    "relu_1 = trainSingle(100, 5, 0.001, 'relu')"
   ]
  },
  {
   "cell_type": "code",
   "execution_count": null,
   "metadata": {
    "colab": {
     "base_uri": "https://localhost:8080/",
     "height": 166
    },
    "colab_type": "code",
    "id": "Nkl6bwN523D9",
    "outputId": "1a825676-5f8a-41e9-e185-f1ae53bce64f"
   },
   "outputs": [],
   "source": [
    "y_hat_validate = tanh_1.feedForward(validate_mat, 'relu')"
   ]
  },
  {
   "cell_type": "code",
   "execution_count": null,
   "metadata": {
    "colab": {
     "base_uri": "https://localhost:8080/",
     "height": 34
    },
    "colab_type": "code",
    "id": "G0mBAQpp-EiJ",
    "outputId": "93d5ce1a-25e6-4d1f-e3a8-59567419e598"
   },
   "outputs": [],
   "source": [
    "validate_prediction = findClassesPred(y_hat_validate)"
   ]
  },
  {
   "cell_type": "code",
   "execution_count": null,
   "metadata": {
    "colab": {
     "base_uri": "https://localhost:8080/",
     "height": 34
    },
    "colab_type": "code",
    "id": "psyYVbQc-K9b",
    "outputId": "c74e0c8a-18dd-47a9-a98d-2e6cc3ba3a3f"
   },
   "outputs": [],
   "source": [
    "print 'Accuracy Score relu :',accuracy_score(validate_actual, validate_prediction) * 100"
   ]
  },
  {
   "cell_type": "markdown",
   "metadata": {
    "colab_type": "text",
    "id": "PMZPVNmY4JN5"
   },
   "source": [
    "### **FOR MULTIPLE HIDDEN LAYER**"
   ]
  },
  {
   "cell_type": "code",
   "execution_count": 14,
   "metadata": {
    "colab": {},
    "colab_type": "code",
    "id": "f4Z1JGFdCE1n"
   },
   "outputs": [],
   "source": [
    "class NeuralNetworkMultiple:\n",
    "    def __init__(self, x, y, h, n):\n",
    "        self.inputLayerSize  = x\n",
    "        self.outputLayerSize = y \n",
    "        self.hiddenLayerSize = h #all hidden layers have same size\n",
    "        self.numHiddenLayers = n \n",
    "\n",
    "        self.weights = [] #list of numpy arrays\n",
    "        self.bias    = [] # \"same^\"\n",
    "\n",
    "        '''\n",
    "        i/p -> h0 -> h1 -> h2 -> o/p    n=3\n",
    "        w0    w1    w2    w3\n",
    "        '''\n",
    "\n",
    "        weights_in_h    = np.random.randn(x, h)  * sqrt(2.0/x) #w0\n",
    "        bias_1          = np.random.randn(h)\n",
    "\n",
    "        self.weights.append(weights_in_h)\n",
    "        self.bias.append(bias_1)\n",
    "\n",
    "        for layer in range(n-1):\n",
    "            weights_intermediate = np.random.randn(h, h)  * sqrt(2.0/h) #w1 to wn-1\n",
    "            bias_intermediate    = np.random.randn(h)\n",
    "            self.bias.append(bias_intermediate)\n",
    "            self.weights.append(weights_intermediate)\n",
    "\n",
    "        weights_h_op    = np.random.randn(h, y)  * sqrt(2.0/h)  #b/w last hidden and o/p\n",
    "        bias_2          = np.random.randn(y)\n",
    "\n",
    "        self.bias.append(bias_2)\n",
    "        self.weights.append(weights_h_op) #wn\n",
    "\n",
    "  \n",
    "    def feedForward(self, input_mat, activation_func):\n",
    "        self.input_features = input_mat\n",
    "        self.z2 = []\n",
    "        self.a2 = []\n",
    "\n",
    "        self.activation_func = activation_func\n",
    "        '''\n",
    "        w0         w1         w2         w3\n",
    "        i/p ------> h0 ------> h1 ------> h2 ------> o/p -->   n=3\n",
    "        z0    a0   z1    a1   z2   a2    z3   softmax\n",
    "        '''\n",
    "        z_0 = np.dot(input_mat, self.weights[0]) + self.bias[0] \n",
    "        self.z2.append(z_0)\n",
    "        if activation_func == 'sigmoid':\n",
    "            a_0  = self.sigmoid(z_0)\n",
    "        elif activation_func == 'tanh':\n",
    "            a_0 = np.tanh(z_0)\n",
    "        elif activation_func == 'relu':\n",
    "            a_0= self.relu(z_0)\n",
    "        self.a2.append(a_0)\n",
    "        num = self.numHiddenLayers-1\n",
    "\n",
    "        for layer in range(num): #0,1\n",
    "            z_intermediate = np.dot(self.a2[layer], self.weights[layer + 1]) + self.bias[layer + 1] \n",
    "            if activation_func == 'sigmoid':\n",
    "                a_intermediate = self.sigmoid(z_intermediate)\n",
    "            elif activation_func == 'tanh':\n",
    "                a_intermediate= np.tanh(z_intermediate)\n",
    "            elif activation_func == 'relu':\n",
    "                a_intermediate= self.relu(z_intermediate)\n",
    "            self.z2.append(z_intermediate)\n",
    "            self.a2.append(a_intermediate)\n",
    "        z_final = np.dot(self.a2[num], self.weights[num + 1]) + self.bias[num + 1]\n",
    "        self.z2.append(z_final)\n",
    "        y_pred = self.softmax(z_final) #final output\n",
    "\n",
    "        return y_pred\n",
    "    \n",
    "    def sigmoid(self, z):\n",
    "        den = 1 + np.exp(-z)\n",
    "        return 1/den\n",
    "\n",
    "    def relu(self,x):\n",
    "        return x * (x > 0)\n",
    "\n",
    "    def relu_prime(self,x):\n",
    "        return 1. * (x > 0)\n",
    "    \n",
    "    def softmax(self,A):  \n",
    "        expA = np.exp(A, dtype=np.float64)\n",
    "        return expA / expA.sum(axis=1, keepdims=True)\n",
    "\n",
    "    def backprop(self, y_pred, y_act, activation_func):\n",
    "        num = self.numHiddenLayers\n",
    "        \n",
    "        cost = y_pred - y_act\n",
    "        '''\n",
    "                 w0         w1         w2         w3\n",
    "        i/p <----- h0 <----- h1 <----- h2 <----- o/p <--   n=3\n",
    "                 z0    a0   z1    a1   z2   a2    z3   softmax\n",
    "        '''\n",
    "        weight_der = []\n",
    "        bias_der = []\n",
    "        for layer in range(num, 0, -1):\n",
    "\n",
    "            z3_wrt_who = self.a2[layer - 1]\n",
    "            weight_der.append( np.dot(z3_wrt_who.transpose(), cost) )\n",
    "            bias_der.append( np.average(cost, axis = 0))\n",
    "            cost = np.dot(cost, self.weights[layer].transpose())\n",
    "\n",
    "        if activation_func == \"sigmoid\":\n",
    "            cost *= self.sigmoid(z3_wrt_who) * self.sigmoid(1 - z3_wrt_who)\n",
    "        elif activation_func == \"tanh\":\n",
    "            cost *= 1 - np.tanh(z3_wrt_who)**2\n",
    "        elif activation_func == \"relu\":\n",
    "            cost *= self.relu_prime(z3_wrt_who)\n",
    "              \n",
    "        weight_der.append( np.dot(self.input_features.transpose(), cost))\n",
    "        bias_der.append( np.average(cost, axis = 0))\n",
    "     \n",
    "        weight_der = weight_der[::-1] \n",
    "        bias_der = bias_der[::-1]\n",
    "\n",
    "        return weight_der, bias_der\n",
    "    \n",
    "    def saveWeights(self):\n",
    "        \n",
    "        path = \"../output_data/\"\n",
    "        specs = self.activation_func + \"_\" + str(self.hiddenLayerSize) + \"_\" + str(self.numHiddenLayers)+\"_\"\n",
    "        wts_file = path + specs + \"weights.txt\"\n",
    "        bias_file = path + specs + \"bias.txt\"\n",
    "        \n",
    "        wtfile = open(wts_file, 'wb')\n",
    "        pickle.dump(self.weights, wtfile)\n",
    "        wtfile.close()\n",
    "        bfile = open(bias_file, 'wb')\n",
    "        pickle.dump(self.bias, bfile)\n",
    "        bfile.close\n",
    "    \n",
    "    def updateWeights(self, weight, bias, alpha):\n",
    "        num = self.numHiddenLayers\n",
    "\n",
    "        for layer in range(num+1):\n",
    "            self.weights[layer] -= alpha * weight[layer]\n",
    "            self.bias[layer] -= alpha * bias[layer].sum(axis=0)\n",
    "  \n",
    "    def loss(self, y_pred, y_act):\n",
    "        loss = np.sum(-y_act * np.log(y_pred))\n",
    "        print \":\", loss,\") \",\n",
    "        return loss\n",
    "    \n",
    "    def predict(self, input_mat, activation_func, weights, bias, numHiddenLayers):\n",
    "        self.input_features = input_mat\n",
    "        self.z2 = []\n",
    "        self.a2 = []\n",
    "\n",
    "        self.activation_func = activation_func\n",
    "        '''\n",
    "        w0         w1         w2         w3\n",
    "        i/p ------> h0 ------> h1 ------> h2 ------> o/p -->   n=3\n",
    "        z0    a0   z1    a1   z2   a2    z3   softmax\n",
    "        '''\n",
    "        z_0 = np.dot(input_mat, weights[0]) + bias[0] \n",
    "        self.z2.append(z_0)\n",
    "        if activation_func == 'sigmoid':\n",
    "            a_0  = self.sigmoid(z_0)\n",
    "        elif activation_func == 'tanh':\n",
    "            a_0 = np.tanh(z_0)\n",
    "        elif activation_func == 'relu':\n",
    "            a_0= self.relu(z_0)\n",
    "        self.a2.append(a_0)\n",
    "        num = numHiddenLayers-1\n",
    "\n",
    "        for layer in range(num): #0,1\n",
    "        #           print \"layer: \",layer\n",
    "            z_intermediate = np.dot(self.a2[layer], weights[layer + 1]) + bias[layer + 1] \n",
    "            if activation_func == 'sigmoid':\n",
    "                a_intermediate = self.sigmoid(z_intermediate)\n",
    "            elif activation_func == 'tanh':\n",
    "                a_intermediate= np.tanh(z_intermediate)\n",
    "            elif activation_func == 'relu':\n",
    "                a_intermediate= self.relu(z_intermediate)\n",
    "            self.z2.append(z_intermediate)\n",
    "            self.a2.append(a_intermediate)\n",
    "\n",
    "        z_final = np.dot(self.a2[num], weights[num + 1]) + bias[num + 1]\n",
    "        self.z2.append(z_final)\n",
    "        y_pred = self.softmax(z_final) #final output\n",
    "\n",
    "        return y_pred"
   ]
  },
  {
   "cell_type": "code",
   "execution_count": 15,
   "metadata": {
    "colab": {},
    "colab_type": "code",
    "id": "bn8ZrDctBHux"
   },
   "outputs": [],
   "source": [
    "batchsize = 32 #divide the training set into mini batches, each of size <batchsize>"
   ]
  },
  {
   "cell_type": "code",
   "execution_count": null,
   "metadata": {
    "colab": {},
    "colab_type": "code",
    "id": "Et-LNa-j9Tfp"
   },
   "outputs": [],
   "source": [
    "# layer_loss_tanh = []\n",
    "# layer_loss_sigmoid = []\n",
    "# layer_loss_relu = []"
   ]
  },
  {
   "cell_type": "markdown",
   "metadata": {},
   "source": [
    "### Function to train 'multiple' layer neural network"
   ]
  },
  {
   "cell_type": "code",
   "execution_count": 16,
   "metadata": {
    "colab": {},
    "colab_type": "code",
    "id": "Et-LNa-j9Tfp"
   },
   "outputs": [],
   "source": [
    "def trainNetwork(hNeurons, hiddenLayers, iterations, function_name, alpha):\n",
    "    num_points_to_plot = 50\n",
    "    mod = ceil(iterations // num_points_to_plot)\n",
    "    if mod == 0:\n",
    "        mod = 1\n",
    "    ep_list = [] \n",
    "    err = []\n",
    "    #initialize a NN with random weights\n",
    "    ApparelNN2 = NeuralNetworkMultiple(cols - 1, classes, hNeurons, hiddenLayers)      \n",
    "\n",
    "    for i in range(iterations):\n",
    "        if i % mod == 0:\n",
    "            print \"iter: \",i,\n",
    "        else:\n",
    "            print \"iter: \",i,\n",
    "    #make mini batches of the training set\n",
    "        mini_batches = makeMiniBatches(matrix, one_hot_labels, batchsize) \n",
    "    #returns a list of list: [ [ <i/p matrix of 1st mini batch>, <o/p matrix of 1st mini batch>], ... ]\n",
    "\n",
    "    #create empty matrices for all predictions and actual values\n",
    "        all_pred = np.array([])\n",
    "        all_act = np.array([])\n",
    "        mb = 0\n",
    "        for one_mini_batch in mini_batches:\n",
    "            mb += 1\n",
    "#             print \"mb: \", mb,\n",
    "            inp = one_mini_batch[0]\n",
    "            out = one_mini_batch[1]\n",
    "            \n",
    "            if function_name == 'tanh':\n",
    "                #prediction for this mini batch\n",
    "                y_hat = ApparelNN2.feedForward(inp, 'tanh')\n",
    "\n",
    "                #do back propagation\n",
    "                c1, c2 = ApparelNN2.backprop(y_hat, out, 'tanh')\n",
    "            elif function_name == 'sigmoid':\n",
    "                y_hat = ApparelNN2.feedForward(inp, 'sigmoid')\n",
    "                c1, c2 = ApparelNN2.backprop(y_hat, out, 'sigmoid')\n",
    "            elif function_name == 'relu':\n",
    "                y_hat = ApparelNN2.feedForward(inp, 'relu')\n",
    "                c1, c2 = ApparelNN2.backprop(y_hat, out, 'relu')\n",
    "                \n",
    "\n",
    "            #update the weights\n",
    "            ApparelNN2.updateWeights(c1, c2, alpha)\n",
    "\n",
    "            #concatenate prediction and actual to bigger matrix\n",
    "            all_pred = np.vstack([all_pred, y_hat]) if all_pred.size else y_hat\n",
    "            all_act = np.vstack([all_act, out]) if all_act.size else out\n",
    "\n",
    "        if i % mod == 0:\n",
    "            print \"(\",i,\n",
    "            ep_list.append(i)\n",
    "            err.append(ApparelNN2.loss(all_pred, all_act))\n",
    "            print\n",
    "    plt.figure(figsize = (8,6))\n",
    "    plt.plot(ep_list, err)\n",
    "    plt.grid(True)\n",
    "#     if function_name == 'tanh':\n",
    "#         layer_loss_tanh.append(err[-1])\n",
    "#     elif function_name == 'sigmoid':\n",
    "#         layer_loss_sigmoid.append(err[-1])\n",
    "#     elif function_name == 'relu':\n",
    "#         layer_loss_relu.append(err[-1])\n",
    "    \n",
    "\n",
    "    ApparelNN2.saveWeights()\n",
    "    return ApparelNN2"
   ]
  },
  {
   "cell_type": "markdown",
   "metadata": {},
   "source": [
    "### Task: Contrast the effect of using different activation functions on the validation data.Use ReLU, Sigmoid & Tanh as activation functions in the hidden layers"
   ]
  },
  {
   "cell_type": "markdown",
   "metadata": {},
   "source": [
    "*Tanh*"
   ]
  },
  {
   "cell_type": "code",
   "execution_count": 17,
   "metadata": {},
   "outputs": [],
   "source": [
    "function_name = 'tanh'"
   ]
  },
  {
   "cell_type": "code",
   "execution_count": 18,
   "metadata": {
    "colab": {
     "base_uri": "https://localhost:8080/",
     "height": 52
    },
    "colab_type": "code",
    "id": "8Dixeb1ixfaj",
    "outputId": "ccc28931-475c-4274-adea-7c80a2bb5916",
    "scrolled": false
   },
   "outputs": [
    {
     "name": "stdout",
     "output_type": "stream",
     "text": [
      "iter:  0 ( 0 : 23816.69397201646 ) \n",
      "iter:  1 ( 1 : 18573.67748532426 ) \n",
      "iter:  2 ( 2 : 17097.671730008817 ) \n",
      "iter:  3 ( 3 : 16068.334805656039 ) \n",
      "iter:  4 ( 4 : 15340.939904593472 ) \n"
     ]
    },
    {
     "data": {
      "image/png": "[encoded data removed]",
      "text/plain": [
       "<Figure size 576x432 with 1 Axes>"
      ]
     },
     "metadata": {
      "needs_background": "light"
     },
     "output_type": "display_data"
    }
   ],
   "source": [
    "ApparelNN2=trainNetwork(100, 1, 5, function_name, 0.001)"
   ]
  },
  {
   "cell_type": "code",
   "execution_count": 19,
   "metadata": {
    "colab": {
     "base_uri": "https://localhost:8080/",
     "height": 34
    },
    "colab_type": "code",
    "id": "gp1wzsj39TbP",
    "outputId": "75f1d620-e4e1-4fe0-9a47-9fea98de6686"
   },
   "outputs": [],
   "source": [
    "y_hat_validate = ApparelNN2.feedForward(validate_mat, function_name) #find prediction using feed forward"
   ]
  },
  {
   "cell_type": "code",
   "execution_count": 23,
   "metadata": {
    "colab": {
     "base_uri": "https://localhost:8080/",
     "height": 34
    },
    "colab_type": "code",
    "id": "gp1wzsj39TbP",
    "outputId": "75f1d620-e4e1-4fe0-9a47-9fea98de6686"
   },
   "outputs": [],
   "source": [
    "validate_prediction = findClassesPred(y_hat_validate)"
   ]
  },
  {
   "cell_type": "code",
   "execution_count": 24,
   "metadata": {
    "colab": {
     "base_uri": "https://localhost:8080/",
     "height": 52
    },
    "colab_type": "code",
    "id": "FRyI8AeHB6DH",
    "outputId": "2e46fd76-5c65-4da9-db9f-ca97ad9b5375"
   },
   "outputs": [
    {
     "name": "stdout",
     "output_type": "stream",
     "text": [
      "Accuracy Score Tanh : 87.075\n"
     ]
    }
   ],
   "source": [
    "print 'Accuracy Score Tanh :',accuracy_score(validate_actual, validate_prediction) * 100"
   ]
  },
  {
   "cell_type": "markdown",
   "metadata": {},
   "source": [
    "*Sigmoid*"
   ]
  },
  {
   "cell_type": "code",
   "execution_count": 25,
   "metadata": {},
   "outputs": [],
   "source": [
    "function_name = 'sigmoid'"
   ]
  },
  {
   "cell_type": "code",
   "execution_count": 28,
   "metadata": {
    "colab": {
     "base_uri": "https://localhost:8080/",
     "height": 52
    },
    "colab_type": "code",
    "id": "8Dixeb1ixfaj",
    "outputId": "ccc28931-475c-4274-adea-7c80a2bb5916",
    "scrolled": false
   },
   "outputs": [
    {
     "name": "stdout",
     "output_type": "stream",
     "text": [
      "iter:  0"
     ]
    },
    {
     "name": "stderr",
     "output_type": "stream",
     "text": [
      "/usr/local/lib/python2.7/dist-packages/ipykernel_launcher.py:74: RuntimeWarning: overflow encountered in exp\n"
     ]
    },
    {
     "name": "stdout",
     "output_type": "stream",
     "text": [
      " ( 0 : 34317.48547939117 ) \n",
      "iter:  1 ( 1 : 29742.15281866989 ) \n",
      "iter:  2 ( 2 : 28668.71117771229 ) \n",
      "iter:  3 ( 3 : 28809.815876992652 ) \n",
      "iter:  4 ( 4 : 29100.870141534324 ) \n"
     ]
    },
    {
     "data": {
      "image/png": "[encoded data removed]",
      "text/plain": [
       "<Figure size 576x432 with 1 Axes>"
      ]
     },
     "metadata": {
      "needs_background": "light"
     },
     "output_type": "display_data"
    }
   ],
   "source": [
    "ApparelNN2=trainNetwork(50, 2, 5, function_name, 0.04)"
   ]
  },
  {
   "cell_type": "code",
   "execution_count": 29,
   "metadata": {
    "colab": {
     "base_uri": "https://localhost:8080/",
     "height": 34
    },
    "colab_type": "code",
    "id": "gp1wzsj39TbP",
    "outputId": "75f1d620-e4e1-4fe0-9a47-9fea98de6686"
   },
   "outputs": [
    {
     "name": "stderr",
     "output_type": "stream",
     "text": [
      "/usr/local/lib/python2.7/dist-packages/ipykernel_launcher.py:74: RuntimeWarning: overflow encountered in exp\n"
     ]
    }
   ],
   "source": [
    "y_hat_validate = ApparelNN2.feedForward(validate_mat, function_name) #find prediction using feed forward"
   ]
  },
  {
   "cell_type": "code",
   "execution_count": 30,
   "metadata": {
    "colab": {
     "base_uri": "https://localhost:8080/",
     "height": 34
    },
    "colab_type": "code",
    "id": "gp1wzsj39TbP",
    "outputId": "75f1d620-e4e1-4fe0-9a47-9fea98de6686"
   },
   "outputs": [],
   "source": [
    "validate_prediction = findClassesPred(y_hat_validate)"
   ]
  },
  {
   "cell_type": "code",
   "execution_count": 31,
   "metadata": {
    "colab": {
     "base_uri": "https://localhost:8080/",
     "height": 52
    },
    "colab_type": "code",
    "id": "FRyI8AeHB6DH",
    "outputId": "2e46fd76-5c65-4da9-db9f-ca97ad9b5375"
   },
   "outputs": [
    {
     "name": "stdout",
     "output_type": "stream",
     "text": [
      "Accuracy Score Sigmoid : 77.80833333333334\n"
     ]
    }
   ],
   "source": [
    "print 'Accuracy Score Sigmoid :',accuracy_score(validate_actual, validate_prediction) * 100"
   ]
  },
  {
   "cell_type": "markdown",
   "metadata": {},
   "source": [
    "*ReLU*"
   ]
  },
  {
   "cell_type": "code",
   "execution_count": 32,
   "metadata": {},
   "outputs": [],
   "source": [
    "function_name = 'relu'\n",
    "batchsize = 250"
   ]
  },
  {
   "cell_type": "code",
   "execution_count": 33,
   "metadata": {
    "colab": {
     "base_uri": "https://localhost:8080/",
     "height": 52
    },
    "colab_type": "code",
    "id": "8Dixeb1ixfaj",
    "outputId": "ccc28931-475c-4274-adea-7c80a2bb5916",
    "scrolled": false
   },
   "outputs": [
    {
     "name": "stdout",
     "output_type": "stream",
     "text": [
      "iter:  0 ( 0 : 29406.971884125716 ) \n",
      "iter:  1 ( 1 : 20501.945512023245 ) \n",
      "iter:  2 ( 2 : 18685.70828853157 ) \n",
      "iter:  3 ( 3 : 17440.235725282746 ) \n",
      "iter:  4 ( 4 : 16589.931759829902 ) \n"
     ]
    },
    {
     "data": {
      "image/png": "[encoded data removed]",
      "text/plain": [
       "<Figure size 576x432 with 1 Axes>"
      ]
     },
     "metadata": {
      "needs_background": "light"
     },
     "output_type": "display_data"
    }
   ],
   "source": [
    "ApparelNN2=trainNetwork(50, 2, 5, function_name, 0.0004)"
   ]
  },
  {
   "cell_type": "code",
   "execution_count": 34,
   "metadata": {
    "colab": {
     "base_uri": "https://localhost:8080/",
     "height": 34
    },
    "colab_type": "code",
    "id": "gp1wzsj39TbP",
    "outputId": "75f1d620-e4e1-4fe0-9a47-9fea98de6686"
   },
   "outputs": [],
   "source": [
    "y_hat_validate = ApparelNN2.feedForward(validate_mat, function_name) #find prediction using feed forward"
   ]
  },
  {
   "cell_type": "code",
   "execution_count": 35,
   "metadata": {
    "colab": {
     "base_uri": "https://localhost:8080/",
     "height": 34
    },
    "colab_type": "code",
    "id": "gp1wzsj39TbP",
    "outputId": "75f1d620-e4e1-4fe0-9a47-9fea98de6686"
   },
   "outputs": [],
   "source": [
    "validate_prediction = findClassesPred(y_hat_validate)"
   ]
  },
  {
   "cell_type": "code",
   "execution_count": 36,
   "metadata": {
    "colab": {
     "base_uri": "https://localhost:8080/",
     "height": 52
    },
    "colab_type": "code",
    "id": "FRyI8AeHB6DH",
    "outputId": "2e46fd76-5c65-4da9-db9f-ca97ad9b5375"
   },
   "outputs": [
    {
     "name": "stdout",
     "output_type": "stream",
     "text": [
      "Accuracy Score Relu : 86.50833333333333\n"
     ]
    }
   ],
   "source": [
    "print 'Accuracy Score Relu :',accuracy_score(validate_actual, validate_prediction) * 100"
   ]
  },
  {
   "cell_type": "markdown",
   "metadata": {},
   "source": [
    "- The following lists of loss are for 100 hidden nodes, 1-5 hidden layers, 512 batch size 0.001 alpha\n",
    "    - While playing with the NN, these values may get overwritten, hence storing them."
   ]
  },
  {
   "cell_type": "code",
   "execution_count": 37,
   "metadata": {},
   "outputs": [],
   "source": [
    "layer_loss_sigmoid = [20004.229911252827, 22245.46818591282, 29106.456564960947, 71177.26299006863, 87759.93031340423]\n",
    "layer_loss_tanh = [16890.989598702894, 17693.14611468205, 18923.397562868773, 27107.700656488792, 45557.1123712116]"
   ]
  },
  {
   "cell_type": "markdown",
   "metadata": {},
   "source": [
    "### Task: Play with your neural network to report the best performing architecture forthe given task.  Also, include the activation function, loss function used in the report"
   ]
  },
  {
   "cell_type": "markdown",
   "metadata": {},
   "source": [
    "    function name | hidden layers | hidden nodes | batchsize | iter     | alpha    | accuracy\n",
    "    -    sigmoid           1                38            512       5       0.001     81.7\n",
    "    -    sigmoid           1               100            512       5       0.01      82.6\n",
    "    -    sigmoid           1               100            512       5       0.001     84.85\n",
    "    -    tanh              1                38            512       5       0.001     85.4\n",
    "    -    tanh              1               100            512       5       0.001     86.64\n",
    "    -    tanh              1               100            512       5       0.01      79.325\n",
    "    -    tanh              1                64             32       5       0.001     86.0\n",
    "    -    relu              1                32              8       5       0.001     85.4\n",
    "    -    sigmoid           2                19            512       5       0.001     67.6\n",
    "    -    sigmoid           2                50            512       5       0.001     80.125\n",
    "    -    tanh              2                19            512       5       0.001     79.8\n",
    "    -    tanh              2                50            512       5       0.001     84.8\n",
    "    -    tanh              2                32             40       5       0.002     83.2\n",
    "    -    relu              2               100             40       5       0.001     54.9\n",
    "    -    sigmoid           3               100             40       5       0.005     82.75\n",
    "    -    sigmoid           3                50             34       5       0.01      77.70\n",
    "    -    tanh              3                64             32       5       0.001     84.0\n",
    "    -    tanh              3                64           1024       5       0.001     76.2\n",
    "    -    relu              3                50            250       5       0.00001   79.2\n",
    "    -    relu              4                50            250       5       0.00001   80.15\n",
    "    -    tanh              4                50            250       5       0.00001   69.01"
   ]
  },
  {
   "cell_type": "markdown",
   "metadata": {},
   "source": [
    "#### Function to plot loss vs layer"
   ]
  },
  {
   "cell_type": "markdown",
   "metadata": {},
   "source": [
    "--> While running Relu activation function, different learning rates give divide by zero exception, hence nan as output."
   ]
  },
  {
   "cell_type": "code",
   "execution_count": 38,
   "metadata": {},
   "outputs": [],
   "source": [
    "def plot(ysigmoid, ytanh):\n",
    "    x = [1,2,3,4,5]\n",
    "    fig, ax = plt.subplots(figsize = (8,6))\n",
    "\n",
    "    ax.plot(x, ysigmoid, label=\"sigmoid\")\n",
    "    ax.plot(x, ytanh, label=\"tanh\")\n",
    "    ax.legend(loc=2) # upper left corner\n",
    "    ax.set_xlabel('layer')\n",
    "    ax.set_ylabel('loss')\n",
    "    ax.set_title('loss vs layer')\n",
    "    ax.grid(True)"
   ]
  },
  {
   "cell_type": "markdown",
   "metadata": {},
   "source": [
    "### Task: Report how the number of layers affects the performances of the model.  Plot number of layers vs prediction loss graph"
   ]
  },
  {
   "cell_type": "code",
   "execution_count": 39,
   "metadata": {},
   "outputs": [
    {
     "data": {
      "image/png": "[encoded data removed]",
      "text/plain": [
       "<Figure size 576x432 with 1 Axes>"
      ]
     },
     "metadata": {
      "needs_background": "light"
     },
     "output_type": "display_data"
    }
   ],
   "source": [
    "plot(layer_loss_sigmoid, layer_loss_tanh)"
   ]
  },
  {
   "cell_type": "markdown",
   "metadata": {},
   "source": [
    "### TESTING"
   ]
  },
  {
   "cell_type": "code",
   "execution_count": 40,
   "metadata": {},
   "outputs": [],
   "source": [
    "test = pd.read_csv('../input_data/Apparel/apparel-test.csv')"
   ]
  },
  {
   "cell_type": "code",
   "execution_count": 41,
   "metadata": {},
   "outputs": [],
   "source": [
    "test = standardise(test)"
   ]
  },
  {
   "cell_type": "code",
   "execution_count": null,
   "metadata": {},
   "outputs": [],
   "source": [
    "# print \"shape; \",test.shape\n",
    "# print \"cols: \",test.columns"
   ]
  },
  {
   "cell_type": "code",
   "execution_count": 42,
   "metadata": {},
   "outputs": [],
   "source": [
    "path = \"../output_data/\"\n",
    "specs = 'tanh' + \"_\" + str(100) + \"_\" + str(1)+\"_\"\n",
    "wts_file = path + specs + \"weights.txt\"\n",
    "bias_file = path + specs + \"bias.txt\"\n",
    "\n",
    "wtfile = open(wts_file, 'rb')\n",
    "weights = pickle.load(wtfile)\n",
    "wtfile.close()\n",
    "\n",
    "\n",
    "bfile = open(bias_file, 'rb')\n",
    "bias = pickle.load(bfile)\n",
    "bfile.close()"
   ]
  },
  {
   "cell_type": "code",
   "execution_count": 43,
   "metadata": {},
   "outputs": [],
   "source": [
    "test_mat = makeX(test)"
   ]
  },
  {
   "cell_type": "code",
   "execution_count": 44,
   "metadata": {},
   "outputs": [],
   "source": [
    "test_predict = ApparelNN2.predict(test_mat, 'tanh', weights, bias, 1)"
   ]
  },
  {
   "cell_type": "code",
   "execution_count": 45,
   "metadata": {
    "colab": {
     "base_uri": "https://localhost:8080/",
     "height": 34
    },
    "colab_type": "code",
    "id": "gp1wzsj39TbP",
    "outputId": "75f1d620-e4e1-4fe0-9a47-9fea98de6686"
   },
   "outputs": [],
   "source": [
    "test_prediction = findClassesPred(test_predict)"
   ]
  },
  {
   "cell_type": "code",
   "execution_count": 46,
   "metadata": {},
   "outputs": [],
   "source": [
    "import csv\n",
    "\n",
    "with open('../output_data/2018202010_prediction.csv', 'wb') as to_write:\n",
    "    wr = csv.writer(to_write, delimiter = '\\n')\n",
    "    wr.writerow(test_prediction)"
   ]
  }
 ],
 "metadata": {
  "accelerator": "GPU",
  "colab": {
   "collapsed_sections": [],
   "name": "q-1.ipynb",
   "provenance": [],
   "version": "0.3.2"
  },
  "kernelspec": {
   "display_name": "Python 2",
   "language": "python",
   "name": "python2"
  },
  "language_info": {
   "codemirror_mode": {
    "name": "ipython",
    "version": 2
   },
   "file_extension": ".py",
   "mimetype": "text/x-python",
   "name": "python",
   "nbconvert_exporter": "python",
   "pygments_lexer": "ipython2",
   "version": "2.7.12"
  }
 },
 "nbformat": 4,
 "nbformat_minor": 1
}
