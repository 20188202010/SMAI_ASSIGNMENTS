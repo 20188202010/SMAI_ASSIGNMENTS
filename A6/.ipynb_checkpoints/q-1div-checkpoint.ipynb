{
 "cells": [
  {
   "cell_type": "code",
   "execution_count": 251,
   "metadata": {},
   "outputs": [],
   "source": [
    "import pandas as pd\n",
    "import numpy as np\n",
    "from math import sqrt\n",
    "import matplotlib.image as mpimg\n",
    "import matplotlib.pyplot as plt"
   ]
  },
  {
   "cell_type": "code",
   "execution_count": 252,
   "metadata": {},
   "outputs": [],
   "source": [
    "input_img = mpimg.imread('./img.png')    "
   ]
  },
  {
   "cell_type": "code",
   "execution_count": 253,
   "metadata": {},
   "outputs": [
    {
     "data": {
      "image/png": "[encoded data removed]",
      "text/plain": [
       "<Figure size 288x432 with 1 Axes>"
      ]
     },
     "metadata": {
      "needs_background": "light"
     },
     "output_type": "display_data"
    },
    {
     "name": "stdout",
     "output_type": "stream",
     "text": [
      "(32, 32, 4)\n"
     ]
    }
   ],
   "source": [
    "def display_image(image):\n",
    "    fig, ax = plt.subplots(figsize = (4,6))\n",
    "    plt.imshow(image)\n",
    "    plt.show()    \n",
    "display_image(input_img)  \n",
    "print (input_img.shape)"
   ]
  },
  {
   "cell_type": "code",
   "execution_count": 254,
   "metadata": {},
   "outputs": [
    {
     "data": {
      "image/png": "[encoded data removed]",
      "text/plain": [
       "<Figure size 288x432 with 1 Axes>"
      ]
     },
     "metadata": {
      "needs_background": "light"
     },
     "output_type": "display_data"
    },
    {
     "name": "stdout",
     "output_type": "stream",
     "text": [
      "(32, 32, 4)\n",
      "(32, 32)\n"
     ]
    }
   ],
   "source": [
    "def convert_rgb_to_grey(image):\n",
    "    rgb_values = image[...,:3]\n",
    "    grey_list = [0.299, 0.587, 0.114]\n",
    "    return np.dot(rgb_values,grey_list)\n",
    "grey_image = convert_rgb_to_grey(input_img) \n",
    "display_image(grey_image)\n",
    "print (input_img.shape)\n",
    "print (grey_image.shape)"
   ]
  },
  {
   "cell_type": "code",
   "execution_count": 255,
   "metadata": {},
   "outputs": [
    {
     "name": "stdout",
     "output_type": "stream",
     "text": [
      "1\n",
      "(32, 32)\n",
      "(1, 32, 32)\n"
     ]
    }
   ],
   "source": [
    "pixel_list = [grey_image]\n",
    "no_of_pixels = len(pixel_list)\n",
    "print (no_of_pixels)\n",
    "print (pixel_list[0].shape)\n",
    "depth = no_of_pixels\n",
    "rows = pixel_list[0].shape[0]\n",
    "cols = pixel_list[0].shape[1]\n",
    "conv_input_img = np.zeros((depth, rows, cols))\n",
    "conv_input_img[0,:,:] = pixel_list[0]\n",
    "print (conv_input_img.shape)\n",
    "# print (conv_input_img)"
   ]
  },
  {
   "cell_type": "markdown",
   "metadata": {},
   "source": [
    "# Convolutions"
   ]
  },
  {
   "cell_type": "code",
   "execution_count": 256,
   "metadata": {},
   "outputs": [],
   "source": [
    "def create_filters(num_of_filters,depth):\n",
    "    filter_list = []\n",
    "    weights = 5\n",
    "    parameter = 5\n",
    "    for i in range(0,num_of_filters):\n",
    "        temp_filter = np.random.randn(depth,weights,parameter)\n",
    "        filter_list.append(temp_filter)\n",
    "    return filter_list,num_of_filters\n",
    "filters= create_filters(6,1)[0]\n",
    "# print (filters)"
   ]
  },
  {
   "cell_type": "code",
   "execution_count": 257,
   "metadata": {},
   "outputs": [],
   "source": [
    "def image_parts(image,part_len,d,row,col):\n",
    "    no_filter_move = row-part_len+1\n",
    "    img_part_list = []\n",
    "    for i in range(0,no_filter_move):\n",
    "        for j in range(0,no_filter_move):\n",
    "            img_part_list.append(image[:,i:i+part_len,j:j+part_len])\n",
    "    return img_part_list\n",
    "depth = conv_input_img.shape[0]\n",
    "rows = conv_input_img.shape[1]\n",
    "cols = conv_input_img.shape[2]\n",
    "parts_img = image_parts(conv_input_img,5,depth,rows,cols)\n",
    "# print (parts_img)"
   ]
  },
  {
   "cell_type": "code",
   "execution_count": 258,
   "metadata": {},
   "outputs": [],
   "source": [
    "def convolution(sub_image_matrices,filter_,n,bias):\n",
    "    r,c = 0,0\n",
    "    convolution_res = np.zeros((n,n))\n",
    "#     print (\"n is \",n)\n",
    "    for i in range(len(sub_image_matrices)):\n",
    "        mul = np.multiply(sub_image_matrices[i],filter_)\n",
    "#         print (\"After multiply \",mul)\n",
    "#         print (\"sum is \",mul.sum())\n",
    "        convolution_res[r][c] = mul.sum()\n",
    "        c=c+1\n",
    "        if c==n:\n",
    "            c=0\n",
    "            r=r+1\n",
    "    return (convolution_res+bias)        "
   ]
  },
  {
   "cell_type": "code",
   "execution_count": 259,
   "metadata": {},
   "outputs": [
    {
     "name": "stdout",
     "output_type": "stream",
     "text": [
      "28\n",
      "('no of feature maps ', 6)\n",
      "('feature map shape', (28, 28))\n"
     ]
    }
   ],
   "source": [
    "feature_maps=[]\n",
    "no_submatrix = len(parts_img)\n",
    "res_n = int(sqrt(no_submatrix)) \n",
    "print (res_n)\n",
    "for i in filters:\n",
    "    bias = np.random.randn(res_n,res_n)\n",
    "    temp_feature_map = convolution(parts_img,i,res_n,bias)\n",
    "    feature_maps.append(temp_feature_map)\n",
    "print (\"no of feature maps \",len(feature_maps))  \n",
    "print (\"feature map shape\",feature_maps[0].shape)"
   ]
  },
  {
   "cell_type": "markdown",
   "metadata": {},
   "source": [
    "#Convert into Non linear "
   ]
  },
  {
   "cell_type": "code",
   "execution_count": 260,
   "metadata": {},
   "outputs": [],
   "source": [
    "def relu(x):\n",
    "    return x * (x > 0)\n",
    "def sigmoid(x):  \n",
    "    return 1/(1+np.exp(-x))"
   ]
  },
  {
   "cell_type": "code",
   "execution_count": 261,
   "metadata": {},
   "outputs": [],
   "source": [
    "def Nonlinear(func_name,feature_map):\n",
    "    if func_name == 'relu':\n",
    "        feature_map = relu(feature_map)\n",
    "    elif func_name == 'tanh':\n",
    "        feature_map = np.tanh(feature_map)\n",
    "    return feature_map    "
   ]
  },
  {
   "cell_type": "code",
   "execution_count": 262,
   "metadata": {},
   "outputs": [
    {
     "name": "stdout",
     "output_type": "stream",
     "text": [
      "('type', <type 'list'>, 'len:', 6, 'shape[0]:', (28, 28))\n",
      "('type', <type 'list'>, 'len:', 6, 'shape[0]:', (28, 28))\n",
      "('type', <type 'list'>, 'len:', 6, 'shape[0]:', (28, 28))\n"
     ]
    }
   ],
   "source": [
    "new_feature_maps_tan = []\n",
    "new_feature_maps_relu = []\n",
    "new_feature_maps_sigmoid = []\n",
    "for feature in feature_maps:\n",
    "    temp_tan = Nonlinear('tanh',feature)\n",
    "    temp_relu = Nonlinear('relu',feature)\n",
    "    temp_sig = sigmoid(feature)\n",
    "    new_feature_maps_tan.append(temp_tan)\n",
    "    new_feature_maps_relu.append(temp_relu)\n",
    "    new_feature_maps_sigmoid.append(temp_sig)\n",
    "# print (new_feature_maps) \n",
    "print (\"type\",type(new_feature_maps_tan),\"len:\",len(new_feature_maps_tan),\"shape[0]:\", new_feature_maps_tan[0].shape)\n",
    "print (\"type\",type(new_feature_maps_relu),\"len:\",len(new_feature_maps_relu),\"shape[0]:\", new_feature_maps_relu[0].shape)\n",
    "print (\"type\",type(new_feature_maps_sigmoid),\"len:\",len(new_feature_maps_sigmoid),\"shape[0]:\", new_feature_maps_sigmoid[0].shape)"
   ]
  },
  {
   "cell_type": "code",
   "execution_count": 263,
   "metadata": {},
   "outputs": [],
   "source": [
    "def display_sub_matrix(depth,rows,cols,mat):\n",
    "    row, col = 0, 0\n",
    "    f, axarr = plt.subplots(rows, cols, figsize=(6,8))    \n",
    "    for d in mat:\n",
    "        axarr[row,col].imshow(d)\n",
    "        col += 1\n",
    "        if col == cols:\n",
    "            col = 0\n",
    "            row = row + 1          \n",
    "    "
   ]
  },
  {
   "cell_type": "code",
   "execution_count": 264,
   "metadata": {},
   "outputs": [
    {
     "name": "stdout",
     "output_type": "stream",
     "text": [
      "6\n",
      "(28, 28)\n",
      "(6, 28, 28)\n"
     ]
    },
    {
     "data": {
      "image/png": "[encoded data removed]",
      "text/plain": [
       "<Figure size 432x576 with 6 Axes>"
      ]
     },
     "metadata": {
      "needs_background": "light"
     },
     "output_type": "display_data"
    }
   ],
   "source": [
    "#for tan\n",
    "#converting into 6*28*28\n",
    "no_of_pixels = len(new_feature_maps_tan)\n",
    "print (no_of_pixels)\n",
    "print (new_feature_maps_tan[0].shape)\n",
    "depth = no_of_pixels\n",
    "rows = new_feature_maps_tan[0].shape[0]\n",
    "cols = new_feature_maps_tan[0].shape[1]\n",
    "subsample_input_img_tan = np.zeros((depth, rows, cols))\n",
    "subsample_input_img_tan[0,:,:] = new_feature_maps_tan[0]\n",
    "print (subsample_input_img_tan.shape)\n",
    "# print (conv_input_img)\n",
    "d = subsample_input_img_tan.shape[0]\n",
    "r = 2\n",
    "c = d // r\n",
    "display_sub_matrix(d,r,c,subsample_input_img_tan)"
   ]
  },
  {
   "cell_type": "code",
   "execution_count": 265,
   "metadata": {},
   "outputs": [
    {
     "name": "stdout",
     "output_type": "stream",
     "text": [
      "6\n",
      "(28, 28)\n",
      "(6, 28, 28)\n"
     ]
    },
    {
     "data": {
      "image/png": "[encoded data removed]",
      "text/plain": [
       "<Figure size 432x576 with 6 Axes>"
      ]
     },
     "metadata": {
      "needs_background": "light"
     },
     "output_type": "display_data"
    }
   ],
   "source": [
    "#for relu\n",
    "#converting into 6*28*28\n",
    "no_of_pixels = len(new_feature_maps_relu)\n",
    "print (no_of_pixels)\n",
    "print (new_feature_maps_relu[0].shape)\n",
    "depth = no_of_pixels\n",
    "rows = new_feature_maps_relu[0].shape[0]\n",
    "cols = new_feature_maps_relu[0].shape[1]\n",
    "subsample_input_img_relu = np.zeros((depth, rows, cols))\n",
    "subsample_input_img_relu[0,:,:] = new_feature_maps_relu[0]\n",
    "print (subsample_input_img_relu.shape)\n",
    "# print (conv_input_img)\n",
    "d = subsample_input_img_relu.shape[0]\n",
    "r = 2\n",
    "c = d // r\n",
    "display_sub_matrix(d,r,c,subsample_input_img_relu)"
   ]
  },
  {
   "cell_type": "code",
   "execution_count": 266,
   "metadata": {},
   "outputs": [
    {
     "name": "stdout",
     "output_type": "stream",
     "text": [
      "6\n",
      "(28, 28)\n",
      "(6, 28, 28)\n"
     ]
    },
    {
     "data": {
      "image/png": "[encoded data removed]",
      "text/plain": [
       "<Figure size 432x576 with 6 Axes>"
      ]
     },
     "metadata": {
      "needs_background": "light"
     },
     "output_type": "display_data"
    }
   ],
   "source": [
    "#for sigmoid\n",
    "#converting into 6*28*28\n",
    "no_of_pixels = len(new_feature_maps_sigmoid)\n",
    "print (no_of_pixels)\n",
    "print (new_feature_maps_sigmoid[0].shape)\n",
    "depth = no_of_pixels\n",
    "rows = new_feature_maps_sigmoid[0].shape[0]\n",
    "cols = new_feature_maps_sigmoid[0].shape[1]\n",
    "subsample_input_img_sigmoid = np.zeros((depth, rows, cols))\n",
    "subsample_input_img_sigmoid[0,:,:] = new_feature_maps_sigmoid[0]\n",
    "print (subsample_input_img_sigmoid.shape)\n",
    "# print (conv_input_img)\n",
    "d = subsample_input_img_sigmoid.shape[0]\n",
    "r = 2\n",
    "c = d // r\n",
    "display_sub_matrix(d,r,c,subsample_input_img_sigmoid)"
   ]
  },
  {
   "cell_type": "markdown",
   "metadata": {},
   "source": [
    "# subsampling"
   ]
  },
  {
   "cell_type": "code",
   "execution_count": 267,
   "metadata": {},
   "outputs": [],
   "source": [
    "def subsample_maxpool(matrix,size,rows):\n",
    "    row, col = 0,0\n",
    "    new_matrix = np.zeros((size,size))    \n",
    "    for i in range(0,rows,2):\n",
    "        for j in range(0,rows,2): \n",
    "            temp = (matrix[i: i + 2, j : j + 2]).max() \n",
    "            new_matrix[row][col] = temp        \n",
    "            col += 1\n",
    "            if col == size:\n",
    "                row = row+ 1\n",
    "                col = 0                            \n",
    "    return new_matrix"
   ]
  },
  {
   "cell_type": "code",
   "execution_count": 268,
   "metadata": {},
   "outputs": [
    {
     "name": "stdout",
     "output_type": "stream",
     "text": [
      "('type ', <type 'list'>, 'len: ', 6, 'shape[0]', (14, 14))\n"
     ]
    }
   ],
   "source": [
    "#tanh\n",
    "max_pool_list_tan = []\n",
    "for convolution_1 in subsample_input_img_tan:\n",
    "    rows = convolution_1.shape[1]\n",
    "    n = int(rows/2)\n",
    "    max_pool_list_tan.append(subsample_maxpool(convolution_1,n,rows))\n",
    "print (\"type \",  type(max_pool_list_tan), \"len: \",len(max_pool_list_tan), \"shape[0]\", max_pool_list_tan[0].shape)    "
   ]
  },
  {
   "cell_type": "code",
   "execution_count": 269,
   "metadata": {},
   "outputs": [
    {
     "name": "stdout",
     "output_type": "stream",
     "text": [
      "('type ', <type 'list'>, 'len: ', 6, 'shape[0]', (14, 14))\n"
     ]
    }
   ],
   "source": [
    "#relu\n",
    "max_pool_list_relu = []\n",
    "for convolution_1 in subsample_input_img_relu:\n",
    "    rows = convolution_1.shape[1]\n",
    "    n = int(rows/2)\n",
    "    max_pool_list_relu.append(subsample_maxpool(convolution_1,n,rows))\n",
    "print (\"type \",  type(max_pool_list_relu), \"len: \",len(max_pool_list_relu), \"shape[0]\", max_pool_list_relu[0].shape)    "
   ]
  },
  {
   "cell_type": "code",
   "execution_count": 270,
   "metadata": {},
   "outputs": [
    {
     "name": "stdout",
     "output_type": "stream",
     "text": [
      "('type ', <type 'list'>, 'len: ', 6, 'shape[0]', (14, 14))\n"
     ]
    }
   ],
   "source": [
    "#sigmoid\n",
    "max_pool_list_sigmoid= []\n",
    "for convolution_1 in subsample_input_img_sigmoid:\n",
    "    rows = convolution_1.shape[1]\n",
    "    n = int(rows/2)\n",
    "    max_pool_list_sigmoid.append(subsample_maxpool(convolution_1,n,rows))\n",
    "print (\"type \",  type(max_pool_list_sigmoid), \"len: \",len(max_pool_list_sigmoid), \"shape[0]\", max_pool_list_sigmoid[0].shape)    "
   ]
  },
  {
   "cell_type": "code",
   "execution_count": 271,
   "metadata": {},
   "outputs": [
    {
     "name": "stdout",
     "output_type": "stream",
     "text": [
      "6\n",
      "(14, 14)\n",
      "(6, 14, 14)\n"
     ]
    },
    {
     "data": {
      "image/png": "[encoded data removed]",
      "text/plain": [
       "<Figure size 432x576 with 6 Axes>"
      ]
     },
     "metadata": {
      "needs_background": "light"
     },
     "output_type": "display_data"
    }
   ],
   "source": [
    "#TANH\n",
    "#converting into cube of 6*14*14\n",
    "no_of_pixels = len(max_pool_list_tan)\n",
    "print (no_of_pixels)\n",
    "print (max_pool_list_tan[0].shape)\n",
    "depth = no_of_pixels\n",
    "rows = max_pool_list_tan[0].shape[0]\n",
    "cols = max_pool_list_tan[0].shape[1]\n",
    "con2_input_img_tan = np.zeros((depth, rows, cols))\n",
    "con2_input_img_tan[0,:,:] = max_pool_list_tan[0]\n",
    "print (con2_input_img_tan.shape)\n",
    "d = con2_input_img_tan.shape[0]\n",
    "r = 2\n",
    "c = d // r\n",
    "display_sub_matrix(d,r,c,con2_input_img_tan)"
   ]
  },
  {
   "cell_type": "code",
   "execution_count": 272,
   "metadata": {},
   "outputs": [
    {
     "name": "stdout",
     "output_type": "stream",
     "text": [
      "6\n",
      "(14, 14)\n",
      "(6, 14, 14)\n"
     ]
    },
    {
     "data": {
      "image/png": "[encoded data removed]",
      "text/plain": [
       "<Figure size 432x576 with 6 Axes>"
      ]
     },
     "metadata": {
      "needs_background": "light"
     },
     "output_type": "display_data"
    }
   ],
   "source": [
    "#RELU\n",
    "#converting into cube of 6*14*14\n",
    "no_of_pixels = len(max_pool_list_relu)\n",
    "print (no_of_pixels)\n",
    "print (max_pool_list_relu[0].shape)\n",
    "depth = no_of_pixels\n",
    "rows = max_pool_list_relu[0].shape[0]\n",
    "cols = max_pool_list_relu[0].shape[1]\n",
    "con2_input_img_relu = np.zeros((depth, rows, cols))\n",
    "con2_input_img_relu[0,:,:] = max_pool_list_relu[0]\n",
    "print (con2_input_img_relu.shape)\n",
    "d = con2_input_img_relu.shape[0]\n",
    "r = 2\n",
    "c = d // r\n",
    "display_sub_matrix(d,r,c,con2_input_img_relu)"
   ]
  },
  {
   "cell_type": "code",
   "execution_count": 273,
   "metadata": {},
   "outputs": [
    {
     "name": "stdout",
     "output_type": "stream",
     "text": [
      "6\n",
      "(14, 14)\n",
      "(6, 14, 14)\n"
     ]
    },
    {
     "data": {
      "image/png": "[encoded data removed]",
      "text/plain": [
       "<Figure size 432x576 with 6 Axes>"
      ]
     },
     "metadata": {
      "needs_background": "light"
     },
     "output_type": "display_data"
    }
   ],
   "source": [
    "#Sigmoid\n",
    "#converting into cube of 6*14*14\n",
    "no_of_pixels = len(max_pool_list_sigmoid)\n",
    "print (no_of_pixels)\n",
    "print (max_pool_list_sigmoid[0].shape)\n",
    "depth = no_of_pixels\n",
    "rows = max_pool_list_sigmoid[0].shape[0]\n",
    "cols = max_pool_list_sigmoid[0].shape[1]\n",
    "con2_input_img_sigmoid = np.zeros((depth, rows, cols))\n",
    "con2_input_img_sigmoid[0,:,:] = max_pool_list_sigmoid[0]\n",
    "print (con2_input_img_sigmoid.shape)\n",
    "d = con2_input_img_sigmoid.shape[0]\n",
    "r = 2\n",
    "c = d // r\n",
    "display_sub_matrix(d,r,c,con2_input_img_sigmoid)"
   ]
  },
  {
   "cell_type": "markdown",
   "metadata": {},
   "source": [
    "# Convolution2"
   ]
  },
  {
   "cell_type": "code",
   "execution_count": 274,
   "metadata": {},
   "outputs": [
    {
     "name": "stdout",
     "output_type": "stream",
     "text": [
      "('type', <type 'list'>)\n",
      "('length', 16)\n",
      "('shape', (6, 5, 5))\n"
     ]
    }
   ],
   "source": [
    "#creating filters----depth=16,numbers=6\n",
    "filters= create_filters(16,6)[0]\n",
    "print (\"type\",type(filters))\n",
    "print (\"length\",len(filters))\n",
    "print (\"shape\",filters[0].shape)"
   ]
  },
  {
   "cell_type": "code",
   "execution_count": 275,
   "metadata": {},
   "outputs": [
    {
     "name": "stdout",
     "output_type": "stream",
     "text": [
      "('type', <type 'list'>)\n",
      "('length', 100)\n",
      "('shape', (6, 5, 5))\n"
     ]
    }
   ],
   "source": [
    "#TANH\n",
    "#creating sub matrices\n",
    "depth = con2_input_img_tan.shape[0]\n",
    "rows = con2_input_img_tan.shape[1]\n",
    "cols = con2_input_img_tan.shape[2]\n",
    "parts_img_tan = image_parts(con2_input_img_tan,5,depth,rows,cols)\n",
    "# print (parts_img)\n",
    "print (\"type\",type(parts_img_tan))\n",
    "print (\"length\",len(parts_img_tan))\n",
    "print (\"shape\",parts_img_tan[0].shape)"
   ]
  },
  {
   "cell_type": "code",
   "execution_count": 276,
   "metadata": {},
   "outputs": [
    {
     "name": "stdout",
     "output_type": "stream",
     "text": [
      "('type', <type 'list'>)\n",
      "('length', 100)\n",
      "('shape', (6, 5, 5))\n"
     ]
    }
   ],
   "source": [
    "#RELU\n",
    "#creating sub matrices\n",
    "depth = con2_input_img_relu.shape[0]\n",
    "rows = con2_input_img_relu.shape[1]\n",
    "cols = con2_input_img_relu.shape[2]\n",
    "parts_img_relu = image_parts(con2_input_img_relu,5,depth,rows,cols)\n",
    "# print (parts_img)\n",
    "print (\"type\",type(parts_img_relu))\n",
    "print (\"length\",len(parts_img_relu))\n",
    "print (\"shape\",parts_img_relu[0].shape)"
   ]
  },
  {
   "cell_type": "code",
   "execution_count": 277,
   "metadata": {},
   "outputs": [
    {
     "name": "stdout",
     "output_type": "stream",
     "text": [
      "('type', <type 'list'>)\n",
      "('length', 100)\n",
      "('shape', (6, 5, 5))\n"
     ]
    }
   ],
   "source": [
    "#SIGMOID\n",
    "#creating sub matrices\n",
    "depth = con2_input_img_sigmoid.shape[0]\n",
    "rows = con2_input_img_sigmoid.shape[1]\n",
    "cols = con2_input_img_sigmoid.shape[2]\n",
    "parts_img_sigmoid = image_parts(con2_input_img_sigmoid,5,depth,rows,cols)\n",
    "# print (parts_img)\n",
    "print (\"type\",type(parts_img_sigmoid))\n",
    "print (\"length\",len(parts_img_sigmoid))\n",
    "print (\"shape\",parts_img_sigmoid[0].shape)"
   ]
  },
  {
   "cell_type": "code",
   "execution_count": 278,
   "metadata": {},
   "outputs": [
    {
     "name": "stdout",
     "output_type": "stream",
     "text": [
      "10\n",
      "('no of feature maps ', 16)\n",
      "('feature map shape', (10, 10))\n"
     ]
    }
   ],
   "source": [
    "#TANH\n",
    "feature_maps3_tan=[]\n",
    "no_submatrix = len(parts_img_tan)\n",
    "res_n = int(sqrt(no_submatrix)) \n",
    "print (res_n)\n",
    "for i in filters:\n",
    "    bias = np.random.randn(res_n,res_n)\n",
    "    temp_feature_map_tan = convolution(parts_img_tan,i,res_n,bias)\n",
    "    feature_maps3_tan.append(temp_feature_map_tan)\n",
    "print (\"no of feature maps \",len(feature_maps3_tan))  \n",
    "print (\"feature map shape\",feature_maps3_tan[0].shape)"
   ]
  },
  {
   "cell_type": "code",
   "execution_count": 279,
   "metadata": {},
   "outputs": [
    {
     "name": "stdout",
     "output_type": "stream",
     "text": [
      "10\n",
      "('no of feature maps ', 16)\n",
      "('feature map shape', (10, 10))\n"
     ]
    }
   ],
   "source": [
    "#RELU\n",
    "feature_maps3_relu=[]\n",
    "no_submatrix = len(parts_img_relu)\n",
    "res_n = int(sqrt(no_submatrix)) \n",
    "print (res_n)\n",
    "for i in filters:\n",
    "    bias = np.random.randn(res_n,res_n)\n",
    "    temp_feature_map_relu = convolution(parts_img_relu,i,res_n,bias)\n",
    "    feature_maps3_relu.append(temp_feature_map_relu)\n",
    "print (\"no of feature maps \",len(feature_maps3_relu))  \n",
    "print (\"feature map shape\",feature_maps3_relu[0].shape)"
   ]
  },
  {
   "cell_type": "code",
   "execution_count": 280,
   "metadata": {},
   "outputs": [
    {
     "name": "stdout",
     "output_type": "stream",
     "text": [
      "10\n",
      "('no of feature maps ', 16)\n",
      "('feature map shape', (10, 10))\n"
     ]
    }
   ],
   "source": [
    "#SIGMOID\n",
    "feature_maps3_sigmoid=[]\n",
    "no_submatrix = len(parts_img_sigmoid)\n",
    "res_n = int(sqrt(no_submatrix)) \n",
    "print (res_n)\n",
    "for i in filters:\n",
    "    bias = np.random.randn(res_n,res_n)\n",
    "    temp_feature_map_sigmoid = convolution(parts_img_sigmoid,i,res_n,bias)\n",
    "    feature_maps3_sigmoid.append(temp_feature_map_sigmoid)\n",
    "print (\"no of feature maps \",len(feature_maps3_sigmoid))  \n",
    "print (\"feature map shape\",feature_maps3_sigmoid[0].shape)"
   ]
  },
  {
   "cell_type": "markdown",
   "metadata": {},
   "source": [
    "# Apply non linearity"
   ]
  },
  {
   "cell_type": "code",
   "execution_count": 281,
   "metadata": {},
   "outputs": [
    {
     "name": "stdout",
     "output_type": "stream",
     "text": [
      "('type', <type 'list'>)\n",
      "('len:', 16)\n",
      "('shape:', (10, 10))\n"
     ]
    }
   ],
   "source": [
    "#TANH\n",
    "new_feature_maps3_tan = []\n",
    "for feature in feature_maps3_tan:\n",
    "    temp = Nonlinear('tanh',feature)\n",
    "    new_feature_maps3_tan.append(temp)\n",
    "print (\"type\",type(new_feature_maps3_tan))\n",
    "print (\"len:\",len(new_feature_maps3_tan))\n",
    "print (\"shape:\", new_feature_maps3_tan[0].shape)"
   ]
  },
  {
   "cell_type": "code",
   "execution_count": 282,
   "metadata": {},
   "outputs": [
    {
     "name": "stdout",
     "output_type": "stream",
     "text": [
      "('type', <type 'list'>)\n",
      "('len:', 16)\n",
      "('shape:', (10, 10))\n"
     ]
    }
   ],
   "source": [
    "#RELU\n",
    "new_feature_maps3_relu = []\n",
    "for feature in feature_maps3_relu:\n",
    "    temp = Nonlinear('tanh',feature)\n",
    "    new_feature_maps3_relu.append(temp)\n",
    "print (\"type\",type(new_feature_maps3_relu))\n",
    "print (\"len:\",len(new_feature_maps3_relu))\n",
    "print (\"shape:\", new_feature_maps3_relu[0].shape)"
   ]
  },
  {
   "cell_type": "code",
   "execution_count": 283,
   "metadata": {},
   "outputs": [
    {
     "name": "stdout",
     "output_type": "stream",
     "text": [
      "('type', <type 'list'>)\n",
      "('len:', 16)\n",
      "('shape:', (10, 10))\n"
     ]
    }
   ],
   "source": [
    "#Sigmoid\n",
    "new_feature_maps3_sigmoid = []\n",
    "for feature in feature_maps3_sigmoid:\n",
    "    temp = Nonlinear('tanh',feature)\n",
    "    new_feature_maps3_sigmoid.append(temp)\n",
    "print (\"type\",type(new_feature_maps3_sigmoid))\n",
    "print (\"len:\",len(new_feature_maps3_sigmoid))\n",
    "print (\"shape:\", new_feature_maps3_sigmoid[0].shape)"
   ]
  },
  {
   "cell_type": "code",
   "execution_count": 284,
   "metadata": {},
   "outputs": [
    {
     "name": "stdout",
     "output_type": "stream",
     "text": [
      "16\n",
      "(10, 10)\n",
      "(16, 10, 10)\n"
     ]
    },
    {
     "data": {
      "image/png": "[encoded data removed]",
      "text/plain": [
       "<Figure size 432x576 with 16 Axes>"
      ]
     },
     "metadata": {
      "needs_background": "light"
     },
     "output_type": "display_data"
    }
   ],
   "source": [
    "#TANH\n",
    "#converting into cube of 16*10*10\n",
    "no_of_pixels = len(new_feature_maps3_tan)\n",
    "print (no_of_pixels)\n",
    "print (new_feature_maps3_tan[0].shape)\n",
    "depth = no_of_pixels\n",
    "rows = new_feature_maps3_tan[0].shape[0]\n",
    "cols = new_feature_maps3_tan[0].shape[1]\n",
    "con2_res_tan = np.zeros((depth, rows, cols))\n",
    "con2_res_tan[0,:,:] = new_feature_maps3_tan[0]\n",
    "print (con2_res_tan.shape)\n",
    "d = con2_res_tan.shape[0]\n",
    "r = 2\n",
    "c = d // r\n",
    "display_sub_matrix(d,r,c,con2_res_tan)"
   ]
  },
  {
   "cell_type": "code",
   "execution_count": 285,
   "metadata": {},
   "outputs": [
    {
     "name": "stdout",
     "output_type": "stream",
     "text": [
      "16\n",
      "(10, 10)\n",
      "(16, 10, 10)\n"
     ]
    },
    {
     "data": {
      "image/png": "[encoded data removed]",
      "text/plain": [
       "<Figure size 432x576 with 16 Axes>"
      ]
     },
     "metadata": {
      "needs_background": "light"
     },
     "output_type": "display_data"
    }
   ],
   "source": [
    "#RELU\n",
    "#converting into cube of 16*10*10\n",
    "no_of_pixels = len(new_feature_maps3_relu)\n",
    "print (no_of_pixels)\n",
    "print (new_feature_maps3_relu[0].shape)\n",
    "depth = no_of_pixels\n",
    "rows = new_feature_maps3_relu[0].shape[0]\n",
    "cols = new_feature_maps3_relu[0].shape[1]\n",
    "con2_res_relu = np.zeros((depth, rows, cols))\n",
    "con2_res_relu[0,:,:] = new_feature_maps3_relu[0]\n",
    "print (con2_res_relu.shape)\n",
    "d = con2_res_relu.shape[0]\n",
    "r = 2\n",
    "c = d // r\n",
    "display_sub_matrix(d,r,c,con2_res_relu)"
   ]
  },
  {
   "cell_type": "code",
   "execution_count": 286,
   "metadata": {},
   "outputs": [
    {
     "name": "stdout",
     "output_type": "stream",
     "text": [
      "16\n",
      "(10, 10)\n",
      "(16, 10, 10)\n"
     ]
    },
    {
     "data": {
      "image/png": "[encoded data removed]",
      "text/plain": [
       "<Figure size 432x576 with 16 Axes>"
      ]
     },
     "metadata": {
      "needs_background": "light"
     },
     "output_type": "display_data"
    }
   ],
   "source": [
    "#Sigmoid\n",
    "#converting into cube of 16*10*10\n",
    "no_of_pixels = len(new_feature_maps3_sigmoid)\n",
    "print (no_of_pixels)\n",
    "print (new_feature_maps3_sigmoid[0].shape)\n",
    "depth = no_of_pixels\n",
    "rows = new_feature_maps3_sigmoid[0].shape[0]\n",
    "cols = new_feature_maps3_sigmoid[0].shape[1]\n",
    "con2_res_sigmoid = np.zeros((depth, rows, cols))\n",
    "con2_res_sigmoid[0,:,:] = new_feature_maps3_sigmoid[0]\n",
    "print (con2_res_sigmoid.shape)\n",
    "d = con2_res_sigmoid.shape[0]\n",
    "r = 2\n",
    "c = d // r\n",
    "display_sub_matrix(d,r,c,con2_res_sigmoid)"
   ]
  },
  {
   "cell_type": "markdown",
   "metadata": {},
   "source": [
    "# subsampling"
   ]
  },
  {
   "cell_type": "code",
   "execution_count": 287,
   "metadata": {},
   "outputs": [
    {
     "name": "stdout",
     "output_type": "stream",
     "text": [
      "('type', <type 'list'>)\n",
      "('len:', 16)\n",
      "('shape:', (5, 5))\n"
     ]
    }
   ],
   "source": [
    "#TANH\n",
    "max_pool_list2_tan = []\n",
    "for convolution_1 in con2_res_tan:\n",
    "    rows = convolution_1.shape[1]\n",
    "    n = int(rows/2)\n",
    "    max_pool_list2_tan.append(subsample_maxpool(convolution_1,n,rows))\n",
    "print (\"type\",type(max_pool_list2_tan))\n",
    "print (\"len:\",len(max_pool_list2_tan))\n",
    "print (\"shape:\", max_pool_list2_tan[0].shape) "
   ]
  },
  {
   "cell_type": "code",
   "execution_count": 288,
   "metadata": {},
   "outputs": [
    {
     "name": "stdout",
     "output_type": "stream",
     "text": [
      "('type', <type 'list'>)\n",
      "('len:', 16)\n",
      "('shape:', (5, 5))\n"
     ]
    }
   ],
   "source": [
    "#RELU\n",
    "max_pool_list2_relu = []\n",
    "for convolution_1 in con2_res_relu:\n",
    "    rows = convolution_1.shape[1]\n",
    "    n = int(rows/2)\n",
    "    max_pool_list2_relu.append(subsample_maxpool(convolution_1,n,rows))\n",
    "print (\"type\",type(max_pool_list2_relu))\n",
    "print (\"len:\",len(max_pool_list2_relu))\n",
    "print (\"shape:\", max_pool_list2_relu[0].shape) "
   ]
  },
  {
   "cell_type": "code",
   "execution_count": 289,
   "metadata": {},
   "outputs": [
    {
     "name": "stdout",
     "output_type": "stream",
     "text": [
      "('type', <type 'list'>)\n",
      "('len:', 16)\n",
      "('shape:', (5, 5))\n"
     ]
    }
   ],
   "source": [
    "#RELU\n",
    "max_pool_list2_sigmoid = []\n",
    "for convolution_1 in con2_res_sigmoid:\n",
    "    rows = convolution_1.shape[1]\n",
    "    n = int(rows/2)\n",
    "    max_pool_list2_sigmoid.append(subsample_maxpool(convolution_1,n,rows))\n",
    "print (\"type\",type(max_pool_list2_sigmoid))\n",
    "print (\"len:\",len(max_pool_list2_sigmoid))\n",
    "print (\"shape:\", max_pool_list2_sigmoid[0].shape) "
   ]
  },
  {
   "cell_type": "code",
   "execution_count": 290,
   "metadata": {},
   "outputs": [
    {
     "name": "stdout",
     "output_type": "stream",
     "text": [
      "16\n",
      "(5, 5)\n",
      "(16, 5, 5)\n"
     ]
    },
    {
     "data": {
      "image/png": "[encoded data removed]",
      "text/plain": [
       "<Figure size 432x576 with 16 Axes>"
      ]
     },
     "metadata": {
      "needs_background": "light"
     },
     "output_type": "display_data"
    }
   ],
   "source": [
    "#TANH\n",
    "#converting into cube of 16*5*5\n",
    "no_of_pixels = len(max_pool_list2_tan)\n",
    "print (no_of_pixels)\n",
    "print (max_pool_list2_tan[0].shape)\n",
    "depth = no_of_pixels\n",
    "rows = max_pool_list2_tan[0].shape[0]\n",
    "cols = max_pool_list2_tan[0].shape[1]\n",
    "s4_feature_maps_tan = np.zeros((depth, rows, cols))\n",
    "s4_feature_maps_tan[0,:,:] = max_pool_list2_tan[0]\n",
    "print (s4_feature_maps_tan.shape)\n",
    "d = s4_feature_maps_tan.shape[0]\n",
    "r = 2\n",
    "c = d // r\n",
    "display_sub_matrix(d,r,c,s4_feature_maps_tan)"
   ]
  },
  {
   "cell_type": "code",
   "execution_count": 291,
   "metadata": {},
   "outputs": [
    {
     "name": "stdout",
     "output_type": "stream",
     "text": [
      "16\n",
      "(5, 5)\n",
      "(16, 5, 5)\n"
     ]
    },
    {
     "data": {
      "image/png": "[encoded data removed]",
      "text/plain": [
       "<Figure size 432x576 with 16 Axes>"
      ]
     },
     "metadata": {
      "needs_background": "light"
     },
     "output_type": "display_data"
    }
   ],
   "source": [
    "#RELU\n",
    "#converting into cube of 16*5*5\n",
    "no_of_pixels = len(max_pool_list2_relu)\n",
    "print (no_of_pixels)\n",
    "print (max_pool_list2_relu[0].shape)\n",
    "depth = no_of_pixels\n",
    "rows = max_pool_list2_relu[0].shape[0]\n",
    "cols = max_pool_list2_relu[0].shape[1]\n",
    "s4_feature_maps_relu = np.zeros((depth, rows, cols))\n",
    "s4_feature_maps_relu[0,:,:] = max_pool_list2_relu[0]\n",
    "print (s4_feature_maps_relu.shape)\n",
    "d = s4_feature_maps_relu.shape[0]\n",
    "r = 2\n",
    "c = d // r\n",
    "display_sub_matrix(d,r,c,s4_feature_maps_relu)"
   ]
  },
  {
   "cell_type": "code",
   "execution_count": 292,
   "metadata": {},
   "outputs": [
    {
     "name": "stdout",
     "output_type": "stream",
     "text": [
      "16\n",
      "(5, 5)\n",
      "(16, 5, 5)\n"
     ]
    },
    {
     "data": {
      "image/png": "[encoded data removed]",
      "text/plain": [
       "<Figure size 432x576 with 16 Axes>"
      ]
     },
     "metadata": {
      "needs_background": "light"
     },
     "output_type": "display_data"
    }
   ],
   "source": [
    "#SIGMOID\n",
    "#converting into cube of 16*5*5\n",
    "no_of_pixels = len(max_pool_list2_sigmoid)\n",
    "print (no_of_pixels)\n",
    "print (max_pool_list2_sigmoid[0].shape)\n",
    "depth = no_of_pixels\n",
    "rows = max_pool_list2_sigmoid[0].shape[0]\n",
    "cols = max_pool_list2_sigmoid[0].shape[1]\n",
    "s4_feature_maps_sigmoid = np.zeros((depth, rows, cols))\n",
    "s4_feature_maps_sigmoid[0,:,:] = max_pool_list2_sigmoid[0]\n",
    "print (s4_feature_maps_sigmoid.shape)\n",
    "d = s4_feature_maps_sigmoid.shape[0]\n",
    "r = 2\n",
    "c = d // r\n",
    "display_sub_matrix(d,r,c,s4_feature_maps_sigmoid)"
   ]
  },
  {
   "cell_type": "markdown",
   "metadata": {},
   "source": [
    "# creating C5 layer"
   ]
  },
  {
   "cell_type": "code",
   "execution_count": 293,
   "metadata": {},
   "outputs": [],
   "source": [
    "def flatten_fmap(feature_map):\n",
    "    temp = np.array([])\n",
    "    for i in range(0,16):\n",
    "        one_d = np.ndarray.flatten(feature_map[i,:,:])\n",
    "        if temp.size:\n",
    "            temp = np.hstack([temp, one_d])\n",
    "        else:\n",
    "            temp = one_d\n",
    "    return temp "
   ]
  },
  {
   "cell_type": "code",
   "execution_count": 294,
   "metadata": {},
   "outputs": [],
   "source": [
    "filters = create_filters(120,16)[0]"
   ]
  },
  {
   "cell_type": "code",
   "execution_count": 295,
   "metadata": {},
   "outputs": [
    {
     "name": "stdout",
     "output_type": "stream",
     "text": [
      "('type', <type 'list'>)\n",
      "('length', 1)\n",
      "('shape', (16, 5, 5))\n"
     ]
    }
   ],
   "source": [
    "#TANH\n",
    "#creating sub matrices\n",
    "depth = s4_feature_maps_tan.shape[0]\n",
    "rows = s4_feature_maps_tan.shape[1]\n",
    "cols = s4_feature_maps_tan.shape[2]\n",
    "parts_img_tan = image_parts(s4_feature_maps_tan,5,depth,rows,cols)\n",
    "# print (parts_img)\n",
    "print (\"type\",type(parts_img_tan))\n",
    "print (\"length\",len(parts_img_tan))\n",
    "print (\"shape\",parts_img_tan[0].shape)"
   ]
  },
  {
   "cell_type": "code",
   "execution_count": 317,
   "metadata": {},
   "outputs": [
    {
     "name": "stdout",
     "output_type": "stream",
     "text": [
      "('type', <type 'list'>)\n",
      "('length', 1)\n",
      "('shape', (16, 5, 5))\n"
     ]
    }
   ],
   "source": [
    "#relu\n",
    "#creating sub matrices\n",
    "depth = s4_feature_maps_relu.shape[0]\n",
    "rows = s4_feature_maps_relu.shape[1]\n",
    "cols = s4_feature_maps_relu.shape[2]\n",
    "parts_img_relu = image_parts(s4_feature_maps_relu,5,depth,rows,cols)\n",
    "# print (parts_img)\n",
    "print (\"type\",type(parts_img_relu))\n",
    "print (\"length\",len(parts_img_relu))\n",
    "print (\"shape\",parts_img_relu[0].shape)"
   ]
  },
  {
   "cell_type": "code",
   "execution_count": 318,
   "metadata": {},
   "outputs": [
    {
     "name": "stdout",
     "output_type": "stream",
     "text": [
      "('type', <type 'list'>)\n",
      "('length', 1)\n",
      "('shape', (16, 5, 5))\n"
     ]
    }
   ],
   "source": [
    "#sigmoid\n",
    "#creating sub matrices\n",
    "depth = s4_feature_maps_sigmoid.shape[0]\n",
    "rows = s4_feature_maps_sigmoid.shape[1]\n",
    "cols = s4_feature_maps_sigmoid.shape[2]\n",
    "parts_img_sigmoid = image_parts(s4_feature_maps_sigmoid,5,depth,rows,cols)\n",
    "# print (parts_img)\n",
    "print (\"type\",type(parts_img_sigmoid))\n",
    "print (\"length\",len(parts_img_sigmoid))\n",
    "print (\"shape\",parts_img_sigmoid[0].shape)"
   ]
  },
  {
   "cell_type": "code",
   "execution_count": 296,
   "metadata": {},
   "outputs": [
    {
     "name": "stdout",
     "output_type": "stream",
     "text": [
      "1\n",
      "('no of feature maps ', 120)\n",
      "('feature map shape', (1, 1))\n"
     ]
    }
   ],
   "source": [
    "#TANH\n",
    "t_s4_feature_maps_tan=[]\n",
    "no_submatrix = len(parts_img_tan)\n",
    "res_n = int(sqrt(no_submatrix)) \n",
    "print (res_n)\n",
    "for i in filters:\n",
    "    bias = np.random.randn(res_n,res_n)\n",
    "    temp_feature_map_tan = convolution(parts_img_tan,i,res_n,bias)\n",
    "#     print (temp_feature_map_tan.shape)\n",
    "    t_s4_feature_maps_tan.append(temp_feature_map_tan)\n",
    "print (\"no of feature maps \",len(t_s4_feature_maps_tan))  \n",
    "print (\"feature map shape\",t_s4_feature_maps_tan[0].shape)"
   ]
  },
  {
   "cell_type": "code",
   "execution_count": null,
   "metadata": {},
   "outputs": [],
   "source": [
    "#relu\n",
    "t_s4_feature_maps_relu=[]\n",
    "no_submatrix = len(parts_img_relu)\n",
    "res_n = int(sqrt(no_submatrix)) \n",
    "print (res_n)\n",
    "for i in filters:\n",
    "    bias = np.random.randn(res_n,res_n)\n",
    "    temp_feature_map_tan = convolution(parts_img_tan,i,res_n,bias)\n",
    "#     print (temp_feature_map_tan.shape)\n",
    "    t_s4_feature_maps_relu.append(temp_feature_map_tan)\n",
    "print (\"no of feature maps \",len(t_s4_feature_maps_relu))  \n",
    "print (\"feature map shape\",t_s4_feature_maps_relu[0].shape)"
   ]
  },
  {
   "cell_type": "code",
   "execution_count": null,
   "metadata": {},
   "outputs": [],
   "source": [
    "#TANH\n",
    "t_s4_feature_maps_tan=[]\n",
    "no_submatrix = len(parts_img_tan)\n",
    "res_n = int(sqrt(no_submatrix)) \n",
    "print (res_n)\n",
    "for i in filters:\n",
    "    bias = np.random.randn(res_n,res_n)\n",
    "    temp_feature_map_tan = convolution(parts_img_tan,i,res_n,bias)\n",
    "#     print (temp_feature_map_tan.shape)\n",
    "    t_s4_feature_maps_tan.append(temp_feature_map_tan)\n",
    "print (\"no of feature maps \",len(t_s4_feature_maps_tan))  \n",
    "print (\"feature map shape\",t_s4_feature_maps_tan[0].shape)"
   ]
  },
  {
   "cell_type": "code",
   "execution_count": 297,
   "metadata": {},
   "outputs": [
    {
     "name": "stdout",
     "output_type": "stream",
     "text": [
      "('type', <type 'list'>)\n",
      "('len:', 120)\n",
      "('shape:', (1, 1))\n"
     ]
    }
   ],
   "source": [
    "#TANH\n",
    "input_c5_tan = []\n",
    "for feature in t_s4_feature_maps_tan:\n",
    "    temp = Nonlinear('tanh',feature)\n",
    "    input_c5_tan.append(temp)\n",
    "print (\"type\",type(input_c5_tan))\n",
    "print (\"len:\",len(input_c5_tan))\n",
    "print (\"shape:\", input_c5_tan[0].shape)"
   ]
  },
  {
   "cell_type": "code",
   "execution_count": 298,
   "metadata": {},
   "outputs": [
    {
     "name": "stdout",
     "output_type": "stream",
     "text": [
      "TEMP:  120\n"
     ]
    }
   ],
   "source": [
    "#TANH\n",
    "c5_layer_tan = np.array([])\n",
    "for i in range(len(input_c5_tan)):\n",
    "    fl = np.ndarray.flatten(input_c5_tan[i][:,:])\n",
    "    c5_layer_tan = np.hstack([c5_layer_tan, fl]) if c5_layer_tan.size else fl\n",
    "print \"TEMP: \",len(c5_layer_tan)"
   ]
  },
  {
   "cell_type": "code",
   "execution_count": 299,
   "metadata": {},
   "outputs": [
    {
     "name": "stdout",
     "output_type": "stream",
     "text": [
      "('type', <type 'numpy.ndarray'>)\n",
      "('len:', 120)\n",
      "('shape:', (120,))\n"
     ]
    }
   ],
   "source": [
    "c5_nonlinear_tan = Nonlinear('tanh',c5_layer_tan)\n",
    "print (\"type\",type(c5_nonlinear_tan))\n",
    "print (\"len:\",len(c5_nonlinear_tan))\n",
    "print (\"shape:\", c5_nonlinear_tan.shape)"
   ]
  },
  {
   "cell_type": "code",
   "execution_count": 316,
   "metadata": {},
   "outputs": [],
   "source": [
    "# print (c5_layer_relu)"
   ]
  },
  {
   "cell_type": "code",
   "execution_count": 300,
   "metadata": {},
   "outputs": [
    {
     "name": "stdout",
     "output_type": "stream",
     "text": [
      "('type', <type 'numpy.ndarray'>)\n",
      "('len:', 120)\n",
      "('shape:', (120,))\n"
     ]
    }
   ],
   "source": [
    "c5_nonlinear_relu = Nonlinear('tanh',c5_layer_relu)\n",
    "print (\"type\",type(c5_nonlinear_relu))\n",
    "print (\"len:\",len(c5_nonlinear_relu))\n",
    "print (\"shape:\", c5_nonlinear_relu.shape)"
   ]
  },
  {
   "cell_type": "code",
   "execution_count": 301,
   "metadata": {},
   "outputs": [
    {
     "name": "stdout",
     "output_type": "stream",
     "text": [
      "('type', <type 'numpy.ndarray'>)\n",
      "('len:', 120)\n",
      "('shape:', (120,))\n"
     ]
    }
   ],
   "source": [
    "c5_nonlinear_sigmoid = Nonlinear('tanh',c5_layer_sigmoid)\n",
    "print (\"type\",type(c5_nonlinear_sigmoid))\n",
    "print (\"len:\",len(c5_nonlinear_sigmoid))\n",
    "print (\"shape:\", c5_nonlinear_sigmoid.shape)"
   ]
  },
  {
   "cell_type": "code",
   "execution_count": 302,
   "metadata": {},
   "outputs": [],
   "source": [
    "weight_mat1 = np.random.randn(120,84)\n",
    "bias1 = np.random.randn(84)"
   ]
  },
  {
   "cell_type": "code",
   "execution_count": 303,
   "metadata": {},
   "outputs": [
    {
     "name": "stdout",
     "output_type": "stream",
     "text": [
      "('F6 shape ', (84,))\n",
      "('type', <type 'numpy.ndarray'>)\n",
      "('len:', 84)\n",
      "('shape:', (84,))\n"
     ]
    }
   ],
   "source": [
    "#tanh\n",
    "F6_layer_tan = full_connection(weight_mat1,bias1,c5_nonlinear_tan)\n",
    "print (\"F6 shape \",F6_layer_tan.shape)\n",
    "F6_layer_nonlinear_tan = Nonlinear('tanh',F6_layer_tan)\n",
    "print (\"type\",type(F6_layer_nonlinear_tan))\n",
    "print (\"len:\",len(F6_layer_nonlinear_tan))\n",
    "print (\"shape:\", F6_layer_nonlinear_tan.shape)"
   ]
  },
  {
   "cell_type": "code",
   "execution_count": 304,
   "metadata": {},
   "outputs": [
    {
     "name": "stdout",
     "output_type": "stream",
     "text": [
      "('F6 shape ', (84,))\n"
     ]
    }
   ],
   "source": [
    "#relu\n",
    "F6_layer_relu = full_connection(weight_mat1,bias1,c5_nonlinear_relu)\n",
    "print (\"F6 shape \",F6_layer_relu.shape)"
   ]
  },
  {
   "cell_type": "code",
   "execution_count": 305,
   "metadata": {},
   "outputs": [
    {
     "name": "stdout",
     "output_type": "stream",
     "text": [
      "('type', <type 'numpy.ndarray'>)\n",
      "('len:', 84)\n",
      "('shape:', (84,))\n"
     ]
    }
   ],
   "source": [
    "F6_layer_nonlinear_relu = Nonlinear('tanh',F6_layer_relu)\n",
    "print (\"type\",type(F6_layer_nonlinear_relu))\n",
    "print (\"len:\",len(F6_layer_nonlinear_relu))\n",
    "print (\"shape:\", F6_layer_nonlinear_relu.shape)"
   ]
  },
  {
   "cell_type": "code",
   "execution_count": 306,
   "metadata": {},
   "outputs": [
    {
     "name": "stdout",
     "output_type": "stream",
     "text": [
      "('F6 shape ', (84,))\n",
      "('type', <type 'numpy.ndarray'>)\n",
      "('len:', 84)\n",
      "('shape:', (84,))\n"
     ]
    }
   ],
   "source": [
    "#sigmoid\n",
    "F6_layer_sigmoid = full_connection(weight_mat1,bias1,c5_nonlinear_sigmoid)\n",
    "print (\"F6 shape \",F6_layer_sigmoid.shape)\n",
    "F6_layer_nonlinear_sigmoid = Nonlinear('tanh',F6_layer_sigmoid)\n",
    "print (\"type\",type(F6_layer_nonlinear_sigmoid))\n",
    "print (\"len:\",len(F6_layer_nonlinear_sigmoid))\n",
    "print (\"shape:\", F6_layer_nonlinear_sigmoid.shape)"
   ]
  },
  {
   "cell_type": "code",
   "execution_count": 307,
   "metadata": {},
   "outputs": [
    {
     "name": "stdout",
     "output_type": "stream",
     "text": [
      "(10, 84)\n",
      "(84,)\n",
      "(84,)\n"
     ]
    }
   ],
   "source": [
    "\n",
    "wt= np.random.randn(10, 84)\n",
    "print (wt.shape)\n",
    "print (F6_layer_nonlinear_tan.shape)\n",
    "print (wt[0].shape)"
   ]
  },
  {
   "cell_type": "code",
   "execution_count": 308,
   "metadata": {
    "scrolled": true
   },
   "outputs": [
    {
     "name": "stdout",
     "output_type": "stream",
     "text": [
      "[[  2.14015242]\n",
      " [325.69126175]\n",
      " [ 39.42614397]\n",
      " [245.19197948]\n",
      " [ 85.04965402]\n",
      " [ 12.99008633]\n",
      " [445.7684876 ]\n",
      " [174.66277227]\n",
      " [579.27796377]\n",
      " [135.99050131]]\n"
     ]
    }
   ],
   "source": [
    "#tanh\n",
    "input_sm_tan=np.zeros((10,1))\n",
    "for idx in range(10):\n",
    "    input_sm_tan[idx,0] = np.sum(F6_layer_nonlinear_tan-wt[idx])**2\n",
    "print (input_sm_tan)"
   ]
  },
  {
   "cell_type": "code",
   "execution_count": 309,
   "metadata": {},
   "outputs": [
    {
     "name": "stdout",
     "output_type": "stream",
     "text": [
      "[[1.99920752e+02]\n",
      " [5.97635701e+00]\n",
      " [8.69227173e+01]\n",
      " [3.17506677e-03]\n",
      " [4.07046876e+01]\n",
      " [1.43954001e+02]\n",
      " [3.03707979e+01]\n",
      " [5.69421327e+00]\n",
      " [7.16720479e+01]\n",
      " [1.55296126e+01]]\n"
     ]
    }
   ],
   "source": [
    "#relu\n",
    "input_sm_relu=np.zeros((10,1))\n",
    "for idx in range(10):\n",
    "    input_sm_relu[idx,0] = np.sum(F6_layer_nonlinear_relu-wt[idx])**2\n",
    "print (input_sm_relu)"
   ]
  },
  {
   "cell_type": "code",
   "execution_count": 310,
   "metadata": {},
   "outputs": [
    {
     "name": "stdout",
     "output_type": "stream",
     "text": [
      "[[2.02397858e+02]\n",
      " [5.55701536e+00]\n",
      " [8.85586765e+01]\n",
      " [9.59691509e-04]\n",
      " [4.18266051e+01]\n",
      " [1.46057131e+02]\n",
      " [2.94159150e+01]\n",
      " [6.11860638e+00]\n",
      " [7.02010710e+01]\n",
      " [1.62255055e+01]]\n"
     ]
    }
   ],
   "source": [
    "#relu\n",
    "input_sm_sigmoid=np.zeros((10,1))\n",
    "for idx in range(10):\n",
    "    input_sm_sigmoid[idx,0] = np.sum(F6_layer_nonlinear_sigmoid-wt[idx])**2\n",
    "print (input_sm_sigmoid)"
   ]
  },
  {
   "cell_type": "code",
   "execution_count": 311,
   "metadata": {},
   "outputs": [],
   "source": [
    "def apply_softmax(x):\n",
    "    e_x = np.exp(x - np.max(x))\n",
    "    res = e_x / e_x.sum(axis=0)\n",
    "    return res"
   ]
  },
  {
   "cell_type": "code",
   "execution_count": 312,
   "metadata": {},
   "outputs": [
    {
     "name": "stdout",
     "output_type": "stream",
     "text": [
      "(10, 1)\n",
      "For tanh\n",
      "[[2.25026275e-251]\n",
      " [7.39085404e-111]\n",
      " [3.51021416e-235]\n",
      " [8.09656004e-146]\n",
      " [2.28755885e-215]\n",
      " [1.15957718e-246]\n",
      " [1.04128884e-058]\n",
      " [1.89607292e-176]\n",
      " [1.00000000e+000]\n",
      " [3.03879326e-193]]\n"
     ]
    }
   ],
   "source": [
    "#tanh\n",
    "print (input_sm_tan.shape)\n",
    "final_class = apply_softmax(input_sm_tan)\n",
    "print (\"For tanh\")\n",
    "print (final_class)"
   ]
  },
  {
   "cell_type": "code",
   "execution_count": 313,
   "metadata": {},
   "outputs": [
    {
     "name": "stdout",
     "output_type": "stream",
     "text": [
      "(10, 1)\n",
      "For relu\n",
      "[[1.00000000e+00]\n",
      " [5.90227767e-85]\n",
      " [8.42514215e-50]\n",
      " [1.50279478e-87]\n",
      " [7.13414569e-70]\n",
      " [4.94252857e-25]\n",
      " [2.31948036e-74]\n",
      " [4.45129282e-85]\n",
      " [2.00583724e-56]\n",
      " [8.31659980e-81]]\n"
     ]
    }
   ],
   "source": [
    "#relu\n",
    "print (input_sm_relu.shape)\n",
    "final_class = apply_softmax(input_sm_relu)\n",
    "print (\"For relu\")\n",
    "print (final_class)"
   ]
  },
  {
   "cell_type": "code",
   "execution_count": 314,
   "metadata": {},
   "outputs": [
    {
     "name": "stdout",
     "output_type": "stream",
     "text": [
      "(10, 1)\n",
      "For sigmoid\n",
      "[[1.00000000e+00]\n",
      " [3.25917942e-86]\n",
      " [3.63305253e-50]\n",
      " [1.25934276e-88]\n",
      " [1.83988621e-70]\n",
      " [3.40042616e-25]\n",
      " [7.49715874e-76]\n",
      " [5.71484095e-86]\n",
      " [3.86958968e-58]\n",
      " [1.40079527e-81]]\n"
     ]
    }
   ],
   "source": [
    "#relu\n",
    "print (input_sm_sigmoid.shape)\n",
    "final_class = apply_softmax(input_sm_sigmoid)\n",
    "print (\"For sigmoid\")\n",
    "print (final_class)"
   ]
  }
 ],
 "metadata": {
  "kernelspec": {
   "display_name": "Python 2",
   "language": "python",
   "name": "python2"
  },
  "language_info": {
   "codemirror_mode": {
    "name": "ipython",
    "version": 2
   },
   "file_extension": ".py",
   "mimetype": "text/x-python",
   "name": "python",
   "nbconvert_exporter": "python",
   "pygments_lexer": "ipython2",
   "version": "2.7.12"
  }
 },
 "nbformat": 4,
 "nbformat_minor": 2
}
