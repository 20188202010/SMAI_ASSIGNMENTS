{
 "cells": [
  {
   "cell_type": "markdown",
   "metadata": {},
   "source": [
    "# Question 2\n",
    "Given a DNA sequence and a state path sequence, find the probability that the given DNA sequence is generated from the given path sequence only <br>\n",
    "Input DNA sequence:  “CTTCATGTGAAAGCAGACGTAAGTCA” <br>\n",
    "Input State path sequence:  “EEEEEEEEEEEEEEEEEE5IIIIIII$\" <br>\n",
    "Output:  State path probability for above state path [Log probability required i.e.log(p)]"
   ]
  },
  {
   "cell_type": "markdown",
   "metadata": {},
   "source": [
    "<img src=\"../input_data/ques.png\">"
   ]
  },
  {
   "cell_type": "code",
   "execution_count": 1,
   "metadata": {},
   "outputs": [],
   "source": [
    "states          = ['start','E', '5', 'I','$']\n",
    "observations    = ['A', 'C', 'G', 'T']\n",
    "observation_seq = \"CTTCATGTGAAAGCAGACGTAAGTCA\"\n",
    "len_obs         = len(observation_seq)\n",
    "state_seq       = \"EEEEEEEEEEEEEEEEEE5IIIIIII$\"\n",
    "len_states      = len(state_seq)\n",
    "transition_prob = {'start': {'E': 1.0},\n",
    "                   'E'    : {'E': 0.9, '5': 0.1},\n",
    "                   '5'    : {'I': 1.0},\n",
    "                   'I'    : {'I': 0.9, '$': 0.1}\n",
    "                  }\n",
    "emission_prob    = {'E': {'A': 0.25, 'C': 0.25, 'G': 0.25, 'T': 0.25},\n",
    "                    '5': {'A': 0.05, 'G': 0.95},\n",
    "                    'I': {'A': 0.4, 'C': 0.1, 'G': 0.1, 'T': 0.4}\n",
    "                   }"
   ]
  },
  {
   "cell_type": "code",
   "execution_count": 2,
   "metadata": {
    "scrolled": true
   },
   "outputs": [],
   "source": [
    "# print type(emission_prob), type(emission_prob['E']), type(emission_prob['E']['A'])\n",
    "# print len_obs, len_states"
   ]
  },
  {
   "cell_type": "code",
   "execution_count": 3,
   "metadata": {},
   "outputs": [],
   "source": [
    "total_pr = 1\n",
    "for obs_idx in range(0, len_obs):\n",
    "    obs_symbol = observation_seq[obs_idx]\n",
    "    curr_state = state_seq[obs_idx]\n",
    "    next_state = state_seq[obs_idx+1]\n",
    "    trans_pr = transition_prob[curr_state][next_state]\n",
    "    emiss_pr = emission_prob[curr_state][obs_symbol]\n",
    "    \n",
    "    combined_pr = trans_pr * emiss_pr\n",
    "    total_pr *= combined_pr\n",
    "    "
   ]
  },
  {
   "cell_type": "code",
   "execution_count": 4,
   "metadata": {},
   "outputs": [],
   "source": [
    "from numpy import log"
   ]
  },
  {
   "cell_type": "code",
   "execution_count": 5,
   "metadata": {},
   "outputs": [
    {
     "name": "stdout",
     "output_type": "stream",
     "text": [
      "Required Prob: p:  1.25464666093e-18 log(p):  -41.21967768602254\n"
     ]
    }
   ],
   "source": [
    "print \"Required Prob: p: \",total_pr, \"log(p): \", log(total_pr) "
   ]
  }
 ],
 "metadata": {
  "kernelspec": {
   "display_name": "Python 2",
   "language": "python",
   "name": "python2"
  },
  "language_info": {
   "codemirror_mode": {
    "name": "ipython",
    "version": 2
   },
   "file_extension": ".py",
   "mimetype": "text/x-python",
   "name": "python",
   "nbconvert_exporter": "python",
   "pygments_lexer": "ipython2",
   "version": "2.7.12"
  }
 },
 "nbformat": 4,
 "nbformat_minor": 2
}
