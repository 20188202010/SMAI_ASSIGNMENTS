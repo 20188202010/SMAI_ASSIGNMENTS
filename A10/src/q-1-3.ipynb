{
 "cells": [
  {
   "cell_type": "markdown",
   "metadata": {},
   "source": [
    "# Question 1\n",
    "## Part-3\n",
    "- Compare the results of any one combination from RNN with any  one  combination  from  HMM.  All  results  will  be  time  series  plots  which  will also have the plot of the original data.\n",
    "\n",
    "\n",
    "HMM is based on the Markov Assumption. The probability of the next state depends on the k previous states. <br>\n",
    "RNNs on the other hand, can keep track of previous states. It uses the concept of \"memory\". <br>\n",
    "This fact helps in prediction tasks. <br>\n",
    "\n",
    "**Stock Prediction using HMM 4 hidden states, 75 timestep**<br>\n",
    "<img src=\"../output_data/(4,75).png\">\n",
    "\n",
    "**Stock Prediction using RNN 2 hidden layers, 30 hidden nodes, 20 timestep**<br>\n",
    "<img src=\"../output_data/(2 , 30 , 20).png\">"
   ]
  }
 ],
 "metadata": {
  "kernelspec": {
   "display_name": "Python 2",
   "language": "python",
   "name": "python2"
  },
  "language_info": {
   "codemirror_mode": {
    "name": "ipython",
    "version": 2
   },
   "file_extension": ".py",
   "mimetype": "text/x-python",
   "name": "python",
   "nbconvert_exporter": "python",
   "pygments_lexer": "ipython2",
   "version": "2.7.12"
  }
 },
 "nbformat": 4,
 "nbformat_minor": 2
}
