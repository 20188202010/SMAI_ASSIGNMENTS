{
 "cells": [
  {
   "cell_type": "code",
   "execution_count": 2,
   "metadata": {},
   "outputs": [],
   "source": [
    "import pandas as pd\n",
    "from sklearn import preprocessing\n",
    "from sklearn.model_selection import train_test_split\n",
    "from sklearn.tree import DecisionTreeClassifier \n",
    "from sklearn.metrics import classification_report, confusion_matrix "
   ]
  },
  {
   "cell_type": "code",
   "execution_count": 10,
   "metadata": {},
   "outputs": [
    {
     "name": "stdout",
     "output_type": "stream",
     "text": [
      "confusion_matrix: \n",
      "[[1719    0]\n",
      " [   0  529]]\n",
      "classification_report: \n",
      "              precision    recall  f1-score   support\n",
      "\n",
      "           0       1.00      1.00      1.00      1719\n",
      "           1       1.00      1.00      1.00       529\n",
      "\n",
      "   micro avg       1.00      1.00      1.00      2248\n",
      "   macro avg       1.00      1.00      1.00      2248\n",
      "weighted avg       1.00      1.00      1.00      2248\n",
      "\n"
     ]
    }
   ],
   "source": [
    "dataset = pd.read_csv('train.csv')\n",
    "le = preprocessing.LabelEncoder()\n",
    "\n",
    "dataset['salary'] = le.fit_transform(dataset['salary'])\n",
    "dataset['sales']= le.fit_transform(dataset['sales'])\n",
    "\n",
    "cols = []\n",
    "for col in dataset.columns:\n",
    "    if col != 'left':\n",
    "        cols.append(col)\n",
    "\n",
    "df=dataset[cols]\n",
    "target=dataset['left']\n",
    "data_train, data_test, target_train, target_test = train_test_split(dataset,target, test_size = 0.20, random_state = 10)\n",
    "classifier = DecisionTreeClassifier()  \n",
    "classifier.fit(data_train, target_train)\n",
    "y_pred = classifier.predict(data_test) \n",
    "print \"confusion_matrix: \"\n",
    "print(confusion_matrix(target_test, y_pred))  \n",
    "print \"classification_report: \"\n",
    "print(classification_report(target_test, y_pred))\n"
   ]
  }
 ],
 "metadata": {
  "kernelspec": {
   "display_name": "Python 2",
   "language": "python",
   "name": "python2"
  },
  "language_info": {
   "codemirror_mode": {
    "name": "ipython",
    "version": 2
   },
   "file_extension": ".py",
   "mimetype": "text/x-python",
   "name": "python",
   "nbconvert_exporter": "python",
   "pygments_lexer": "ipython2",
   "version": "2.7.12"
  }
 },
 "nbformat": 4,
 "nbformat_minor": 2
}
