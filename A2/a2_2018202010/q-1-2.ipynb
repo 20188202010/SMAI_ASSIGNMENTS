{
 "cells": [
  {
   "cell_type": "markdown",
   "metadata": {},
   "source": [
    "## Implement Naive Bayes classifier on Loan dataset to help bank achieve its goal."
   ]
  },
  {
   "cell_type": "code",
   "execution_count": 36,
   "metadata": {},
   "outputs": [],
   "source": [
    "import numpy as np\n",
    "import pandas as pd\n",
    "import math"
   ]
  },
  {
   "cell_type": "code",
   "execution_count": 37,
   "metadata": {},
   "outputs": [],
   "source": [
    "dataset = pd.read_csv(\"LoanDataset/data.csv\", header = None)"
   ]
  },
  {
   "cell_type": "markdown",
   "metadata": {},
   "source": [
    "Attributes:\n",
    "\n",
    "ID - A unique identifier <br/>\n",
    "Age <br/>\n",
    "Number of years of experience <br/>\n",
    "Annual Income <br/>\n",
    "ZIPCode <br/>\n",
    "Family size <br/>\n",
    "Avgerage spending per month <br/>\n",
    "Education Level. 1: 12th; 2: Graduate; 3: Post Graduate <br/>\n",
    "Mortgage Value of house if any <br/>\n",
    "Did this customer accept the personal loan offered in the last campaign? -- Output label <br/>\n",
    "Does the customer have a securities account with the bank? <br/>\n",
    "Does the customer have a certificate of deposit (CD) account with the bank? <br/>\n",
    "Does the customer use internet banking facilities? <br/>\n",
    "Does the customer uses a credit card issued by UniversalBank? <br/>"
   ]
  },
  {
   "cell_type": "code",
   "execution_count": 38,
   "metadata": {},
   "outputs": [],
   "source": [
    "dataset.columns = ['id', 'age', 'exp', 'income', 'zip', 'fam_size', 'spending', 'education', 'mortgage', 'loan_accept', 'securities_account', 'certi_dep', 'net_banking', 'UniversalBank_cc']\n",
    "numerical = ['age', 'exp', 'income', 'fam_size', 'spending', 'mortgage']\n",
    "categorical = ['education', 'securities_account', 'certi_dep', 'net_banking', 'UniversalBank_cc']\n",
    "dataset = dataset.drop(dataset.index[0])\n",
    "# rows , cols = dataset.shape\n",
    "target = 'loan_accept'"
   ]
  },
  {
   "cell_type": "code",
   "execution_count": 39,
   "metadata": {},
   "outputs": [],
   "source": [
    "dataset = dataset.sample(frac=1)"
   ]
  },
  {
   "cell_type": "code",
   "execution_count": 40,
   "metadata": {},
   "outputs": [],
   "source": [
    "train, validate = np.split(dataset, [int(.8*len(dataset))])"
   ]
  },
  {
   "cell_type": "code",
   "execution_count": 41,
   "metadata": {},
   "outputs": [],
   "source": [
    "target0 = train[train[target]==0]\n",
    "target1 = train[train[target]==1]\n",
    "\n",
    "total_len = train.shape[0]\n",
    "\n",
    "total_zero = target0.shape[0]\n",
    "total_one = target1.shape[0]\n",
    "\n",
    "p0 = float(total_zero)/total_len\n",
    "p1 = float(total_one)/total_len\n",
    "\n",
    "prob_ca = {}\n",
    "prob_nu = {}"
   ]
  },
  {
   "cell_type": "code",
   "execution_count": 42,
   "metadata": {},
   "outputs": [],
   "source": [
    "def numCalc():\n",
    "    #{ age: [ [mean0, std0], [mean1,std1] ]}\n",
    "    for colName in numerical:\n",
    "        zeros = [] #list to store mean, std for 0 class\n",
    "        ones = [] #list to store mean, std for 1 class\n",
    "        summary = [] #combined list of 0 and 1 class mean, std\n",
    "        zeroClass = target0[colName] #eg temp = 66, play = no\n",
    "        oneClass = target1[colName] #eg temp = 66, play = yes\n",
    "\n",
    "        mean0 = zeroClass.mean()\n",
    "        mean1 = oneClass.mean()\n",
    "        ones.append(mean1) #mean of 1 class\n",
    "        zeros.append(mean0)\n",
    "\n",
    "        std0 = zeroClass.std()\n",
    "        std1 = oneClass.std()\n",
    "        ones.append(std1)\n",
    "        zeros.append(std0)\n",
    "\n",
    "        # summary: [ <zeros>, <ones>]\n",
    "\n",
    "        summary.append(zeros)\n",
    "        summary.append(ones)\n",
    "        \n",
    "        prob_nu[colName] = summary"
   ]
  },
  {
   "cell_type": "code",
   "execution_count": 43,
   "metadata": {},
   "outputs": [],
   "source": [
    "numCalc()\n",
    "# print prob_nu"
   ]
  },
  {
   "cell_type": "code",
   "execution_count": 44,
   "metadata": {},
   "outputs": [],
   "source": [
    "def catCalc():\n",
    "    #{ <humidity>: [ {<low>: [p0, p1], <medium>: [p0, p1], <high>: [p0, p1]} ] }\n",
    "    for colName in categorical:\n",
    "        summary = [] #combined list of 0 and 1 class prob for all unique values of that column\n",
    "        unique_val = train[colName].unique()\n",
    "        sub_dict = {}\n",
    "        for val in unique_val:\n",
    "            \n",
    "            sub_summary = [] #list of 0 and 1 class prob for that particular unique val\n",
    "            val_df = train[train[colName] == val] #eg outlook = sunny\n",
    "\n",
    "            zeroClass = val_df[val_df[target] == 0] #sunny , play = no\n",
    "            oneClass = val_df[val_df[target] == 1] #sunny , play = yes\n",
    "\n",
    "            num_zero = zeroClass.shape[0]\n",
    "            num_one = oneClass.shape[0]\n",
    "\n",
    "            prob_zero = float(num_zero)/total_zero\n",
    "            prob_one = float(num_one)/total_one\n",
    "            sub_summary.append(prob_zero)\n",
    "            sub_summary.append(prob_one)\n",
    "#             print \"colName: \",colName,\"val: \",val,\"subSum: \",sub_summary\n",
    "            sub_dict[val] = sub_summary\n",
    "#             print \"sub_dict: \",sub_dict\n",
    "        summary.append(sub_dict)\n",
    "#         print \"summary: \",summary\n",
    "        prob_ca[colName] = summary\n",
    "            \n",
    "      "
   ]
  },
  {
   "cell_type": "code",
   "execution_count": 45,
   "metadata": {},
   "outputs": [],
   "source": [
    "catCalc()\n",
    "# print prob_ca"
   ]
  },
  {
   "cell_type": "code",
   "execution_count": 46,
   "metadata": {},
   "outputs": [],
   "source": [
    "def numProb(sd,x,mean):\n",
    "    constant = math.sqrt(2*3.14)\n",
    "    den = constant*sd\n",
    "    \n",
    "    num = (x - mean)**2\n",
    "    power =  -1 * float (num) / ( 2 * (sd**2) )\n",
    "    \n",
    "    ans = float( math.exp(power))/ den\n",
    "    return ans\n",
    "    "
   ]
  },
  {
   "cell_type": "code",
   "execution_count": 47,
   "metadata": {},
   "outputs": [],
   "source": [
    "def predict(row, default=0):\n",
    "    likelihood_1 = 0\n",
    "    likelihood_0 = 0\n",
    "    \n",
    "    for colName, colVal in row.items():\n",
    "\n",
    "        lognP0 =0\n",
    "        lognP1 =0\n",
    "        logcP0 =0\n",
    "        logcP1 =0\n",
    "        \n",
    "        if colName in numerical:  #{ age: [ [mean0, std0], [mean1,std1] ]}\n",
    "            mean0 = prob_nu[colName][0][0]\n",
    "            mean1 = prob_nu[colName][1][0]\n",
    "            std0 = prob_nu[colName][0][1]\n",
    "            std1 = prob_nu[colName][1][1]\n",
    "\n",
    "            pr0 = numProb(std0, colVal, mean0)\n",
    "            lognP0 = math.log(pr0, 10)\n",
    "            \n",
    "            pr1 = numProb(std1, colVal, mean1)\n",
    "            lognP1 = math.log(pr1, 10)\n",
    "\n",
    "        elif colName in categorical: #{ <humidity>: [ {<low>: [p0, p1], <medium>: [p0, p1], <high>: [p0, p1]} ] }\n",
    "            pr_c0 = prob_ca[colName][0][colVal][0]\n",
    "            pr_c1 = prob_ca[colName][0][colVal][1]\n",
    "        \n",
    "            logcP0 = math.log(pr_c0,10)\n",
    "            \n",
    "            logcP1 = math.log(pr_c1,10)\n",
    "\n",
    "        likelihood_1 = likelihood_1 + lognP1 + logcP1\n",
    "        likelihood_0 = likelihood_0 + lognP0 + logcP0\n",
    "    \n",
    "\n",
    "    if likelihood_1 + math.log(p1,10) >= likelihood_0 + math.log(p0,10):\n",
    "        label = 1\n",
    "    else:\n",
    "        label = 0\n",
    "    \n",
    "    return label"
   ]
  },
  {
   "cell_type": "code",
   "execution_count": 48,
   "metadata": {
    "scrolled": true
   },
   "outputs": [
    {
     "data": {
      "text/plain": [
       "2903    0\n",
       "2530    0\n",
       "3638    0\n",
       "458     0\n",
       "4016    0\n",
       "440     0\n",
       "519     0\n",
       "2672    0\n",
       "713     0\n",
       "3052    0\n",
       "3133    1\n",
       "3554    0\n",
       "3061    0\n",
       "2440    0\n",
       "360     0\n",
       "3063    0\n",
       "129     1\n",
       "4397    0\n",
       "2675    0\n",
       "2955    0\n",
       "1687    0\n",
       "1486    0\n",
       "2191    0\n",
       "3582    0\n",
       "2674    0\n",
       "2756    0\n",
       "497     0\n",
       "1505    0\n",
       "1563    0\n",
       "460     0\n",
       "       ..\n",
       "784     1\n",
       "2689    0\n",
       "2758    0\n",
       "3328    0\n",
       "3515    0\n",
       "498     0\n",
       "158     0\n",
       "2717    0\n",
       "1454    0\n",
       "2441    0\n",
       "1434    1\n",
       "2302    0\n",
       "2489    0\n",
       "1114    0\n",
       "536     0\n",
       "468     0\n",
       "2786    0\n",
       "307     0\n",
       "3342    0\n",
       "353     0\n",
       "2053    0\n",
       "691     0\n",
       "3105    0\n",
       "1216    0\n",
       "1824    0\n",
       "3967    0\n",
       "564     0\n",
       "3757    1\n",
       "3878    0\n",
       "785     0\n",
       "Name: prediction, Length: 900, dtype: int64"
      ]
     },
     "execution_count": 48,
     "metadata": {},
     "output_type": "execute_result"
    }
   ],
   "source": [
    "def helper(df, predict_col):\n",
    "    df[predict_col] = df.apply(predict, axis=1, args=(0))    \n",
    "    \n",
    "    return df[predict_col]\n",
    "helper(validate,'prediction')\n",
    "# print validate['validate']"
   ]
  },
  {
   "cell_type": "code",
   "execution_count": 49,
   "metadata": {},
   "outputs": [],
   "source": [
    "#finds measures for tp, fp, tn, fn , accuracy,precision, recall\n",
    "def findMeasures(df, predict_col):\n",
    "    truePos=0\n",
    "    trueNeg=0\n",
    "    falsePos=0\n",
    "    falseNeg=0\n",
    "    \n",
    "#     for index, row in validate.iterrows():\n",
    "    for index, row in df.iterrows():\n",
    "    \n",
    "        \n",
    "        if row[predict_col]==0 and row[target]==0:\n",
    "            trueNeg += 1\n",
    "            \n",
    "            \n",
    "        elif row[predict_col]==0 and row[target]==1:\n",
    "    \n",
    "            falseNeg += 1\n",
    "    \n",
    "        elif row[predict_col]==1 and row[target]==1:\n",
    "           \n",
    "            truePos += 1\n",
    "           \n",
    "        \n",
    "        elif row[predict_col]==1 and row[target]==0:\n",
    "            falsePos += 1\n",
    "\n",
    "    sumtotal = truePos + trueNeg + falsePos + falseNeg\n",
    "    accuracy = ((float)(truePos + trueNeg))/sumtotal\n",
    "    precision = ((float)(truePos))/(truePos + falsePos)\n",
    "    recall = ((float)(truePos))/(truePos + falseNeg)\n",
    "    try:\n",
    "        f1_score_den = 1.0/recall + 1.0/precision\n",
    "        f1_score = 2.0/f1_score_den\n",
    "    except:\n",
    "        f1_score=0\n",
    "    print \"TP, TN, FP, FN: \", truePos, trueNeg, falsePos, falseNeg\n",
    "    print \"A, P, R, F: \",accuracy*100, precision*100, recall*100, f1_score\n",
    "    return accuracy*100, precision*100, recall*100, f1_score"
   ]
  },
  {
   "cell_type": "markdown",
   "metadata": {},
   "source": [
    "### Observations"
   ]
  },
  {
   "cell_type": "code",
   "execution_count": 50,
   "metadata": {},
   "outputs": [
    {
     "name": "stdout",
     "output_type": "stream",
     "text": [
      "TP, TN, FP, FN:  48 762 53 37\n",
      "A, P, R, F:  90.0 47.5247524752 56.4705882353 0.516129032258\n"
     ]
    },
    {
     "data": {
      "text/plain": [
       "(90.0, 47.524752475247524, 56.470588235294116, 0.5161290322580645)"
      ]
     },
     "execution_count": 50,
     "metadata": {},
     "output_type": "execute_result"
    }
   ],
   "source": [
    "findMeasures(validate, 'prediction')"
   ]
  },
  {
   "cell_type": "markdown",
   "metadata": {},
   "source": [
    "### Testing"
   ]
  },
  {
   "cell_type": "code",
   "execution_count": 51,
   "metadata": {},
   "outputs": [
    {
     "ename": "KeyboardInterrupt",
     "evalue": "",
     "output_type": "error",
     "traceback": [
      "\u001b[0;31m---------------------------------------------------------------------------\u001b[0m",
      "\u001b[0;31mKeyboardInterrupt\u001b[0m                         Traceback (most recent call last)",
      "\u001b[0;32m<ipython-input-51-6d79f531d85f>\u001b[0m in \u001b[0;36m<module>\u001b[0;34m()\u001b[0m\n\u001b[0;32m----> 1\u001b[0;31m \u001b[0mfilename\u001b[0m \u001b[0;34m=\u001b[0m \u001b[0mraw_input\u001b[0m\u001b[0;34m(\u001b[0m\u001b[0;34m\"Enter file for testing: \"\u001b[0m\u001b[0;34m)\u001b[0m\u001b[0;34m\u001b[0m\u001b[0m\n\u001b[0m\u001b[1;32m      2\u001b[0m \u001b[0mtest\u001b[0m \u001b[0;34m=\u001b[0m \u001b[0mpd\u001b[0m\u001b[0;34m.\u001b[0m\u001b[0mread_csv\u001b[0m\u001b[0;34m(\u001b[0m\u001b[0mfilename\u001b[0m\u001b[0;34m,\u001b[0m \u001b[0mheader\u001b[0m \u001b[0;34m=\u001b[0m \u001b[0mNone\u001b[0m\u001b[0;34m)\u001b[0m\u001b[0;34m\u001b[0m\u001b[0m\n\u001b[1;32m      3\u001b[0m \u001b[0mtest\u001b[0m\u001b[0;34m.\u001b[0m\u001b[0mcolumns\u001b[0m \u001b[0;34m=\u001b[0m \u001b[0;34m[\u001b[0m\u001b[0;34m'id'\u001b[0m\u001b[0;34m,\u001b[0m \u001b[0;34m'age'\u001b[0m\u001b[0;34m,\u001b[0m \u001b[0;34m'exp'\u001b[0m\u001b[0;34m,\u001b[0m \u001b[0;34m'income'\u001b[0m\u001b[0;34m,\u001b[0m \u001b[0;34m'zip'\u001b[0m\u001b[0;34m,\u001b[0m \u001b[0;34m'fam_size'\u001b[0m\u001b[0;34m,\u001b[0m \u001b[0;34m'spending'\u001b[0m\u001b[0;34m,\u001b[0m \u001b[0;34m'education'\u001b[0m\u001b[0;34m,\u001b[0m \u001b[0;34m'mortgage'\u001b[0m\u001b[0;34m,\u001b[0m \u001b[0;34m'securities_account'\u001b[0m\u001b[0;34m,\u001b[0m \u001b[0;34m'certi_dep'\u001b[0m\u001b[0;34m,\u001b[0m \u001b[0;34m'net_banking'\u001b[0m\u001b[0;34m,\u001b[0m \u001b[0;34m'UniversalBank_cc'\u001b[0m\u001b[0;34m]\u001b[0m\u001b[0;34m\u001b[0m\u001b[0m\n\u001b[1;32m      4\u001b[0m \u001b[0mnumerical\u001b[0m \u001b[0;34m=\u001b[0m \u001b[0;34m[\u001b[0m\u001b[0;34m'age'\u001b[0m\u001b[0;34m,\u001b[0m \u001b[0;34m'exp'\u001b[0m\u001b[0;34m,\u001b[0m \u001b[0;34m'income'\u001b[0m\u001b[0;34m,\u001b[0m \u001b[0;34m'fam_size'\u001b[0m\u001b[0;34m,\u001b[0m \u001b[0;34m'spending'\u001b[0m\u001b[0;34m,\u001b[0m \u001b[0;34m'mortgage'\u001b[0m\u001b[0;34m]\u001b[0m\u001b[0;34m\u001b[0m\u001b[0m\n\u001b[1;32m      5\u001b[0m \u001b[0mcategorical\u001b[0m \u001b[0;34m=\u001b[0m \u001b[0;34m[\u001b[0m\u001b[0;34m'education'\u001b[0m\u001b[0;34m,\u001b[0m \u001b[0;34m'securities_account'\u001b[0m\u001b[0;34m,\u001b[0m \u001b[0;34m'certi_dep'\u001b[0m\u001b[0;34m,\u001b[0m \u001b[0;34m'net_banking'\u001b[0m\u001b[0;34m,\u001b[0m \u001b[0;34m'UniversalBank_cc'\u001b[0m\u001b[0;34m]\u001b[0m\u001b[0;34m\u001b[0m\u001b[0m\n",
      "\u001b[0;32m/usr/local/lib/python2.7/dist-packages/ipykernel/kernelbase.pyc\u001b[0m in \u001b[0;36mraw_input\u001b[0;34m(self, prompt)\u001b[0m\n\u001b[1;32m    702\u001b[0m             \u001b[0mself\u001b[0m\u001b[0;34m.\u001b[0m\u001b[0m_parent_ident\u001b[0m\u001b[0;34m,\u001b[0m\u001b[0;34m\u001b[0m\u001b[0m\n\u001b[1;32m    703\u001b[0m             \u001b[0mself\u001b[0m\u001b[0;34m.\u001b[0m\u001b[0m_parent_header\u001b[0m\u001b[0;34m,\u001b[0m\u001b[0;34m\u001b[0m\u001b[0m\n\u001b[0;32m--> 704\u001b[0;31m             \u001b[0mpassword\u001b[0m\u001b[0;34m=\u001b[0m\u001b[0mFalse\u001b[0m\u001b[0;34m,\u001b[0m\u001b[0;34m\u001b[0m\u001b[0m\n\u001b[0m\u001b[1;32m    705\u001b[0m         )\n\u001b[1;32m    706\u001b[0m \u001b[0;34m\u001b[0m\u001b[0m\n",
      "\u001b[0;32m/usr/local/lib/python2.7/dist-packages/ipykernel/kernelbase.pyc\u001b[0m in \u001b[0;36m_input_request\u001b[0;34m(self, prompt, ident, parent, password)\u001b[0m\n\u001b[1;32m    732\u001b[0m             \u001b[0;32mexcept\u001b[0m \u001b[0mKeyboardInterrupt\u001b[0m\u001b[0;34m:\u001b[0m\u001b[0;34m\u001b[0m\u001b[0m\n\u001b[1;32m    733\u001b[0m                 \u001b[0;31m# re-raise KeyboardInterrupt, to truncate traceback\u001b[0m\u001b[0;34m\u001b[0m\u001b[0;34m\u001b[0m\u001b[0m\n\u001b[0;32m--> 734\u001b[0;31m                 \u001b[0;32mraise\u001b[0m \u001b[0mKeyboardInterrupt\u001b[0m\u001b[0;34m\u001b[0m\u001b[0m\n\u001b[0m\u001b[1;32m    735\u001b[0m             \u001b[0;32melse\u001b[0m\u001b[0;34m:\u001b[0m\u001b[0;34m\u001b[0m\u001b[0m\n\u001b[1;32m    736\u001b[0m                 \u001b[0;32mbreak\u001b[0m\u001b[0;34m\u001b[0m\u001b[0m\n",
      "\u001b[0;31mKeyboardInterrupt\u001b[0m: "
     ]
    }
   ],
   "source": [
    "filename = raw_input(\"Enter file for testing: \")\n",
    "test = pd.read_csv(filename, header = None)\n",
    "test.columns = ['id', 'age', 'exp', 'income', 'zip', 'fam_size', 'spending', 'education', 'mortgage', 'securities_account', 'certi_dep', 'net_banking', 'UniversalBank_cc']\n",
    "numerical = ['age', 'exp', 'income', 'fam_size', 'spending', 'mortgage']\n",
    "categorical = ['education', 'securities_account', 'certi_dep', 'net_banking', 'UniversalBank_cc']\n",
    "test = test.drop(test.index[0])\n",
    "helper(test,'label')"
   ]
  }
 ],
 "metadata": {
  "kernelspec": {
   "display_name": "Python 2",
   "language": "python",
   "name": "python2"
  },
  "language_info": {
   "codemirror_mode": {
    "name": "ipython",
    "version": 2
   },
   "file_extension": ".py",
   "mimetype": "text/x-python",
   "name": "python",
   "nbconvert_exporter": "python",
   "pygments_lexer": "ipython2",
   "version": "2.7.12"
  }
 },
 "nbformat": 4,
 "nbformat_minor": 2
}
