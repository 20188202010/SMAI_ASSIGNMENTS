{
 "cells": [
  {
   "cell_type": "markdown",
   "metadata": {},
   "source": [
    "### Implement a model using linear regression to predict the probablity of getting the admit"
   ]
  },
  {
   "cell_type": "code",
   "execution_count": 15,
   "metadata": {},
   "outputs": [],
   "source": [
    "import numpy as np\n",
    "import pandas as pd"
   ]
  },
  {
   "cell_type": "code",
   "execution_count": 16,
   "metadata": {},
   "outputs": [],
   "source": [
    "from pylab import *\n",
    "import matplotlib\n",
    "import matplotlib.pyplot as plt"
   ]
  },
  {
   "cell_type": "code",
   "execution_count": 17,
   "metadata": {},
   "outputs": [
    {
     "name": "stdout",
     "output_type": "stream",
     "text": [
      "Dataset:  450 9\n"
     ]
    }
   ],
   "source": [
    "dataset = pd.read_csv(\"AdmissionDataset/data.csv\")\n",
    "rows , cols = dataset.shape\n",
    "print \"Dataset: \", rows, cols\n",
    "target = 'Chance of Admit '"
   ]
  },
  {
   "cell_type": "code",
   "execution_count": 18,
   "metadata": {},
   "outputs": [],
   "source": [
    "dataset = dataset.drop(['Serial No.'], axis=1)"
   ]
  },
  {
   "cell_type": "code",
   "execution_count": 19,
   "metadata": {},
   "outputs": [],
   "source": [
    "dataset = dataset.sample(frac=1)\n",
    "train, validate = np.split(dataset, [int(.8*len(dataset))])\n"
   ]
  },
  {
   "cell_type": "markdown",
   "metadata": {},
   "source": [
    "Compute feature matrix X"
   ]
  },
  {
   "cell_type": "code",
   "execution_count": 20,
   "metadata": {
    "scrolled": false
   },
   "outputs": [
    {
     "data": {
      "text/plain": [
       "array([[  1.  , 327.  , 115.  , ...,   4.  ,   9.14,   0.  ],\n",
       "       [  1.  , 304.  , 107.  , ...,   3.  ,   7.86,   0.  ],\n",
       "       [  1.  , 340.  , 120.  , ...,   4.5 ,   9.6 ,   1.  ],\n",
       "       ...,\n",
       "       [  1.  , 318.  , 112.  , ...,   3.5 ,   8.67,   0.  ],\n",
       "       [  1.  , 313.  , 102.  , ...,   3.  ,   8.27,   0.  ],\n",
       "       [  1.  , 320.  , 110.  , ...,   5.  ,   9.2 ,   1.  ]])"
      ]
     },
     "execution_count": 20,
     "metadata": {},
     "output_type": "execute_result"
    }
   ],
   "source": [
    "def makeX(df):\n",
    "    n = train.shape[0]\n",
    "    dimensions = train.shape[1]\n",
    "    if target in df.columns:\n",
    "        df = df.drop([target], axis=1)\n",
    "    X = df.values\n",
    "    X = np.insert(X, 0, values=1, axis=1)\n",
    "#     print \"row: \",X.shape[0], \"cols: \",X.shape[1]\n",
    "    return X\n",
    "    \n",
    "feature = makeX(train)\n",
    "feature"
   ]
  },
  {
   "cell_type": "code",
   "execution_count": 21,
   "metadata": {},
   "outputs": [],
   "source": [
    "def computeBeta(mat, df):    \n",
    "    transpose = mat.transpose()\n",
    "    product = np.dot(transpose, mat)\n",
    "    inverse = np.linalg.inv(product)\n",
    "    inverse_x = np.dot(inverse, transpose)\n",
    "    beta = np.dot(inverse_x, df[target])\n",
    "    return beta\n",
    "    \n",
    "beta = computeBeta(feature, train)"
   ]
  },
  {
   "cell_type": "code",
   "execution_count": 22,
   "metadata": {},
   "outputs": [
    {
     "name": "stdout",
     "output_type": "stream",
     "text": [
      "[0.66945349 0.62137106 0.73426955 0.71766246 0.72756467 0.57033866\n",
      " 0.78767475 0.71497022 0.6002449  0.44355239 0.77740454 0.65547515\n",
      " 0.71453594 0.65991526 0.73411726 0.81642519 0.79727518 0.74612655\n",
      " 0.76674403 0.57683737 0.90175576 0.75284027 0.67998642 0.6831095\n",
      " 0.63308795 0.69647089 0.63421874 0.5879329  0.6518876  0.88720246\n",
      " 0.47725951 0.71623912 0.64696097 0.76970311 0.62253178 0.82858672\n",
      " 0.8321058  0.54177464 0.80233522 0.70230573 0.45572413 0.83771703\n",
      " 0.66958509 0.76341712 0.64048833 0.6521762  0.59231257 0.86214435\n",
      " 0.68745921 0.76886286 0.89840426 0.65724511 0.9425381  0.54628192\n",
      " 1.00109197 0.72043453 0.75440436 0.81279643 0.86312781 0.61528572\n",
      " 0.86308955 0.78371785 0.94718707 0.58778027 0.728765   0.72679545\n",
      " 0.77873967 0.69437514 0.72926727 0.64672596 0.64138481 0.65675083\n",
      " 0.82656217 0.81493154 0.7181253  0.96463483 0.70930808 0.8475716\n",
      " 0.89111088 0.78023916 0.78516935 0.86325256 0.75950666 0.80538649\n",
      " 0.79476425 0.7653318  0.69621912 0.65399243 0.59434215 0.71225169]\n"
     ]
    }
   ],
   "source": [
    "def predict(df,beta):\n",
    "    X = makeX(df)\n",
    "    y = np.dot(X, beta)\n",
    "    return y\n",
    "\n",
    "prediction = predict(validate, beta)\n",
    "print prediction"
   ]
  },
  {
   "cell_type": "markdown",
   "metadata": {},
   "source": [
    "#### Compare  the  performance  of  Mean  square  error  loss  function  vs  Mean  Absolute error function vs Mean absolute percentage error function and explain the reasons for the observed behaviour"
   ]
  },
  {
   "cell_type": "code",
   "execution_count": 23,
   "metadata": {},
   "outputs": [
    {
     "data": {
      "text/plain": [
       "0.0036718798156025506"
      ]
     },
     "execution_count": 23,
     "metadata": {},
     "output_type": "execute_result"
    }
   ],
   "source": [
    "def MSE(predicted_y, original_y):\n",
    "    original = original_y.values\n",
    "    sum = 0\n",
    "    n = len(original)\n",
    "    for i in range(0, n):\n",
    "        diff = predicted_y[i] - original[i]\n",
    "        squared_diff = diff**2\n",
    "        sum += squared_diff\n",
    "    error = sum/n\n",
    "    return error\n",
    "\n",
    "MSE(prediction, validate[target])"
   ]
  },
  {
   "cell_type": "code",
   "execution_count": 24,
   "metadata": {},
   "outputs": [
    {
     "data": {
      "text/plain": [
       "0.043573688843343776"
      ]
     },
     "execution_count": 24,
     "metadata": {},
     "output_type": "execute_result"
    }
   ],
   "source": [
    "def MAE(predicted_y, original_y):\n",
    "    original = original_y.values\n",
    "    sum = 0\n",
    "    n = len(original)\n",
    "    for i in range(0, n):\n",
    "        diff = abs(predicted_y[i] - original[i])\n",
    "        sum += diff\n",
    "    error = sum/n\n",
    "    return error\n",
    "\n",
    "MAE(prediction, validate[target])"
   ]
  },
  {
   "cell_type": "code",
   "execution_count": 25,
   "metadata": {},
   "outputs": [
    {
     "data": {
      "text/plain": [
       "6.735145977881368"
      ]
     },
     "execution_count": 25,
     "metadata": {},
     "output_type": "execute_result"
    }
   ],
   "source": [
    "def MAPE(predicted_y, original_y):\n",
    "    original = original_y.values\n",
    "    sum = 0\n",
    "    n = len(original)\n",
    "    for i in range(0, n):\n",
    "        diff = abs(predicted_y[i] - original[i])\n",
    "        ratio = float(diff)/original[i]\n",
    "        sum += ratio\n",
    "    error = sum/n\n",
    "    return error*100\n",
    "MAPE(prediction, validate[target])"
   ]
  },
  {
   "cell_type": "code",
   "execution_count": 26,
   "metadata": {},
   "outputs": [
    {
     "name": "stdout",
     "output_type": "stream",
     "text": [
      "Enter file for testing: test_admit.csv\n"
     ]
    },
    {
     "data": {
      "text/plain": [
       "array([0.61364814, 0.73502769, 0.74902291, 0.89111088, 0.69221787,\n",
       "       0.65547515, 0.79183882, 0.70230573, 0.66948757, 0.51884694,\n",
       "       0.82315101, 0.95339957])"
      ]
     },
     "execution_count": 26,
     "metadata": {},
     "output_type": "execute_result"
    }
   ],
   "source": [
    "filename = raw_input(\"Enter file for testing: \")\n",
    "test = pd.read_csv(filename)\n",
    "\n",
    "test = test.drop(['Serial No.'], axis=1)\n",
    "predict(test, beta)"
   ]
  }
 ],
 "metadata": {
  "kernelspec": {
   "display_name": "Python 2",
   "language": "python",
   "name": "python2"
  },
  "language_info": {
   "codemirror_mode": {
    "name": "ipython",
    "version": 2
   },
   "file_extension": ".py",
   "mimetype": "text/x-python",
   "name": "python",
   "nbconvert_exporter": "python",
   "pygments_lexer": "ipython2",
   "version": "2.7.12"
  }
 },
 "nbformat": 4,
 "nbformat_minor": 2
}
