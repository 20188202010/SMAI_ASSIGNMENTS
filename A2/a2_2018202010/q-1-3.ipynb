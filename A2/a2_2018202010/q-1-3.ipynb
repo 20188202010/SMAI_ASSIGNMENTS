{
 "cells": [
  {
   "cell_type": "markdown",
   "metadata": {},
   "source": [
    "### Implement a model using linear regression to predict the probablity of getting the admit"
   ]
  },
  {
   "cell_type": "code",
   "execution_count": 61,
   "metadata": {},
   "outputs": [],
   "source": [
    "import numpy as np\n",
    "import pandas as pd"
   ]
  },
  {
   "cell_type": "code",
   "execution_count": 62,
   "metadata": {},
   "outputs": [],
   "source": [
    "from pylab import *\n",
    "import matplotlib\n",
    "import matplotlib.pyplot as plt"
   ]
  },
  {
   "cell_type": "code",
   "execution_count": 63,
   "metadata": {},
   "outputs": [
    {
     "name": "stdout",
     "output_type": "stream",
     "text": [
      "Dataset:  450 9\n"
     ]
    }
   ],
   "source": [
    "dataset = pd.read_csv(\"AdmissionDataset/data.csv\")\n",
    "rows , cols = dataset.shape\n",
    "print \"Dataset: \", rows, cols\n",
    "target = 'Chance of Admit '"
   ]
  },
  {
   "cell_type": "code",
   "execution_count": 64,
   "metadata": {},
   "outputs": [],
   "source": [
    "dataset = dataset.drop(['Serial No.'], axis=1)"
   ]
  },
  {
   "cell_type": "code",
   "execution_count": 65,
   "metadata": {},
   "outputs": [],
   "source": [
    "dataset = dataset.sample(frac=1)\n",
    "train, validate = np.split(dataset, [int(.8*len(dataset))])"
   ]
  },
  {
   "cell_type": "markdown",
   "metadata": {},
   "source": [
    "Compute feature matrix X"
   ]
  },
  {
   "cell_type": "code",
   "execution_count": 66,
   "metadata": {
    "scrolled": false
   },
   "outputs": [
    {
     "data": {
      "text/plain": [
       "array([[  1.  , 290.  , 104.  , ...,   2.5 ,   7.46,   0.  ],\n",
       "       [  1.  , 310.  , 107.  , ...,   3.5 ,   8.67,   0.  ],\n",
       "       [  1.  , 321.  , 109.  , ...,   4.  ,   9.13,   1.  ],\n",
       "       ...,\n",
       "       [  1.  , 317.  , 104.  , ...,   3.  ,   8.76,   0.  ],\n",
       "       [  1.  , 337.  , 118.  , ...,   4.5 ,   9.65,   1.  ],\n",
       "       [  1.  , 324.  , 112.  , ...,   3.5 ,   8.77,   1.  ]])"
      ]
     },
     "execution_count": 66,
     "metadata": {},
     "output_type": "execute_result"
    }
   ],
   "source": [
    "def makeX(df):\n",
    "    n = train.shape[0]\n",
    "    dimensions = train.shape[1]\n",
    "    if target in df.columns:\n",
    "        df = df.drop([target], axis=1)\n",
    "    X = df.values\n",
    "    X = np.insert(X, 0, values=1, axis=1)\n",
    "#     print \"row: \",X.shape[0], \"cols: \",X.shape[1]\n",
    "    return X\n",
    "    \n",
    "feature = makeX(train)\n",
    "feature"
   ]
  },
  {
   "cell_type": "code",
   "execution_count": 67,
   "metadata": {},
   "outputs": [],
   "source": [
    "def computeBeta(mat, df):    \n",
    "    transpose = mat.transpose()\n",
    "    product = np.dot(transpose, mat)\n",
    "    inverse = np.linalg.inv(product)\n",
    "    inverse_x = np.dot(inverse, transpose)\n",
    "    beta = np.dot(inverse_x, df[target])\n",
    "    return beta\n",
    "    \n",
    "beta = computeBeta(feature, train)\n",
    "# print beta"
   ]
  },
  {
   "cell_type": "code",
   "execution_count": 68,
   "metadata": {},
   "outputs": [
    {
     "name": "stdout",
     "output_type": "stream",
     "text": [
      "[0.66597388 0.64104269 0.71479824 0.87074279 0.84971643 0.61318815\n",
      " 0.92056246 0.8621165  0.62920214 0.78055839 0.79061349 0.65219496\n",
      " 0.60482529 0.76285126 0.63042985 0.66162745 0.82811004 0.70755809\n",
      " 0.67141582 0.73723703 0.64968474 0.51960993 0.80382336 0.6749137\n",
      " 0.55533647 0.58170593 0.54070343 0.69644771 0.59286899 0.74442557\n",
      " 0.4273234  0.65349168 0.78508732 0.72599283 0.81470116 0.549515\n",
      " 0.57296196 0.70804148 0.97529935 0.8953129  0.56773495 0.48729529\n",
      " 0.6070059  0.64355775 0.9129668  0.58035725 0.67581325 0.73129926\n",
      " 0.62087245 0.63558398 0.58272459 0.94609894 0.57588567 0.65853355\n",
      " 0.54755438 0.69868896 0.62315722 0.81432987 0.55202414 0.67837792\n",
      " 0.85331206 0.86422189 0.73846917 0.57412095 0.61440841 0.58075531\n",
      " 0.81454456 0.84666311 0.83847144 0.64399464 0.93933763 0.90309451\n",
      " 0.62925483 0.7478666  0.77984932 0.69600865 0.6558372  0.55741559\n",
      " 0.64330536 0.6998881  0.50523329 0.75354121 0.56449496 1.00352153\n",
      " 0.59379633 0.80309859 0.66451687 0.65528996 0.54832077 0.99476475]\n"
     ]
    }
   ],
   "source": [
    "def predict(df,beta):\n",
    "    X = makeX(df)\n",
    "#     print X\n",
    "    y = np.dot(X, beta)\n",
    "    return y\n",
    "\n",
    "prediction = predict(validate, beta)\n",
    "print prediction"
   ]
  },
  {
   "cell_type": "markdown",
   "metadata": {},
   "source": [
    "#### Compare  the  performance  of  Mean  square  error  loss  function  vs  Mean  Absolute error function vs Mean absolute percentage error function and explain the reasons for the observed behaviour"
   ]
  },
  {
   "cell_type": "code",
   "execution_count": 69,
   "metadata": {},
   "outputs": [
    {
     "data": {
      "text/plain": [
       "0.004035512419395324"
      ]
     },
     "execution_count": 69,
     "metadata": {},
     "output_type": "execute_result"
    }
   ],
   "source": [
    "def MSE(predicted_y, original_y):\n",
    "    original = original_y.values\n",
    "    sum = 0\n",
    "    n = len(original)\n",
    "    for i in range(0, n):\n",
    "        diff = predicted_y[i] - original[i]\n",
    "        squared_diff = diff**2\n",
    "        sum += squared_diff\n",
    "    error = sum/n\n",
    "    return error\n",
    "\n",
    "MSE(prediction, validate[target])"
   ]
  },
  {
   "cell_type": "code",
   "execution_count": 70,
   "metadata": {},
   "outputs": [
    {
     "data": {
      "text/plain": [
       "0.04631956507281571"
      ]
     },
     "execution_count": 70,
     "metadata": {},
     "output_type": "execute_result"
    }
   ],
   "source": [
    "def MAE(predicted_y, original_y):\n",
    "    original = original_y.values\n",
    "    sum = 0\n",
    "    n = len(original)\n",
    "    for i in range(0, n):\n",
    "        diff = abs(predicted_y[i] - original[i])\n",
    "        sum += diff\n",
    "    error = sum/n\n",
    "    return error\n",
    "\n",
    "MAE(prediction, validate[target])"
   ]
  },
  {
   "cell_type": "code",
   "execution_count": 71,
   "metadata": {},
   "outputs": [
    {
     "data": {
      "text/plain": [
       "7.087182297093905"
      ]
     },
     "execution_count": 71,
     "metadata": {},
     "output_type": "execute_result"
    }
   ],
   "source": [
    "def MAPE(predicted_y, original_y):\n",
    "    original = original_y.values\n",
    "    sum = 0\n",
    "    n = len(original)\n",
    "    for i in range(0, n):\n",
    "        diff = abs(predicted_y[i] - original[i])\n",
    "        ratio = float(diff)/original[i]\n",
    "        sum += ratio\n",
    "    error = sum/n\n",
    "    return error*100\n",
    "MAPE(prediction, validate[target])"
   ]
  },
  {
   "cell_type": "code",
   "execution_count": 72,
   "metadata": {},
   "outputs": [
    {
     "name": "stdout",
     "output_type": "stream",
     "text": [
      "Enter file for testing: test_admit.csv\n"
     ]
    },
    {
     "data": {
      "text/plain": [
       "array([0.61007566, 0.73418778, 0.74248525, 0.88648107, 0.68282007,\n",
       "       0.65122333, 0.79466163, 0.69109872, 0.67112675, 0.50570565,\n",
       "       0.81432987, 0.94492436])"
      ]
     },
     "execution_count": 72,
     "metadata": {},
     "output_type": "execute_result"
    }
   ],
   "source": [
    "filename = raw_input(\"Enter file for testing: \")\n",
    "test = pd.read_csv(filename)\n",
    "\n",
    "test = test.drop(['Serial No.'], axis=1)\n",
    "# print test.columns\n",
    "predict(test, beta)"
   ]
  }
 ],
 "metadata": {
  "kernelspec": {
   "display_name": "Python 2",
   "language": "python",
   "name": "python2"
  },
  "language_info": {
   "codemirror_mode": {
    "name": "ipython",
    "version": 2
   },
   "file_extension": ".py",
   "mimetype": "text/x-python",
   "name": "python",
   "nbconvert_exporter": "python",
   "pygments_lexer": "ipython2",
   "version": "2.7.12"
  }
 },
 "nbformat": 4,
 "nbformat_minor": 2
}
