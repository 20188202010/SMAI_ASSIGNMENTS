{
 "cells": [
  {
   "cell_type": "markdown",
   "metadata": {},
   "source": [
    "# Importing Libraries"
   ]
  },
  {
   "cell_type": "code",
   "execution_count": 127,
   "metadata": {},
   "outputs": [],
   "source": [
    "import pandas as pd\n",
    "import numpy as np\n",
    "import matplotlib.pyplot as plt\n",
    "import math\n",
    "from sklearn import metrics\n",
    "from collections import Counter\n",
    "from sklearn.model_selection import train_test_split\n",
    "from collections import defaultdict\n",
    "from sklearn.metrics import mean_squared_error\n",
    "import warnings\n",
    "from sklearn.model_selection import KFold\n",
    "warnings.filterwarnings('ignore')"
   ]
  },
  {
   "cell_type": "code",
   "execution_count": 2,
   "metadata": {},
   "outputs": [],
   "source": [
    "np.random.seed(10)"
   ]
  },
  {
   "cell_type": "code",
   "execution_count": 3,
   "metadata": {},
   "outputs": [],
   "source": [
    "def splitData(X ,Y, test_size):\n",
    "    X_train, X_test, y_train, y_test = train_test_split(X, Y, test_size=0.2 ,random_state = 4)\n",
    "    return (X_train, X_test, y_train, y_test)"
   ]
  },
  {
   "cell_type": "markdown",
   "metadata": {},
   "source": [
    "# PART 3 - Linear Regression"
   ]
  },
  {
   "cell_type": "markdown",
   "metadata": {},
   "source": [
    "## Reading Input"
   ]
  },
  {
   "cell_type": "code",
   "execution_count": 4,
   "metadata": {},
   "outputs": [],
   "source": [
    "admission_orig_df = pd.read_csv(\"AdmissionDataset/data.csv\")"
   ]
  },
  {
   "cell_type": "code",
   "execution_count": 5,
   "metadata": {},
   "outputs": [
    {
     "data": {
      "text/html": [
       "<div>\n",
       "<style scoped>\n",
       "    .dataframe tbody tr th:only-of-type {\n",
       "        vertical-align: middle;\n",
       "    }\n",
       "\n",
       "    .dataframe tbody tr th {\n",
       "        vertical-align: top;\n",
       "    }\n",
       "\n",
       "    .dataframe thead th {\n",
       "        text-align: right;\n",
       "    }\n",
       "</style>\n",
       "<table border=\"1\" class=\"dataframe\">\n",
       "  <thead>\n",
       "    <tr style=\"text-align: right;\">\n",
       "      <th></th>\n",
       "      <th>Serial No.</th>\n",
       "      <th>GRE Score</th>\n",
       "      <th>TOEFL Score</th>\n",
       "      <th>University Rating</th>\n",
       "      <th>SOP</th>\n",
       "      <th>LOR</th>\n",
       "      <th>CGPA</th>\n",
       "      <th>Research</th>\n",
       "      <th>Chance of Admit</th>\n",
       "    </tr>\n",
       "  </thead>\n",
       "  <tbody>\n",
       "    <tr>\n",
       "      <th>0</th>\n",
       "      <td>242</td>\n",
       "      <td>317</td>\n",
       "      <td>103</td>\n",
       "      <td>2</td>\n",
       "      <td>2.5</td>\n",
       "      <td>2.0</td>\n",
       "      <td>8.15</td>\n",
       "      <td>0</td>\n",
       "      <td>0.65</td>\n",
       "    </tr>\n",
       "    <tr>\n",
       "      <th>1</th>\n",
       "      <td>334</td>\n",
       "      <td>319</td>\n",
       "      <td>108</td>\n",
       "      <td>3</td>\n",
       "      <td>3.0</td>\n",
       "      <td>3.5</td>\n",
       "      <td>8.54</td>\n",
       "      <td>1</td>\n",
       "      <td>0.71</td>\n",
       "    </tr>\n",
       "    <tr>\n",
       "      <th>2</th>\n",
       "      <td>4</td>\n",
       "      <td>322</td>\n",
       "      <td>110</td>\n",
       "      <td>3</td>\n",
       "      <td>3.5</td>\n",
       "      <td>2.5</td>\n",
       "      <td>8.67</td>\n",
       "      <td>1</td>\n",
       "      <td>0.80</td>\n",
       "    </tr>\n",
       "    <tr>\n",
       "      <th>3</th>\n",
       "      <td>45</td>\n",
       "      <td>326</td>\n",
       "      <td>113</td>\n",
       "      <td>5</td>\n",
       "      <td>4.5</td>\n",
       "      <td>4.0</td>\n",
       "      <td>9.40</td>\n",
       "      <td>1</td>\n",
       "      <td>0.91</td>\n",
       "    </tr>\n",
       "    <tr>\n",
       "      <th>4</th>\n",
       "      <td>232</td>\n",
       "      <td>319</td>\n",
       "      <td>106</td>\n",
       "      <td>3</td>\n",
       "      <td>3.5</td>\n",
       "      <td>2.5</td>\n",
       "      <td>8.33</td>\n",
       "      <td>1</td>\n",
       "      <td>0.74</td>\n",
       "    </tr>\n",
       "  </tbody>\n",
       "</table>\n",
       "</div>"
      ],
      "text/plain": [
       "   Serial No.  GRE Score  TOEFL Score  University Rating  SOP  LOR   CGPA  \\\n",
       "0         242        317          103                  2  2.5   2.0  8.15   \n",
       "1         334        319          108                  3  3.0   3.5  8.54   \n",
       "2           4        322          110                  3  3.5   2.5  8.67   \n",
       "3          45        326          113                  5  4.5   4.0  9.40   \n",
       "4         232        319          106                  3  3.5   2.5  8.33   \n",
       "\n",
       "   Research  Chance of Admit   \n",
       "0         0              0.65  \n",
       "1         1              0.71  \n",
       "2         1              0.80  \n",
       "3         1              0.91  \n",
       "4         1              0.74  "
      ]
     },
     "execution_count": 5,
     "metadata": {},
     "output_type": "execute_result"
    }
   ],
   "source": [
    "admission_orig_df.head()"
   ]
  },
  {
   "cell_type": "code",
   "execution_count": 6,
   "metadata": {},
   "outputs": [
    {
     "data": {
      "text/html": [
       "<div>\n",
       "<style scoped>\n",
       "    .dataframe tbody tr th:only-of-type {\n",
       "        vertical-align: middle;\n",
       "    }\n",
       "\n",
       "    .dataframe tbody tr th {\n",
       "        vertical-align: top;\n",
       "    }\n",
       "\n",
       "    .dataframe thead th {\n",
       "        text-align: right;\n",
       "    }\n",
       "</style>\n",
       "<table border=\"1\" class=\"dataframe\">\n",
       "  <thead>\n",
       "    <tr style=\"text-align: right;\">\n",
       "      <th></th>\n",
       "      <th>Serial No.</th>\n",
       "      <th>GRE Score</th>\n",
       "      <th>TOEFL Score</th>\n",
       "      <th>University Rating</th>\n",
       "      <th>SOP</th>\n",
       "      <th>LOR</th>\n",
       "      <th>CGPA</th>\n",
       "      <th>Research</th>\n",
       "      <th>Chance of Admit</th>\n",
       "    </tr>\n",
       "  </thead>\n",
       "  <tbody>\n",
       "    <tr>\n",
       "      <th>count</th>\n",
       "      <td>450.000000</td>\n",
       "      <td>450.000000</td>\n",
       "      <td>450.000000</td>\n",
       "      <td>450.000000</td>\n",
       "      <td>450.000000</td>\n",
       "      <td>450.000000</td>\n",
       "      <td>450.000000</td>\n",
       "      <td>450.000000</td>\n",
       "      <td>450.000000</td>\n",
       "    </tr>\n",
       "    <tr>\n",
       "      <th>mean</th>\n",
       "      <td>247.726667</td>\n",
       "      <td>316.542222</td>\n",
       "      <td>107.162222</td>\n",
       "      <td>3.126667</td>\n",
       "      <td>3.361111</td>\n",
       "      <td>3.468889</td>\n",
       "      <td>8.577600</td>\n",
       "      <td>0.553333</td>\n",
       "      <td>0.720889</td>\n",
       "    </tr>\n",
       "    <tr>\n",
       "      <th>std</th>\n",
       "      <td>144.927656</td>\n",
       "      <td>11.335705</td>\n",
       "      <td>6.023554</td>\n",
       "      <td>1.140254</td>\n",
       "      <td>0.993374</td>\n",
       "      <td>0.919432</td>\n",
       "      <td>0.599454</td>\n",
       "      <td>0.497701</td>\n",
       "      <td>0.141398</td>\n",
       "    </tr>\n",
       "    <tr>\n",
       "      <th>min</th>\n",
       "      <td>1.000000</td>\n",
       "      <td>290.000000</td>\n",
       "      <td>92.000000</td>\n",
       "      <td>1.000000</td>\n",
       "      <td>1.000000</td>\n",
       "      <td>1.000000</td>\n",
       "      <td>7.200000</td>\n",
       "      <td>0.000000</td>\n",
       "      <td>0.340000</td>\n",
       "    </tr>\n",
       "    <tr>\n",
       "      <th>25%</th>\n",
       "      <td>124.250000</td>\n",
       "      <td>308.250000</td>\n",
       "      <td>103.000000</td>\n",
       "      <td>2.000000</td>\n",
       "      <td>2.500000</td>\n",
       "      <td>3.000000</td>\n",
       "      <td>8.122500</td>\n",
       "      <td>0.000000</td>\n",
       "      <td>0.630000</td>\n",
       "    </tr>\n",
       "    <tr>\n",
       "      <th>50%</th>\n",
       "      <td>246.500000</td>\n",
       "      <td>317.000000</td>\n",
       "      <td>107.000000</td>\n",
       "      <td>3.000000</td>\n",
       "      <td>3.500000</td>\n",
       "      <td>3.500000</td>\n",
       "      <td>8.560000</td>\n",
       "      <td>1.000000</td>\n",
       "      <td>0.720000</td>\n",
       "    </tr>\n",
       "    <tr>\n",
       "      <th>75%</th>\n",
       "      <td>373.750000</td>\n",
       "      <td>325.000000</td>\n",
       "      <td>112.000000</td>\n",
       "      <td>4.000000</td>\n",
       "      <td>4.000000</td>\n",
       "      <td>4.000000</td>\n",
       "      <td>9.040000</td>\n",
       "      <td>1.000000</td>\n",
       "      <td>0.820000</td>\n",
       "    </tr>\n",
       "    <tr>\n",
       "      <th>max</th>\n",
       "      <td>500.000000</td>\n",
       "      <td>340.000000</td>\n",
       "      <td>120.000000</td>\n",
       "      <td>5.000000</td>\n",
       "      <td>5.000000</td>\n",
       "      <td>5.000000</td>\n",
       "      <td>9.920000</td>\n",
       "      <td>1.000000</td>\n",
       "      <td>0.970000</td>\n",
       "    </tr>\n",
       "  </tbody>\n",
       "</table>\n",
       "</div>"
      ],
      "text/plain": [
       "       Serial No.   GRE Score  TOEFL Score  University Rating         SOP  \\\n",
       "count  450.000000  450.000000   450.000000         450.000000  450.000000   \n",
       "mean   247.726667  316.542222   107.162222           3.126667    3.361111   \n",
       "std    144.927656   11.335705     6.023554           1.140254    0.993374   \n",
       "min      1.000000  290.000000    92.000000           1.000000    1.000000   \n",
       "25%    124.250000  308.250000   103.000000           2.000000    2.500000   \n",
       "50%    246.500000  317.000000   107.000000           3.000000    3.500000   \n",
       "75%    373.750000  325.000000   112.000000           4.000000    4.000000   \n",
       "max    500.000000  340.000000   120.000000           5.000000    5.000000   \n",
       "\n",
       "             LOR         CGPA    Research  Chance of Admit   \n",
       "count  450.000000  450.000000  450.000000        450.000000  \n",
       "mean     3.468889    8.577600    0.553333          0.720889  \n",
       "std      0.919432    0.599454    0.497701          0.141398  \n",
       "min      1.000000    7.200000    0.000000          0.340000  \n",
       "25%      3.000000    8.122500    0.000000          0.630000  \n",
       "50%      3.500000    8.560000    1.000000          0.720000  \n",
       "75%      4.000000    9.040000    1.000000          0.820000  \n",
       "max      5.000000    9.920000    1.000000          0.970000  "
      ]
     },
     "execution_count": 6,
     "metadata": {},
     "output_type": "execute_result"
    }
   ],
   "source": [
    "admission_orig_df.describe()"
   ]
  },
  {
   "cell_type": "code",
   "execution_count": 7,
   "metadata": {},
   "outputs": [],
   "source": [
    "admission_orig_cols = ['Serial_No', 'GRE_Score', 'TOEFL_Score', 'University_Rating', 'SOP', 'LOR', 'CGPA', 'Research', 'Chance_of_Admit']\n",
    "admission_orig_df.columns = admission_orig_cols"
   ]
  },
  {
   "cell_type": "markdown",
   "metadata": {},
   "source": [
    "## Data Exploration"
   ]
  },
  {
   "cell_type": "code",
   "execution_count": 8,
   "metadata": {},
   "outputs": [
    {
     "data": {
      "text/html": [
       "<div>\n",
       "<style scoped>\n",
       "    .dataframe tbody tr th:only-of-type {\n",
       "        vertical-align: middle;\n",
       "    }\n",
       "\n",
       "    .dataframe tbody tr th {\n",
       "        vertical-align: top;\n",
       "    }\n",
       "\n",
       "    .dataframe thead th {\n",
       "        text-align: right;\n",
       "    }\n",
       "</style>\n",
       "<table border=\"1\" class=\"dataframe\">\n",
       "  <thead>\n",
       "    <tr style=\"text-align: right;\">\n",
       "      <th></th>\n",
       "      <th>Serial_No</th>\n",
       "      <th>GRE_Score</th>\n",
       "      <th>TOEFL_Score</th>\n",
       "      <th>University_Rating</th>\n",
       "      <th>SOP</th>\n",
       "      <th>LOR</th>\n",
       "      <th>CGPA</th>\n",
       "      <th>Research</th>\n",
       "      <th>Chance_of_Admit</th>\n",
       "    </tr>\n",
       "  </thead>\n",
       "  <tbody>\n",
       "    <tr>\n",
       "      <th>0</th>\n",
       "      <td>242</td>\n",
       "      <td>317</td>\n",
       "      <td>103</td>\n",
       "      <td>2</td>\n",
       "      <td>2.5</td>\n",
       "      <td>2.0</td>\n",
       "      <td>8.15</td>\n",
       "      <td>0</td>\n",
       "      <td>0.65</td>\n",
       "    </tr>\n",
       "    <tr>\n",
       "      <th>1</th>\n",
       "      <td>334</td>\n",
       "      <td>319</td>\n",
       "      <td>108</td>\n",
       "      <td>3</td>\n",
       "      <td>3.0</td>\n",
       "      <td>3.5</td>\n",
       "      <td>8.54</td>\n",
       "      <td>1</td>\n",
       "      <td>0.71</td>\n",
       "    </tr>\n",
       "    <tr>\n",
       "      <th>2</th>\n",
       "      <td>4</td>\n",
       "      <td>322</td>\n",
       "      <td>110</td>\n",
       "      <td>3</td>\n",
       "      <td>3.5</td>\n",
       "      <td>2.5</td>\n",
       "      <td>8.67</td>\n",
       "      <td>1</td>\n",
       "      <td>0.80</td>\n",
       "    </tr>\n",
       "    <tr>\n",
       "      <th>3</th>\n",
       "      <td>45</td>\n",
       "      <td>326</td>\n",
       "      <td>113</td>\n",
       "      <td>5</td>\n",
       "      <td>4.5</td>\n",
       "      <td>4.0</td>\n",
       "      <td>9.40</td>\n",
       "      <td>1</td>\n",
       "      <td>0.91</td>\n",
       "    </tr>\n",
       "    <tr>\n",
       "      <th>4</th>\n",
       "      <td>232</td>\n",
       "      <td>319</td>\n",
       "      <td>106</td>\n",
       "      <td>3</td>\n",
       "      <td>3.5</td>\n",
       "      <td>2.5</td>\n",
       "      <td>8.33</td>\n",
       "      <td>1</td>\n",
       "      <td>0.74</td>\n",
       "    </tr>\n",
       "  </tbody>\n",
       "</table>\n",
       "</div>"
      ],
      "text/plain": [
       "   Serial_No  GRE_Score  TOEFL_Score  University_Rating  SOP  LOR  CGPA  \\\n",
       "0        242        317          103                  2  2.5  2.0  8.15   \n",
       "1        334        319          108                  3  3.0  3.5  8.54   \n",
       "2          4        322          110                  3  3.5  2.5  8.67   \n",
       "3         45        326          113                  5  4.5  4.0  9.40   \n",
       "4        232        319          106                  3  3.5  2.5  8.33   \n",
       "\n",
       "   Research  Chance_of_Admit  \n",
       "0         0             0.65  \n",
       "1         1             0.71  \n",
       "2         1             0.80  \n",
       "3         1             0.91  \n",
       "4         1             0.74  "
      ]
     },
     "execution_count": 8,
     "metadata": {},
     "output_type": "execute_result"
    }
   ],
   "source": [
    "admission_orig_df.head()"
   ]
  },
  {
   "cell_type": "code",
   "execution_count": 9,
   "metadata": {},
   "outputs": [
    {
     "data": {
      "text/html": [
       "<div>\n",
       "<style scoped>\n",
       "    .dataframe tbody tr th:only-of-type {\n",
       "        vertical-align: middle;\n",
       "    }\n",
       "\n",
       "    .dataframe tbody tr th {\n",
       "        vertical-align: top;\n",
       "    }\n",
       "\n",
       "    .dataframe thead th {\n",
       "        text-align: right;\n",
       "    }\n",
       "</style>\n",
       "<table border=\"1\" class=\"dataframe\">\n",
       "  <thead>\n",
       "    <tr style=\"text-align: right;\">\n",
       "      <th></th>\n",
       "      <th>Serial_No</th>\n",
       "      <th>GRE_Score</th>\n",
       "      <th>TOEFL_Score</th>\n",
       "      <th>University_Rating</th>\n",
       "      <th>SOP</th>\n",
       "      <th>LOR</th>\n",
       "      <th>CGPA</th>\n",
       "      <th>Research</th>\n",
       "      <th>Chance_of_Admit</th>\n",
       "    </tr>\n",
       "  </thead>\n",
       "  <tbody>\n",
       "  </tbody>\n",
       "</table>\n",
       "</div>"
      ],
      "text/plain": [
       "Empty DataFrame\n",
       "Columns: [Serial_No, GRE_Score, TOEFL_Score, University_Rating, SOP, LOR, CGPA, Research, Chance_of_Admit]\n",
       "Index: []"
      ]
     },
     "execution_count": 9,
     "metadata": {},
     "output_type": "execute_result"
    }
   ],
   "source": [
    "admission_orig_df[admission_orig_df['GRE_Score'] != admission_orig_df.GRE_Score.astype(int)]"
   ]
  },
  {
   "cell_type": "code",
   "execution_count": 10,
   "metadata": {},
   "outputs": [
    {
     "data": {
      "text/html": [
       "<div>\n",
       "<style scoped>\n",
       "    .dataframe tbody tr th:only-of-type {\n",
       "        vertical-align: middle;\n",
       "    }\n",
       "\n",
       "    .dataframe tbody tr th {\n",
       "        vertical-align: top;\n",
       "    }\n",
       "\n",
       "    .dataframe thead th {\n",
       "        text-align: right;\n",
       "    }\n",
       "</style>\n",
       "<table border=\"1\" class=\"dataframe\">\n",
       "  <thead>\n",
       "    <tr style=\"text-align: right;\">\n",
       "      <th></th>\n",
       "      <th>Serial_No</th>\n",
       "      <th>GRE_Score</th>\n",
       "      <th>TOEFL_Score</th>\n",
       "      <th>University_Rating</th>\n",
       "      <th>SOP</th>\n",
       "      <th>LOR</th>\n",
       "      <th>CGPA</th>\n",
       "      <th>Research</th>\n",
       "      <th>Chance_of_Admit</th>\n",
       "    </tr>\n",
       "  </thead>\n",
       "  <tbody>\n",
       "    <tr>\n",
       "      <th>Serial_No</th>\n",
       "      <td>1.000000</td>\n",
       "      <td>-0.080196</td>\n",
       "      <td>-0.115323</td>\n",
       "      <td>-0.027499</td>\n",
       "      <td>-0.108152</td>\n",
       "      <td>0.010717</td>\n",
       "      <td>-0.061309</td>\n",
       "      <td>0.010068</td>\n",
       "      <td>0.023551</td>\n",
       "    </tr>\n",
       "    <tr>\n",
       "      <th>GRE_Score</th>\n",
       "      <td>-0.080196</td>\n",
       "      <td>1.000000</td>\n",
       "      <td>0.821423</td>\n",
       "      <td>0.631178</td>\n",
       "      <td>0.616670</td>\n",
       "      <td>0.535315</td>\n",
       "      <td>0.826544</td>\n",
       "      <td>0.562533</td>\n",
       "      <td>0.810894</td>\n",
       "    </tr>\n",
       "    <tr>\n",
       "      <th>TOEFL_Score</th>\n",
       "      <td>-0.115323</td>\n",
       "      <td>0.821423</td>\n",
       "      <td>1.000000</td>\n",
       "      <td>0.642612</td>\n",
       "      <td>0.648256</td>\n",
       "      <td>0.544411</td>\n",
       "      <td>0.810381</td>\n",
       "      <td>0.471452</td>\n",
       "      <td>0.790005</td>\n",
       "    </tr>\n",
       "    <tr>\n",
       "      <th>University_Rating</th>\n",
       "      <td>-0.027499</td>\n",
       "      <td>0.631178</td>\n",
       "      <td>0.642612</td>\n",
       "      <td>1.000000</td>\n",
       "      <td>0.722434</td>\n",
       "      <td>0.614527</td>\n",
       "      <td>0.696721</td>\n",
       "      <td>0.437424</td>\n",
       "      <td>0.685563</td>\n",
       "    </tr>\n",
       "    <tr>\n",
       "      <th>SOP</th>\n",
       "      <td>-0.108152</td>\n",
       "      <td>0.616670</td>\n",
       "      <td>0.648256</td>\n",
       "      <td>0.722434</td>\n",
       "      <td>1.000000</td>\n",
       "      <td>0.664015</td>\n",
       "      <td>0.713633</td>\n",
       "      <td>0.403552</td>\n",
       "      <td>0.681585</td>\n",
       "    </tr>\n",
       "    <tr>\n",
       "      <th>LOR</th>\n",
       "      <td>0.010717</td>\n",
       "      <td>0.535315</td>\n",
       "      <td>0.544411</td>\n",
       "      <td>0.614527</td>\n",
       "      <td>0.664015</td>\n",
       "      <td>1.000000</td>\n",
       "      <td>0.640347</td>\n",
       "      <td>0.392998</td>\n",
       "      <td>0.644693</td>\n",
       "    </tr>\n",
       "    <tr>\n",
       "      <th>CGPA</th>\n",
       "      <td>-0.061309</td>\n",
       "      <td>0.826544</td>\n",
       "      <td>0.810381</td>\n",
       "      <td>0.696721</td>\n",
       "      <td>0.713633</td>\n",
       "      <td>0.640347</td>\n",
       "      <td>1.000000</td>\n",
       "      <td>0.507005</td>\n",
       "      <td>0.877802</td>\n",
       "    </tr>\n",
       "    <tr>\n",
       "      <th>Research</th>\n",
       "      <td>0.010068</td>\n",
       "      <td>0.562533</td>\n",
       "      <td>0.471452</td>\n",
       "      <td>0.437424</td>\n",
       "      <td>0.403552</td>\n",
       "      <td>0.392998</td>\n",
       "      <td>0.507005</td>\n",
       "      <td>1.000000</td>\n",
       "      <td>0.557906</td>\n",
       "    </tr>\n",
       "    <tr>\n",
       "      <th>Chance_of_Admit</th>\n",
       "      <td>0.023551</td>\n",
       "      <td>0.810894</td>\n",
       "      <td>0.790005</td>\n",
       "      <td>0.685563</td>\n",
       "      <td>0.681585</td>\n",
       "      <td>0.644693</td>\n",
       "      <td>0.877802</td>\n",
       "      <td>0.557906</td>\n",
       "      <td>1.000000</td>\n",
       "    </tr>\n",
       "  </tbody>\n",
       "</table>\n",
       "</div>"
      ],
      "text/plain": [
       "                   Serial_No  GRE_Score  TOEFL_Score  University_Rating  \\\n",
       "Serial_No           1.000000  -0.080196    -0.115323          -0.027499   \n",
       "GRE_Score          -0.080196   1.000000     0.821423           0.631178   \n",
       "TOEFL_Score        -0.115323   0.821423     1.000000           0.642612   \n",
       "University_Rating  -0.027499   0.631178     0.642612           1.000000   \n",
       "SOP                -0.108152   0.616670     0.648256           0.722434   \n",
       "LOR                 0.010717   0.535315     0.544411           0.614527   \n",
       "CGPA               -0.061309   0.826544     0.810381           0.696721   \n",
       "Research            0.010068   0.562533     0.471452           0.437424   \n",
       "Chance_of_Admit     0.023551   0.810894     0.790005           0.685563   \n",
       "\n",
       "                        SOP       LOR      CGPA  Research  Chance_of_Admit  \n",
       "Serial_No         -0.108152  0.010717 -0.061309  0.010068         0.023551  \n",
       "GRE_Score          0.616670  0.535315  0.826544  0.562533         0.810894  \n",
       "TOEFL_Score        0.648256  0.544411  0.810381  0.471452         0.790005  \n",
       "University_Rating  0.722434  0.614527  0.696721  0.437424         0.685563  \n",
       "SOP                1.000000  0.664015  0.713633  0.403552         0.681585  \n",
       "LOR                0.664015  1.000000  0.640347  0.392998         0.644693  \n",
       "CGPA               0.713633  0.640347  1.000000  0.507005         0.877802  \n",
       "Research           0.403552  0.392998  0.507005  1.000000         0.557906  \n",
       "Chance_of_Admit    0.681585  0.644693  0.877802  0.557906         1.000000  "
      ]
     },
     "execution_count": 10,
     "metadata": {},
     "output_type": "execute_result"
    }
   ],
   "source": [
    "corr = admission_orig_df.corr()\n",
    "corr"
   ]
  },
  {
   "cell_type": "code",
   "execution_count": 11,
   "metadata": {},
   "outputs": [],
   "source": [
    "# Dropping Serial Number\n",
    "admission_df = admission_orig_df.drop(columns=['Serial_No'])"
   ]
  },
  {
   "cell_type": "markdown",
   "metadata": {},
   "source": [
    "## Splitting data into train(80%) and validation(20%)"
   ]
  },
  {
   "cell_type": "code",
   "execution_count": 15,
   "metadata": {},
   "outputs": [],
   "source": [
    "admission_train_X, admission_val_X, admission_train_Y, admission_val_Y = splitData(admission_df.iloc[:,admission_df.columns != 'Chance_of_Admit'], admission_df['Chance_of_Admit'], test_size=0.2)"
   ]
  },
  {
   "cell_type": "markdown",
   "metadata": {},
   "source": [
    "## Linear Regression"
   ]
  },
  {
   "cell_type": "markdown",
   "metadata": {},
   "source": [
    "## helper Functions"
   ]
  },
  {
   "cell_type": "code",
   "execution_count": 126,
   "metadata": {},
   "outputs": [],
   "source": [
    "def MSE(X, Y, theta, lamda, regularization):\n",
    "    m = len(Y)\n",
    "    lamda_term = None\n",
    "    if(regularization == \"lasso\"):\n",
    "        lamda_term = lamda*np.sum(np.abs(theta))/m\n",
    "    elif(regularization == \"ridge\"):\n",
    "        lamda_term = lamda/2*np.sum(np.dot(theta,theta.T))/m\n",
    "    return np.sum((np.dot(X, theta.T) - Y) ** 2)/(2 * m) + lamda_term\n",
    "    \n",
    "def makeCoeffDF(coeffs, type_):\n",
    "    coeff_cols = ['Type','GRE_Score', 'TOEFL_Score', \n",
    "                  'University_Rating', 'SOP', 'LOR', 'CGPA', 'Research', 'Intercept']\n",
    "    temp = [[type_]+list(coeffs.flatten())]\n",
    "    coeff_df = pd.DataFrame([[type_]+list(coeffs.flatten())], columns=coeff_cols)\n",
    "    return coeff_df"
   ]
  },
  {
   "cell_type": "code",
   "execution_count": 44,
   "metadata": {},
   "outputs": [],
   "source": [
    "class MyLinearRegressor:\n",
    "    def __init__(self, cost_measure = MSE, learning_rate = 0.01,\n",
    "                 no_iterations = 1000, lamda=1, regularization=\"lasso\"):\n",
    "        self.cost_measure = cost_measure\n",
    "        self.cost_name = cost_measure.__name__\n",
    "        self.alpha = learning_rate\n",
    "        self.iterations = no_iterations\n",
    "        self.lamda = lamda\n",
    "        self.regularization = regularization\n",
    "    \n",
    "    def normalize_X(self, X):\n",
    "        X_normalized = (X - self.X_mean)/self.X_var\n",
    "        return X_normalized\n",
    "\n",
    "    def normalize_Y(self, Y):\n",
    "        return Y\n",
    "        Y_normalized = (Y - self.Y_mean)/self.Y_var\n",
    "        return Y_normalized\n",
    "    \n",
    "    def fit(self, X, Y):\n",
    "        #### m = no of examples, n = no of features\n",
    "        ### X : shape = mxn\n",
    "        ### Y : shape = 1xm\n",
    "        self.X_mean = X.mean()\n",
    "        self.X_var = X.var()\n",
    "        self.Y_mean = Y.mean()\n",
    "        self.Y_var = Y.var()\n",
    "        temp = list(X.columns.values)\n",
    "        temp.append('Intercept')\n",
    "        self.columns_X = temp\n",
    "        \n",
    "        X  = self.normalize_X(X)\n",
    "        Y  = self.normalize_Y(Y)\n",
    "        X_temp = X.values\n",
    "        c = np.ones((1, len(X)))  ### shape = 1xm\n",
    "        X_temp = np.concatenate((X, c.T), axis=1) ## Shape : mxn\n",
    "        theta = np.zeros((1, len(X_temp[0]))) ## shape: 1 X n \n",
    "        Y_temp = Y.values.reshape(len(X),1)  ## shape : (m,1)\n",
    "#         print(X_temp)\n",
    "        theta, cost_hist = self.gradient_descent(theta, X_temp, Y_temp, self.alpha, self.iterations)\n",
    "#         print(\"final_cost {0}\".format(cost_hist[-1]))\n",
    "        self.theta = theta\n",
    "        self.coef_ = theta.flatten()[:-1]\n",
    "        self.cost_hist = cost_hist\n",
    "        self.intercept_ = theta.flatten()[-1:]\n",
    "#         print(theta)\n",
    "    \n",
    "    def predict(self, X):\n",
    "        X = self.normalize_X(X)\n",
    "        c = np.ones((1, len(X)))  ### shape = 1xm\n",
    "        X_temp = np.concatenate((X, c.T), axis=1) ## Shape : kxn\n",
    "        y_pred = np.dot(X_temp,self.theta.T)\n",
    "#         y_pred = y_pred*self.Y_var + self.Y_mean\n",
    "        return y_pred.flatten()\n",
    "\n",
    "    def calcError(self, X, Y):\n",
    "        Y = np.array(Y).reshape(len(Y),-1)\n",
    "        X = self.normalize_X(X)\n",
    "        c = np.ones((1, len(X)))  ### shape = 1xm\n",
    "        X_temp = np.concatenate((X, c.T), axis=1) ## Shape : kxn\n",
    "        y_pred = np.dot(X_temp,self.theta.T)\n",
    "        res = y_pred.flatten()\n",
    "        return MSE(X_temp, Y, self.theta, self.lamda, self.regularization)\n",
    "    \n",
    "    def allCoeffs(self):\n",
    "        coeffs = list(self.coef_) + list(self.intercept_)\n",
    "        coeffs = np.array(coeffs).reshape(1, len(coeffs))\n",
    "        return coeffs\n",
    "    \n",
    "    def plotCoeffsAndCost(self, theta_history, cost_history, iterations):\n",
    "        x_values = range(iterations)\n",
    "        theta_df = pd.DataFrame(theta_history, columns=self.columns_X)\n",
    "        theta_df = theta_df.iloc[:,theta_df.columns != 'Intercept']\n",
    "        # style\n",
    "        plt.rcParams[\"figure.figsize\"] = (10,15)\n",
    "        plt.subplot(2, 1, 1)\n",
    "        plt.style.use('seaborn-darkgrid')\n",
    "\n",
    "        # create a color palette\n",
    "        palette = plt.get_cmap('Set1')\n",
    "\n",
    "        # multiple line plot\n",
    "        num=0\n",
    "        for column in theta_df:\n",
    "            num+=1\n",
    "            plt.plot(x_values, theta_df[column], marker='', color=palette(num), linewidth=1, alpha=0.9, label=column)\n",
    "\n",
    "        # Add legend\n",
    "        plt.legend(loc=2, ncol=2)\n",
    "\n",
    "        # Add titles\n",
    "        plt.title(\"Coefficient Variation\", loc='left', fontsize=12, fontweight=0, color='orange')\n",
    "        plt.xlabel('iteration')\n",
    "        plt.ylabel('Coefficients')\n",
    "        \n",
    "        plt.subplot(2, 1, 2)\n",
    "        plt.plot(range(iterations), cost_history)\n",
    "        plt.xlabel('iteration')\n",
    "        plt.ylabel('cost')\n",
    "        \n",
    "    def gradient_descent(self, theta, X, Y, alpha, iterations):\n",
    "        cost_history = [0] * iterations\n",
    "        theta_history = [0] * iterations\n",
    "        m = len(Y)\n",
    "\n",
    "        for iteration in range(iterations):\n",
    "            # Hypothesis Values\n",
    "            h = np.dot(X,theta.T) ## shape : (m,1)\n",
    "            # Difference b/w Hypothesis and Actual Y\n",
    "            if(self.cost_name == \"MSE\"):\n",
    "                loss = h - Y ## shape: (m,1)\n",
    "                # Gradient Calculation\n",
    "                gradient = np.dot(X.T,loss) / m  ##shape : (n,1)\n",
    "                ## Lasso/Ridge component\n",
    "                lamda_term = None\n",
    "                if(self.regularization == \"lasso\"):\n",
    "                    lamda_term = self.lamda*np.nan_to_num(np.divide(np.absolute(theta.T),theta.T))/m\n",
    "                elif(self.regularization == \"ridge\"):\n",
    "                    lamda_term = self.lamda*np.nan_to_num(theta.T)/m\n",
    "                gradient += lamda_term\n",
    "                # Changing Values of B using Gradient\n",
    "                theta = theta - alpha * (gradient.T)\n",
    "            \n",
    "            theta_history[iteration] = theta.flatten()\n",
    "            cost = self.cost_measure(X, Y, theta, self.lamda, self.regularization)\n",
    "            cost_history[iteration] = cost\n",
    "        return theta, cost_history"
   ]
  },
  {
   "cell_type": "markdown",
   "metadata": {},
   "source": [
    "# Question - 1\n",
    "Implement Lasso regression also known as L1 regularisation and plot graph between regularisation coefficient λ and error"
   ]
  },
  {
   "cell_type": "code",
   "execution_count": 110,
   "metadata": {},
   "outputs": [
    {
     "data": {
      "text/plain": [
       "0.0109877626296883"
      ]
     },
     "execution_count": 110,
     "metadata": {},
     "output_type": "execute_result"
    }
   ],
   "source": [
    "lr = MyLinearRegressor(MSE, 0.01, 1000, 1,\"lasso\")\n",
    "lr.fit(admission_train_X, admission_train_Y)\n",
    "lr.calcError(admission_val_X, admission_val_Y)"
   ]
  },
  {
   "cell_type": "code",
   "execution_count": 111,
   "metadata": {},
   "outputs": [
    {
     "data": {
      "text/html": [
       "<div>\n",
       "<style scoped>\n",
       "    .dataframe tbody tr th:only-of-type {\n",
       "        vertical-align: middle;\n",
       "    }\n",
       "\n",
       "    .dataframe tbody tr th {\n",
       "        vertical-align: top;\n",
       "    }\n",
       "\n",
       "    .dataframe thead th {\n",
       "        text-align: right;\n",
       "    }\n",
       "</style>\n",
       "<table border=\"1\" class=\"dataframe\">\n",
       "  <thead>\n",
       "    <tr style=\"text-align: right;\">\n",
       "      <th></th>\n",
       "      <th>Type</th>\n",
       "      <th>GRE_Score</th>\n",
       "      <th>TOEFL_Score</th>\n",
       "      <th>University_Rating</th>\n",
       "      <th>SOP</th>\n",
       "      <th>LOR</th>\n",
       "      <th>CGPA</th>\n",
       "      <th>Research</th>\n",
       "      <th>Intercept</th>\n",
       "    </tr>\n",
       "  </thead>\n",
       "  <tbody>\n",
       "    <tr>\n",
       "      <th>0</th>\n",
       "      <td>lasso</td>\n",
       "      <td>0.000025</td>\n",
       "      <td>0.000018</td>\n",
       "      <td>0.006131</td>\n",
       "      <td>0.002403</td>\n",
       "      <td>0.008997</td>\n",
       "      <td>0.062232</td>\n",
       "      <td>0.00863</td>\n",
       "      <td>0.716108</td>\n",
       "    </tr>\n",
       "  </tbody>\n",
       "</table>\n",
       "</div>"
      ],
      "text/plain": [
       "    Type  GRE_Score  TOEFL_Score  University_Rating       SOP       LOR  \\\n",
       "0  lasso   0.000025     0.000018           0.006131  0.002403  0.008997   \n",
       "\n",
       "       CGPA  Research  Intercept  \n",
       "0  0.062232   0.00863   0.716108  "
      ]
     },
     "execution_count": 111,
     "metadata": {},
     "output_type": "execute_result"
    }
   ],
   "source": [
    "coeff_Df = makeCoeffDF(lr.allCoeffs(), \"lasso\")\n",
    "coeff_Df"
   ]
  },
  {
   "cell_type": "code",
   "execution_count": 112,
   "metadata": {},
   "outputs": [],
   "source": [
    "lamda = 0.1\n",
    "errors = []\n",
    "lambdas = []\n",
    "while(lamda < 50):\n",
    "    lr = MyLinearRegressor(MSE, 0.01, 1000, lamda)\n",
    "    lr.fit(admission_train_X, admission_train_Y)\n",
    "    lambdas.append(lamda)\n",
    "    errors.append(lr.calcError(admission_val_X, admission_val_Y))\n",
    "    if(lamda < 1):\n",
    "        lamda += 0.1\n",
    "    else:\n",
    "        lamda += 1"
   ]
  },
  {
   "cell_type": "code",
   "execution_count": 113,
   "metadata": {},
   "outputs": [
    {
     "data": {
      "text/plain": [
       "Text(0.5,1,'Error vs lamda (Lasso)')"
      ]
     },
     "execution_count": 113,
     "metadata": {},
     "output_type": "execute_result"
    },
    {
     "data": {
      "image/png": "[encoded data removed]",
      "text/plain": [
       "<Figure size 864x432 with 1 Axes>"
      ]
     },
     "metadata": {},
     "output_type": "display_data"
    }
   ],
   "source": [
    "fig, ax = plt.subplots()\n",
    "fig.set_size_inches(12,6)\n",
    "ax = plt.subplot(111)\n",
    "ax.plot(np.log10(lambdas), errors)\n",
    "ax.set_xlabel(\"Log10(lamda)\")\n",
    "ax.set_ylabel(\"Mean Square Error\")\n",
    "ax.set_title(\"Error vs lamda (Lasso)\")"
   ]
  },
  {
   "cell_type": "markdown",
   "metadata": {},
   "source": [
    "# Question - 2\n",
    "Implement Ridge regression also known as L2 regularisation and plot graph between regularisation coefficient λ and error"
   ]
  },
  {
   "cell_type": "code",
   "execution_count": 86,
   "metadata": {},
   "outputs": [
    {
     "data": {
      "text/plain": [
       "0.004813786540380165"
      ]
     },
     "execution_count": 86,
     "metadata": {},
     "output_type": "execute_result"
    }
   ],
   "source": [
    "lr = MyLinearRegressor(MSE, 0.01, 1000, 1,\"ridge\")\n",
    "lr.fit(admission_train_X, admission_train_Y)\n",
    "lr.calcError(admission_val_X, admission_val_Y)"
   ]
  },
  {
   "cell_type": "code",
   "execution_count": 115,
   "metadata": {},
   "outputs": [
    {
     "data": {
      "text/html": [
       "<div>\n",
       "<style scoped>\n",
       "    .dataframe tbody tr th:only-of-type {\n",
       "        vertical-align: middle;\n",
       "    }\n",
       "\n",
       "    .dataframe tbody tr th {\n",
       "        vertical-align: top;\n",
       "    }\n",
       "\n",
       "    .dataframe thead th {\n",
       "        text-align: right;\n",
       "    }\n",
       "</style>\n",
       "<table border=\"1\" class=\"dataframe\">\n",
       "  <thead>\n",
       "    <tr style=\"text-align: right;\">\n",
       "      <th></th>\n",
       "      <th>Type</th>\n",
       "      <th>GRE_Score</th>\n",
       "      <th>TOEFL_Score</th>\n",
       "      <th>University_Rating</th>\n",
       "      <th>SOP</th>\n",
       "      <th>LOR</th>\n",
       "      <th>CGPA</th>\n",
       "      <th>Research</th>\n",
       "      <th>Intercept</th>\n",
       "    </tr>\n",
       "  </thead>\n",
       "  <tbody>\n",
       "    <tr>\n",
       "      <th>0</th>\n",
       "      <td>ridge</td>\n",
       "      <td>0.000861</td>\n",
       "      <td>0.000139</td>\n",
       "      <td>0.000643</td>\n",
       "      <td>0.001911</td>\n",
       "      <td>0.001666</td>\n",
       "      <td>0.024221</td>\n",
       "      <td>0.002475</td>\n",
       "      <td>0.582503</td>\n",
       "    </tr>\n",
       "  </tbody>\n",
       "</table>\n",
       "</div>"
      ],
      "text/plain": [
       "    Type  GRE_Score  TOEFL_Score  University_Rating       SOP       LOR  \\\n",
       "0  ridge   0.000861     0.000139           0.000643  0.001911  0.001666   \n",
       "\n",
       "       CGPA  Research  Intercept  \n",
       "0  0.024221  0.002475   0.582503  "
      ]
     },
     "execution_count": 115,
     "metadata": {},
     "output_type": "execute_result"
    }
   ],
   "source": [
    "coeff_Df2 = makeCoeffDF(lr.allCoeffs(), \"ridge\")\n",
    "coeff_Df2"
   ]
  },
  {
   "cell_type": "code",
   "execution_count": 116,
   "metadata": {},
   "outputs": [
    {
     "data": {
      "text/html": [
       "<div>\n",
       "<style scoped>\n",
       "    .dataframe tbody tr th:only-of-type {\n",
       "        vertical-align: middle;\n",
       "    }\n",
       "\n",
       "    .dataframe tbody tr th {\n",
       "        vertical-align: top;\n",
       "    }\n",
       "\n",
       "    .dataframe thead th {\n",
       "        text-align: right;\n",
       "    }\n",
       "</style>\n",
       "<table border=\"1\" class=\"dataframe\">\n",
       "  <thead>\n",
       "    <tr style=\"text-align: right;\">\n",
       "      <th></th>\n",
       "      <th>Type</th>\n",
       "      <th>GRE_Score</th>\n",
       "      <th>TOEFL_Score</th>\n",
       "      <th>University_Rating</th>\n",
       "      <th>SOP</th>\n",
       "      <th>LOR</th>\n",
       "      <th>CGPA</th>\n",
       "      <th>Research</th>\n",
       "      <th>Intercept</th>\n",
       "    </tr>\n",
       "  </thead>\n",
       "  <tbody>\n",
       "    <tr>\n",
       "      <th>0</th>\n",
       "      <td>lasso</td>\n",
       "      <td>0.000025</td>\n",
       "      <td>0.000018</td>\n",
       "      <td>0.006131</td>\n",
       "      <td>0.002403</td>\n",
       "      <td>0.008997</td>\n",
       "      <td>0.062232</td>\n",
       "      <td>0.008630</td>\n",
       "      <td>0.716108</td>\n",
       "    </tr>\n",
       "    <tr>\n",
       "      <th>0</th>\n",
       "      <td>ridge</td>\n",
       "      <td>0.000861</td>\n",
       "      <td>0.000139</td>\n",
       "      <td>0.000643</td>\n",
       "      <td>0.001911</td>\n",
       "      <td>0.001666</td>\n",
       "      <td>0.024221</td>\n",
       "      <td>0.002475</td>\n",
       "      <td>0.582503</td>\n",
       "    </tr>\n",
       "  </tbody>\n",
       "</table>\n",
       "</div>"
      ],
      "text/plain": [
       "    Type  GRE_Score  TOEFL_Score  University_Rating       SOP       LOR  \\\n",
       "0  lasso   0.000025     0.000018           0.006131  0.002403  0.008997   \n",
       "0  ridge   0.000861     0.000139           0.000643  0.001911  0.001666   \n",
       "\n",
       "       CGPA  Research  Intercept  \n",
       "0  0.062232  0.008630   0.716108  \n",
       "0  0.024221  0.002475   0.582503  "
      ]
     },
     "execution_count": 116,
     "metadata": {},
     "output_type": "execute_result"
    }
   ],
   "source": [
    "coeff_compare = coeff_Df.append(coeff_Df2)\n",
    "coeff_compare"
   ]
  },
  {
   "cell_type": "code",
   "execution_count": 88,
   "metadata": {},
   "outputs": [],
   "source": [
    "lamda = 0.1\n",
    "errors = []\n",
    "lambdas = []\n",
    "while(lamda < 100):\n",
    "    lr = MyLinearRegressor(MSE, 0.01, 1000, lamda, \"ridge\")\n",
    "    lr.fit(admission_train_X, admission_train_Y)\n",
    "    lambdas.append(lamda)\n",
    "    errors.append(lr.calcError(admission_val_X, admission_val_Y))\n",
    "    if(lamda < 1):\n",
    "        lamda += 0.1\n",
    "    else:\n",
    "        lamda += 1"
   ]
  },
  {
   "cell_type": "code",
   "execution_count": 89,
   "metadata": {},
   "outputs": [
    {
     "data": {
      "text/plain": [
       "Text(0.5,1,'Error vs lamda (Ridge)')"
      ]
     },
     "execution_count": 89,
     "metadata": {},
     "output_type": "execute_result"
    },
    {
     "data": {
      "image/png": "[encoded data removed]",
      "text/plain": [
       "<Figure size 864x432 with 1 Axes>"
      ]
     },
     "metadata": {},
     "output_type": "display_data"
    }
   ],
   "source": [
    "fig, ax = plt.subplots()\n",
    "fig.set_size_inches(12,6)\n",
    "ax = plt.subplot(111)\n",
    "ax.plot(np.log10(lambdas), errors)\n",
    "ax.set_xlabel(\"Log10(lamda)\")\n",
    "ax.set_ylabel(\"Mean Square Error\")\n",
    "ax.set_title(\"Error vs lamda (Ridge)\")"
   ]
  },
  {
   "cell_type": "markdown",
   "metadata": {},
   "source": [
    "# Question - 3\n",
    "Analyse how the hyper-parameter λ plays a role in deciding between bias and variance"
   ]
  },
  {
   "cell_type": "markdown",
   "metadata": {},
   "source": [
    "## Lasso"
   ]
  },
  {
   "cell_type": "code",
   "execution_count": 80,
   "metadata": {},
   "outputs": [],
   "source": [
    "lamda = 0.1\n",
    "test_errors = []\n",
    "train_errors = []\n",
    "lambdas = []\n",
    "while(lamda < 50):\n",
    "    lr = MyLinearRegressor(MSE, 0.01, 1, lamda, \"lasso\")\n",
    "    lr.fit(admission_train_X, admission_train_Y)\n",
    "    lambdas.append(lamda)\n",
    "    test_errors.append(lr.calcError(admission_val_X, admission_val_Y))\n",
    "    train_errors.append(lr.calcError(admission_train_X, admission_train_Y))\n",
    "    if(lamda < 1):\n",
    "        lamda += 0.1\n",
    "    else:\n",
    "        lamda += 1"
   ]
  },
  {
   "cell_type": "code",
   "execution_count": 81,
   "metadata": {},
   "outputs": [
    {
     "data": {
      "text/plain": [
       "Text(0.5,1,'Error vs lamda (Lasso)')"
      ]
     },
     "execution_count": 81,
     "metadata": {},
     "output_type": "execute_result"
    },
    {
     "data": {
      "image/png": "[encoded data removed]",
      "text/plain": [
       "<Figure size 864x432 with 1 Axes>"
      ]
     },
     "metadata": {},
     "output_type": "display_data"
    }
   ],
   "source": [
    "fig, ax = plt.subplots()\n",
    "fig.set_size_inches(12,6)\n",
    "ax = plt.subplot(111)\n",
    "ax.plot(np.log10(lambdas), train_errors)\n",
    "ax.plot(np.log10(lambdas), test_errors)\n",
    "ax.set_xlabel(\"Log10(lamda)\")\n",
    "ax.set_ylabel(\"Mean Square Error\")\n",
    "ax.set_title(\"Error vs lamda (Lasso)\")"
   ]
  },
  {
   "cell_type": "markdown",
   "metadata": {},
   "source": [
    "## Ridge"
   ]
  },
  {
   "cell_type": "code",
   "execution_count": 84,
   "metadata": {},
   "outputs": [],
   "source": [
    "lamda = 0.1\n",
    "test_errors = []\n",
    "train_errors = []\n",
    "lambdas = []\n",
    "while(lamda < 100):\n",
    "    lr = MyLinearRegressor(MSE, 0.01, 1, lamda, \"ridge\")\n",
    "    lr.fit(admission_train_X, admission_train_Y)\n",
    "    lambdas.append(lamda)\n",
    "    test_errors.append(lr.calcError(admission_val_X, admission_val_Y))\n",
    "    train_errors.append(lr.calcError(admission_train_X, admission_train_Y))\n",
    "    if(lamda < 1):\n",
    "        lamda += 0.1\n",
    "    else:\n",
    "        lamda += 1"
   ]
  },
  {
   "cell_type": "code",
   "execution_count": 95,
   "metadata": {},
   "outputs": [
    {
     "data": {
      "image/png": "[encoded data removed]",
      "text/plain": [
       "<Figure size 864x432 with 1 Axes>"
      ]
     },
     "metadata": {},
     "output_type": "display_data"
    },
    {
     "data": {
      "image/png": "[encoded data removed]",
      "text/plain": [
       "<Figure size 864x432 with 1 Axes>"
      ]
     },
     "metadata": {},
     "output_type": "display_data"
    }
   ],
   "source": [
    "fig, ax = plt.subplots()\n",
    "fig.set_size_inches(12,6)\n",
    "ax = plt.subplot(111)\n",
    "ax.plot(np.log10(lambdas), train_errors)\n",
    "ax.set_xlabel(\"Log10(lamda)\")\n",
    "ax.set_ylabel(\"Mean Square Error\")\n",
    "ax.set_title(\"Training Error vs lamda (Ridge)\")\n",
    "plt.show()\n",
    "fig, ax = plt.subplots()\n",
    "fig.set_size_inches(12,6)\n",
    "ax = plt.subplot(111)\n",
    "ax.plot(np.log10(lambdas), test_errors)\n",
    "ax.set_xlabel(\"Log10(lamda)\")\n",
    "ax.set_ylabel(\"Mean Square Error\")\n",
    "ax.set_title(\"Test Error vs lamda (Ridge)\")\n",
    "plt.show()"
   ]
  },
  {
   "cell_type": "markdown",
   "metadata": {},
   "source": [
    "### Observations:\n",
    "1. Increasing λ decreases the complexity of the model, hence the bias increases, and the test accuracy increases. But after a certain point, both errros increase as the weights become negligible"
   ]
  },
  {
   "cell_type": "markdown",
   "metadata": {},
   "source": [
    "# Question - 4\n",
    "Analyse how the two different regularisation techniques affect regression weights in terms of their values and what are the differences between the two."
   ]
  },
  {
   "cell_type": "code",
   "execution_count": 124,
   "metadata": {},
   "outputs": [],
   "source": [
    "lr = MyLinearRegressor(MSE, 0.01, 1000, 100,\"lasso\")\n",
    "lr.fit(admission_train_X, admission_train_Y)\n",
    "lr.calcError(admission_val_X, admission_val_Y)\n",
    "\n",
    "coeff_Df = makeCoeffDF(lr.allCoeffs(), \"lasso\")\n",
    "\n",
    "lr = MyLinearRegressor(MSE, 0.01, 1000, 100,\"ridge\")\n",
    "lr.fit(admission_train_X, admission_train_Y)\n",
    "lr.calcError(admission_val_X, admission_val_Y)\n",
    "\n",
    "coeff_Df2 = makeCoeffDF(lr.allCoeffs(), \"ridge\")\n",
    "coeff_compare = coeff_Df.append(coeff_Df2)"
   ]
  },
  {
   "cell_type": "code",
   "execution_count": 125,
   "metadata": {},
   "outputs": [
    {
     "data": {
      "text/html": [
       "<div>\n",
       "<style scoped>\n",
       "    .dataframe tbody tr th:only-of-type {\n",
       "        vertical-align: middle;\n",
       "    }\n",
       "\n",
       "    .dataframe tbody tr th {\n",
       "        vertical-align: top;\n",
       "    }\n",
       "\n",
       "    .dataframe thead th {\n",
       "        text-align: right;\n",
       "    }\n",
       "</style>\n",
       "<table border=\"1\" class=\"dataframe\">\n",
       "  <thead>\n",
       "    <tr style=\"text-align: right;\">\n",
       "      <th></th>\n",
       "      <th>Type</th>\n",
       "      <th>GRE_Score</th>\n",
       "      <th>TOEFL_Score</th>\n",
       "      <th>University_Rating</th>\n",
       "      <th>SOP</th>\n",
       "      <th>LOR</th>\n",
       "      <th>CGPA</th>\n",
       "      <th>Research</th>\n",
       "      <th>Intercept</th>\n",
       "    </tr>\n",
       "  </thead>\n",
       "  <tbody>\n",
       "    <tr>\n",
       "      <th>0</th>\n",
       "      <td>lasso</td>\n",
       "      <td>-0.001392</td>\n",
       "      <td>0.001078</td>\n",
       "      <td>0.002212</td>\n",
       "      <td>0.001178</td>\n",
       "      <td>0.002714</td>\n",
       "      <td>0.004142</td>\n",
       "      <td>0.001401</td>\n",
       "      <td>0.441120</td>\n",
       "    </tr>\n",
       "    <tr>\n",
       "      <th>0</th>\n",
       "      <td>ridge</td>\n",
       "      <td>0.004042</td>\n",
       "      <td>0.007639</td>\n",
       "      <td>0.010842</td>\n",
       "      <td>0.009529</td>\n",
       "      <td>0.011697</td>\n",
       "      <td>0.050098</td>\n",
       "      <td>0.010392</td>\n",
       "      <td>0.562629</td>\n",
       "    </tr>\n",
       "  </tbody>\n",
       "</table>\n",
       "</div>"
      ],
      "text/plain": [
       "    Type  GRE_Score  TOEFL_Score  University_Rating       SOP       LOR  \\\n",
       "0  lasso  -0.001392     0.001078           0.002212  0.001178  0.002714   \n",
       "0  ridge   0.004042     0.007639           0.010842  0.009529  0.011697   \n",
       "\n",
       "       CGPA  Research  Intercept  \n",
       "0  0.004142  0.001401   0.441120  \n",
       "0  0.050098  0.010392   0.562629  "
      ]
     },
     "execution_count": 125,
     "metadata": {},
     "output_type": "execute_result"
    }
   ],
   "source": [
    "coeff_compare"
   ]
  },
  {
   "cell_type": "markdown",
   "metadata": {},
   "source": [
    "### Observations:\n",
    "1. From the above it can be seen that for high λ, lasso decreases the weights drastically, compared to ridge. This happens because Lasso, is L1 regularization(power 1), so it tries to make the weights almost zero, whereas ridge is L2 regularization(power of 2), so it makes the weights less close to zero but not as much as lasso."
   ]
  },
  {
   "cell_type": "markdown",
   "metadata": {},
   "source": [
    "# Question - 5\n",
    "In this part implement regression with k-fold cross validation. Analyse how behavior changes with different values of k. Also implement a variant of this which is the leave-one-out cross validation"
   ]
  },
  {
   "cell_type": "markdown",
   "metadata": {},
   "source": [
    "### K-Fold Cross Validation"
   ]
  },
  {
   "cell_type": "code",
   "execution_count": 143,
   "metadata": {},
   "outputs": [],
   "source": [
    "X = admission_df.iloc[:,admission_df.columns != 'Chance_of_Admit']\n",
    "y = admission_df['Chance_of_Admit']"
   ]
  },
  {
   "cell_type": "code",
   "execution_count": 152,
   "metadata": {},
   "outputs": [],
   "source": [
    "avg_r2_score = []\n",
    "avg_mse = []\n",
    "k_vals = []\n",
    "for i in range(2, 41):\n",
    "    errors = []\n",
    "    r2_scores = []\n",
    "    cv = KFold(n_splits=i, random_state=42, shuffle=False)\n",
    "    for train_index, test_index in cv.split(X):\n",
    "        X_train, X_test, y_train, y_test = X.iloc[train_index], X.iloc[test_index], y.iloc[train_index], y.iloc[test_index]\n",
    "        lr = MyLinearRegressor(MSE, 0.01, 1000, 1e-15,\"lasso\")\n",
    "        lr.fit(X_train, y_train)\n",
    "        errors.append(lr.calcError(X_test, y_test))\n",
    "        r2_scores.append(metrics.r2_score(y_test, lr.predict(X_test)))\n",
    "    avg_r2_score.append(np.mean(r2_scores))\n",
    "    avg_mse.append(np.mean(errors))\n",
    "    k_vals.append(i)"
   ]
  },
  {
   "cell_type": "code",
   "execution_count": 153,
   "metadata": {},
   "outputs": [
    {
     "data": {
      "image/png": "[encoded data removed]",
      "text/plain": [
       "<Figure size 864x432 with 1 Axes>"
      ]
     },
     "metadata": {},
     "output_type": "display_data"
    },
    {
     "data": {
      "image/png": "[encoded data removed]",
      "text/plain": [
       "<Figure size 864x432 with 1 Axes>"
      ]
     },
     "metadata": {},
     "output_type": "display_data"
    }
   ],
   "source": [
    "fig, ax = plt.subplots()\n",
    "fig.set_size_inches(12,6)\n",
    "ax = plt.subplot(111)\n",
    "ax.plot(k_vals, avg_mse)\n",
    "ax.set_xlabel(\"K\")\n",
    "ax.set_ylabel(\"Cross Validation Error\")\n",
    "ax.set_title(\"Cross Validation Error vs K\")\n",
    "plt.show()\n",
    "fig, ax = plt.subplots()\n",
    "fig.set_size_inches(12,6)\n",
    "ax = plt.subplot(111)\n",
    "ax.plot(k_vals, avg_r2_score)\n",
    "ax.set_xlabel(\"K\")\n",
    "ax.set_ylabel(\"R2 Score\")\n",
    "ax.set_title(\"R2 Score vs K\")\n",
    "plt.show()"
   ]
  },
  {
   "cell_type": "markdown",
   "metadata": {},
   "source": [
    "### Observations:\n",
    "1. From the above graphs, it can be seen that the cross validation error initially decreases(R2 score increases), but then after a certain point starts to increase. This happens because as K increase, the no.of samples in each bucket decrease, as a result the model tends to train over almost entire dataset, hence overfitting."
   ]
  },
  {
   "cell_type": "markdown",
   "metadata": {},
   "source": [
    "## LOOCV"
   ]
  },
  {
   "cell_type": "code",
   "execution_count": 154,
   "metadata": {},
   "outputs": [],
   "source": [
    "errors = []\n",
    "r2_scores = []\n",
    "cv = KFold(n_splits=len(X), random_state=42, shuffle=False)\n",
    "for train_index, test_index in cv.split(X):\n",
    "    X_train, X_test, y_train, y_test = X.iloc[train_index], X.iloc[test_index], y.iloc[train_index], y.iloc[test_index]\n",
    "    lr = MyLinearRegressor(MSE, 0.01, 1000, 1e-15,\"lasso\")\n",
    "    lr.fit(X_train, y_train)\n",
    "    errors.append(lr.calcError(X_test, y_test))\n",
    "    r2_scores.append(metrics.r2_score(y_test, lr.predict(X_test)))"
   ]
  },
  {
   "cell_type": "code",
   "execution_count": 160,
   "metadata": {},
   "outputs": [
    {
     "name": "stdout",
     "output_type": "stream",
     "text": [
      "LOOCV Error: 0.0020172594516388374\n"
     ]
    }
   ],
   "source": [
    "print(\"LOOCV Error: {0}\".format(np.mean(errors)))"
   ]
  },
  {
   "cell_type": "code",
   "execution_count": null,
   "metadata": {},
   "outputs": [],
   "source": []
  }
 ],
 "metadata": {
  "kernelspec": {
   "display_name": "Python 2",
   "language": "python",
   "name": "python2"
  },
  "language_info": {
   "codemirror_mode": {
    "name": "ipython",
    "version": 2
   },
   "file_extension": ".py",
   "mimetype": "text/x-python",
   "name": "python",
   "nbconvert_exporter": "python",
   "pygments_lexer": "ipython2",
   "version": "2.7.12"
  }
 },
 "nbformat": 4,
 "nbformat_minor": 2
}
