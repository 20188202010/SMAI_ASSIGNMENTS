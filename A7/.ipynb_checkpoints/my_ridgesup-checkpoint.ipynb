{
 "cells": [
  {
   "cell_type": "code",
   "execution_count": 1,
   "metadata": {
    "scrolled": true
   },
   "outputs": [],
   "source": [
    "import pandas as pd\n",
    "import numpy as np\n",
    "import math\n",
    "import operator\n",
    "from numpy import log2 as log\n",
    "from sklearn.metrics import accuracy_score\n",
    "from matplotlib import pyplot as plt\n",
    "eps = np.finfo(float).eps\n",
    "from matplotlib import pyplot as plt\n",
    "\n",
    "df = pd.read_csv(\"./AdmissionDataset/data.csv\")\n",
    "df = df.sample(frac=1).reset_index(drop=True)\n",
    "df = df.drop('Serial No.', axis=1)\n",
    "\n",
    "cols = list(df)\n",
    "for i in cols[:-1]:\n",
    "    df[i] = (df[i] - df[i].min())/(df[i].max() - df[i].min())\n",
    "\n",
    "training, validate = np.split(df,[int(0.8*len(df))])\n",
    "# training"
   ]
  },
  {
   "cell_type": "code",
   "execution_count": 2,
   "metadata": {},
   "outputs": [],
   "source": [
    "def cost_funciton(train_matrix, target, theta, Lambda):\n",
    "    length = len(train_matrix)\n",
    "    err = compute_error(train_matrix, target, theta)\n",
    "#     print(err.shape)\n",
    "    cost = np.power(err, 2) + Lambda * np.sum(np.square(theta),axis=0)\n",
    "#     print(\" shape of np.power cost : \", cost.shape)\n",
    "    sum_rowwise = np.sum(cost)/(2*length)\n",
    "    return sum_rowwise"
   ]
  },
  {
   "cell_type": "code",
   "execution_count": 3,
   "metadata": {},
   "outputs": [],
   "source": [
    "def compute_error(train_matrix, target, theta):\n",
    "    return ((train_matrix @ theta.T) - target)"
   ]
  },
  {
   "cell_type": "code",
   "execution_count": 4,
   "metadata": {},
   "outputs": [],
   "source": [
    "def gradient_descent(train_matrix, target, theta, Lambda_array, Alpha, no_of_iteration):\n",
    "    all_costs = []\n",
    "#     print(type(theta))\n",
    "    final_cost_list = []\n",
    "    for Lambda in Lambda_array:\n",
    "        \n",
    "        theta = np.zeros([1,train_matrix.shape[1]])\n",
    "#         theta = [0] * 8\n",
    "#         theta = theta.reshape(theta.shape[1], 1)\n",
    "        for itr in range(no_of_iteration):\n",
    "            m = len(train_matrix)\n",
    "            #extracting train_matrix and theta for computing theta[0] differently\n",
    "            extracted_train_matrix = train_matrix[:,1:] #leaving the first column from dataset\n",
    "#             print(type(theta))\n",
    "            extracted_theta = theta[:,1:] #removing theta[0], bcoz it's 'all ones' column, and has to be computed differently\n",
    "            theta_0 = theta[0] # assigned theta[0] to new variable , as manipulating directly theta[0], will change whole theta array, so assigned into new variable\n",
    "\n",
    "            # computing theta[0]\n",
    "            theta_0 = theta_0 - (Alpha/m)*(np.array([np.sum((theta_0 * compute_error(train_matrix, target, theta)), axis=0)]))\n",
    "            \n",
    "            #computing theta[1:]\n",
    "            extracted_theta = extracted_theta*(1+Lambda*(Alpha/m)) - (Alpha/m)*(np.array([np.sum((extracted_train_matrix * compute_error(train_matrix, target, theta)), axis=0)]))\n",
    "\n",
    "            # re-assigning the values of theta\n",
    "            theta[0] = theta_0\n",
    "            theta[:,1:] = extracted_theta\n",
    "            all_costs.append(cost_funciton(train_matrix, target, theta, Lambda))\n",
    "        final_cost_list.append(all_costs[-1])\n",
    "    return final_cost_list, theta\n",
    "        \n"
   ]
  },
  {
   "cell_type": "code",
   "execution_count": 86,
   "metadata": {},
   "outputs": [
    {
     "data": {
      "text/plain": [
       "array([[0., 0., 0., 0., 0., 0., 0., 0.]])"
      ]
     },
     "execution_count": 86,
     "metadata": {},
     "output_type": "execute_result"
    }
   ],
   "source": [
    "col_list = list(training)\n",
    "\n",
    "# converting dataset into np array\n",
    "# taking data till the second last column only, as last column is the output\n",
    "target = np.array(training['Chance of Admit '])\n",
    "target = target.reshape(target.shape[0],1)\n",
    "train_matrix = training.iloc[:,0:7]\n",
    "col_one = np.ones([1,train_matrix.shape[0]])\n",
    "one = col_one.reshape(col_one.shape[1],1)\n",
    "one.shape\n",
    "target\n",
    "train_matrix.shape\n",
    "\n",
    "# appended the 'all ones column' in the data set\n",
    "train_matrix = np.append(one, train_matrix, axis=1)\n",
    "train_matrix\n",
    "\n",
    "# Alpha = 0.01\n",
    "Lambda_array = np.arange(-30,-15,0.5)\n",
    "# t = [0] * (8)\n",
    "# t = np.array([t])\n",
    "# print(t.shape)\n",
    "# theta = np.asarray(t)\n",
    "# theta = t.reshape(1,t.shape[1])\n",
    "# print(\" tyoe is \",type(theta))\n",
    "theta = np.zeros([1,train_matrix.shape[1]])\n",
    "theta\n",
    "\n",
    "\n",
    "\n"
   ]
  },
  {
   "cell_type": "code",
   "execution_count": 87,
   "metadata": {},
   "outputs": [],
   "source": [
    "# print(type(theta))\n",
    "Alpha = 0.01\n",
    "no_of_iteration = 100\n",
    "# print(\"dddddddddddDDD\",type(theta))\n",
    "final_cost_list, theta = gradient_descent(train_matrix, target, theta, Lambda_array, Alpha, no_of_iteration)"
   ]
  },
  {
   "cell_type": "code",
   "execution_count": 88,
   "metadata": {},
   "outputs": [],
   "source": [
    "def plotting(x, y):\n",
    "    plt.plot(x, y)  \n",
    "    plt.xlabel('Lambda') \n",
    "    plt.ylabel('Cost')\n",
    "    plt.show() "
   ]
  },
  {
   "cell_type": "code",
   "execution_count": 89,
   "metadata": {},
   "outputs": [
    {
     "data": {
      "image/png": "[encoded data removed]",
      "text/plain": [
       "<Figure size 432x288 with 1 Axes>"
      ]
     },
     "metadata": {
      "needs_background": "light"
     },
     "output_type": "display_data"
    }
   ],
   "source": [
    "# print(len(Lambda_array))\n",
    "# print(len(final_cost_list))\n",
    "plotting(Lambda_array,final_cost_list)"
   ]
  },
  {
   "cell_type": "code",
   "execution_count": null,
   "metadata": {},
   "outputs": [],
   "source": []
  },
  {
   "cell_type": "code",
   "execution_count": null,
   "metadata": {},
   "outputs": [],
   "source": []
  }
 ],
 "metadata": {
  "kernelspec": {
   "display_name": "Python 2",
   "language": "python",
   "name": "python2"
  },
  "language_info": {
   "codemirror_mode": {
    "name": "ipython",
    "version": 2
   },
   "file_extension": ".py",
   "mimetype": "text/x-python",
   "name": "python",
   "nbconvert_exporter": "python",
   "pygments_lexer": "ipython2",
   "version": "2.7.12"
  }
 },
 "nbformat": 4,
 "nbformat_minor": 2
}
