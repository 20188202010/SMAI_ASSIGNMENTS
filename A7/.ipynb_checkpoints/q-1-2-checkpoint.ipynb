{
 "cells": [
  {
   "cell_type": "markdown",
   "metadata": {},
   "source": [
    "### QUESTION 2\n",
    "Implement Ridge regression also known as L2 regularisation and plot graph between regularisation coefficient λ and error"
   ]
  },
  {
   "cell_type": "code",
   "execution_count": 1,
   "metadata": {},
   "outputs": [],
   "source": [
    "import numpy as np\n",
    "import pandas as pd\n",
    "\n",
    "import matplotlib.pyplot as plt"
   ]
  },
  {
   "cell_type": "code",
   "execution_count": 2,
   "metadata": {},
   "outputs": [],
   "source": [
    "dataset = pd.read_csv(\"AdmissionDataset/data.csv\")\n",
    "df_r , df_c = dataset.shape\n",
    "target = 'Chance of Admit '\n"
   ]
  },
  {
   "cell_type": "code",
   "execution_count": 3,
   "metadata": {},
   "outputs": [],
   "source": [
    "dataset = dataset.drop(['Serial No.'], axis=1)"
   ]
  },
  {
   "cell_type": "code",
   "execution_count": 4,
   "metadata": {},
   "outputs": [],
   "source": [
    "def normalise(df):\n",
    "    global target\n",
    "    cols = df.columns\n",
    "    for c in cols:\n",
    "        if c != target:\n",
    "            sd = df[c].std()\n",
    "            mean = df[c].mean()\n",
    "            \n",
    "            df[c] = (df[c] - mean)/sd\n",
    "    return df\n",
    "dataset = normalise(dataset)"
   ]
  },
  {
   "cell_type": "code",
   "execution_count": 5,
   "metadata": {},
   "outputs": [],
   "source": [
    "# dataset = dataset.sample(frac=1)\n",
    "train, validate = np.split(dataset, [int(.8*len(dataset))])"
   ]
  },
  {
   "cell_type": "markdown",
   "metadata": {},
   "source": [
    "Compute feature matrix X"
   ]
  },
  {
   "cell_type": "code",
   "execution_count": 6,
   "metadata": {
    "scrolled": false
   },
   "outputs": [],
   "source": [
    "def makeX(df):\n",
    "    if target in df.columns:\n",
    "        df = df.drop([target], axis=1)\n",
    "    X = df.values\n",
    "    X = np.insert(X, 0, values=1, axis=1)\n",
    "#     print \"row: \",X.shape[0], \"cols: \",X.shape[1]\n",
    "    return X\n",
    "    \n",
    "train_mat = makeX(train)\n",
    "validate_mat = makeX(validate)"
   ]
  },
  {
   "cell_type": "code",
   "execution_count": 7,
   "metadata": {},
   "outputs": [],
   "source": [
    "def initTheta(n):\n",
    "    theta = np.zeros(n - 2 + 1) #remove chance of admit, serial no. add 1 b0 col\n",
    "    return theta"
   ]
  },
  {
   "cell_type": "markdown",
   "metadata": {},
   "source": [
    "$$Cost = \\Sigma( y_i - \\Sigma \\beta_{j} x_{ij} )^2 + \\lambda \\Sigma w_{j}^2 $$"
   ]
  },
  {
   "cell_type": "markdown",
   "metadata": {},
   "source": [
    "$$\\theta_0 := \\theta_0 - \\alpha . 1/m \\Sigma (h_\\theta (x ^ {(i)} ) - y ^{(i)} ) x_0 ^ {(i)}$$\n",
    "$$\\theta_j := \\theta_j - \\alpha.1/m \\Sigma (h_\\theta (x ^ {(i)} ) - y ^{(i)} ) x_j ^ {(i)} - \\alpha *\\lambda *w_j /m$$"
   ]
  },
  {
   "cell_type": "code",
   "execution_count": 8,
   "metadata": {},
   "outputs": [],
   "source": [
    "def gradientDescent(mat, actual, alpha, lmbda, iterations):\n",
    "  \n",
    "    theta = initTheta(df_c) #df_c: no of columns in original dataframe\n",
    "    m = len(mat)\n",
    "    for i in range(0, iterations):\n",
    "        pred =  np.dot(mat, theta)\n",
    "        error = np.array(pred - actual)\n",
    "        gradient =  np.dot(error, mat[:,0])/m\n",
    "        theta[0] = theta[0] - alpha*gradient\n",
    "\n",
    "        for j in range(1, len(theta)):\n",
    "            gradient =  np.dot(error, mat[:,j])/m\n",
    "            \n",
    "            coeff = (lmbda * (theta[j]))/m\n",
    "            \n",
    "            gradient += coeff\n",
    "            theta[j] -= alpha*gradient\n",
    "            \n",
    "    return theta"
   ]
  },
  {
   "cell_type": "code",
   "execution_count": 9,
   "metadata": {},
   "outputs": [
    {
     "name": "stdout",
     "output_type": "stream",
     "text": [
      "100\n"
     ]
    }
   ],
   "source": [
    "lambda_list = np.arange(.1,50,.5)\n",
    "print len(lambda_list)"
   ]
  },
  {
   "cell_type": "code",
   "execution_count": 10,
   "metadata": {},
   "outputs": [
    {
     "name": "stdout",
     "output_type": "stream",
     "text": [
      "100\n"
     ]
    }
   ],
   "source": [
    "log_lambda_list = []\n",
    "for lmbda in lambda_list:\n",
    "    log_lambda_list.append(np.log(lmbda))\n",
    "print len(log_lambda_list)"
   ]
  },
  {
   "cell_type": "code",
   "execution_count": 11,
   "metadata": {},
   "outputs": [],
   "source": [
    "from sklearn.metrics import mean_squared_error #true, pred"
   ]
  },
  {
   "cell_type": "code",
   "execution_count": 12,
   "metadata": {},
   "outputs": [],
   "source": [
    "def costFunc(true, pred, theta, lmbda):   \n",
    "    loss = pred - true\n",
    "    squared_error = np.sum((loss)**2)\n",
    "    \n",
    "    cost = squared_error + lmbda*np.sum(np.dot(theta.T, theta))\n",
    "    \n",
    "    return cost"
   ]
  },
  {
   "cell_type": "code",
   "execution_count": 13,
   "metadata": {},
   "outputs": [],
   "source": [
    "alpha = 0.001\n",
    "iterations = 1000"
   ]
  },
  {
   "cell_type": "code",
   "execution_count": 14,
   "metadata": {
    "scrolled": false
   },
   "outputs": [],
   "source": [
    "val_cost_list, train_cost_list = [], []\n",
    "theta_list = []\n",
    "val_mse_list, train_mse_list = [], []\n",
    "for idx in range(len(lambda_list)):\n",
    "    \n",
    "    theta = gradientDescent(train_mat, train[target], alpha, lambda_list[idx], iterations)\n",
    "    theta_list.append(theta)\n",
    "    \n",
    "    val_pred = np.dot(validate_mat, theta)\n",
    "    train_pred = np.dot(train_mat, theta)\n",
    "    train_mse = mean_squared_error(train[target],train_pred)\n",
    "    val_mse = mean_squared_error(validate[target],val_pred)\n",
    "    train_cost = costFunc(train[target],train_pred, theta, lambda_list[idx])\n",
    "    val_cost = costFunc(validate[target],val_pred, theta, lambda_list[idx])\n",
    "    val_cost_list.append(val_cost); val_mse_list.append(val_mse)\n",
    "    train_mse_list.append(train_mse); train_cost_list.append(train_cost)\n",
    "#     print \"cost: \",cost"
   ]
  },
  {
   "cell_type": "code",
   "execution_count": 15,
   "metadata": {
    "scrolled": false
   },
   "outputs": [
    {
     "data": {
      "text/plain": [
       "Text(0,0.5,'Cost')"
      ]
     },
     "execution_count": 15,
     "metadata": {},
     "output_type": "execute_result"
    },
    {
     "data": {
      "image/png": "[encoded data removed]",
      "text/plain": [
       "<Figure size 864x432 with 1 Axes>"
      ]
     },
     "metadata": {
      "needs_background": "light"
     },
     "output_type": "display_data"
    }
   ],
   "source": [
    "fig, axes = plt.subplots(figsize=(12, 6))\n",
    "plt.title('LAMBDA ERROR')\n",
    "axes.plot(log_lambda_list,train_mse_list, label='Training')\n",
    "axes.plot(log_lambda_list,val_mse_list,label='Validation')\n",
    "axes.legend(loc='best')\n",
    "# axes.plot(log_l,train_err, label = 'training')\n",
    "plt.xlabel('Loglambda')\n",
    "plt.ylabel('Cost')\n"
   ]
  },
  {
   "cell_type": "code",
   "execution_count": 16,
   "metadata": {},
   "outputs": [
    {
     "data": {
      "text/plain": [
       "Text(0,0.5,'Cost')"
      ]
     },
     "execution_count": 16,
     "metadata": {},
     "output_type": "execute_result"
    },
    {
     "data": {
      "image/png": "[encoded data removed]",
      "text/plain": [
       "<Figure size 864x432 with 1 Axes>"
      ]
     },
     "metadata": {
      "needs_background": "light"
     },
     "output_type": "display_data"
    }
   ],
   "source": [
    "fig, axes = plt.subplots(figsize=(12, 6))\n",
    "plt.title('MSE ERROR')\n",
    "axes.plot(log_lambda_list,val_cost_list, label = 'Validation')\n",
    "axes.plot(log_lambda_list,train_cost_list, label = 'Training')\n",
    "# axes.plot(log_l,train_err, label = 'training')\n",
    "axes.legend(loc='best')\n",
    "plt.xlabel('Loglambda')\n",
    "plt.ylabel('Cost')"
   ]
  },
  {
   "cell_type": "code",
   "execution_count": 17,
   "metadata": {},
   "outputs": [],
   "source": [
    "b0,b1,b2,b3,b4,b5,b6,b7 = ([] for i in range(8))\n",
    "for i in range(len(theta_list)):\n",
    "    b0.append(theta_list[i][0])\n",
    "    b1.append(theta_list[i][1])\n",
    "    b2.append(theta_list[i][2])\n",
    "    b3.append(theta_list[i][3])\n",
    "    b4.append(theta_list[i][4])\n",
    "    b5.append(theta_list[i][5])\n",
    "    b6.append(theta_list[i][6])\n",
    "    b7.append(theta_list[i][7])\n",
    "    "
   ]
  },
  {
   "cell_type": "code",
   "execution_count": 18,
   "metadata": {},
   "outputs": [
    {
     "data": {
      "text/plain": [
       "Text(0,0.5,'Weight')"
      ]
     },
     "execution_count": 18,
     "metadata": {},
     "output_type": "execute_result"
    },
    {
     "data": {
      "image/png": "[encoded data removed]",
      "text/plain": [
       "<Figure size 864x432 with 1 Axes>"
      ]
     },
     "metadata": {
      "needs_background": "light"
     },
     "output_type": "display_data"
    }
   ],
   "source": [
    "fig, axes = plt.subplots(figsize=(12, 6))\n",
    "plt.title('RIDGE: LAMBDA vs WEIGHT')\n",
    "# axes.plot(lambda_list,b0, label = 'beta_0')\n",
    "axes.plot(lambda_list,b1, label = 'beta_1')\n",
    "axes.plot(lambda_list,b2, label = 'beta_2')\n",
    "axes.plot(lambda_list,b3, label = 'beta_3')\n",
    "axes.plot(lambda_list,b4, label = 'beta_4')\n",
    "axes.plot(lambda_list,b5, label = 'beta_5')\n",
    "axes.plot(lambda_list,b6, label = 'beta_6')\n",
    "axes.plot(lambda_list,b7, label = 'beta_7')\n",
    "\n",
    "axes.legend(loc='best')\n",
    "plt.xlabel('Lambda')\n",
    "plt.ylabel('Weight')"
   ]
  }
 ],
 "metadata": {
  "kernelspec": {
   "display_name": "Python 2",
   "language": "python",
   "name": "python2"
  },
  "language_info": {
   "codemirror_mode": {
    "name": "ipython",
    "version": 2
   },
   "file_extension": ".py",
   "mimetype": "text/x-python",
   "name": "python",
   "nbconvert_exporter": "python",
   "pygments_lexer": "ipython2",
   "version": "2.7.12"
  }
 },
 "nbformat": 4,
 "nbformat_minor": 2
}
