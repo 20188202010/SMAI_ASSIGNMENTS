{
 "cells": [
  {
   "cell_type": "code",
   "execution_count": 1,
   "metadata": {},
   "outputs": [],
   "source": [
    "import numpy as np\n",
    "import pandas as pd\n",
    "import matplotlib.pyplot as plt"
   ]
  },
  {
   "cell_type": "code",
   "execution_count": 2,
   "metadata": {},
   "outputs": [],
   "source": [
    "dataset = pd.read_csv(\"AdmissionDataset/data.csv\")\n",
    "df_r, df_c = dataset.shape\n",
    "target = 'Chance of Admit '"
   ]
  },
  {
   "cell_type": "markdown",
   "metadata": {},
   "source": [
    "Shuffle the rows"
   ]
  },
  {
   "cell_type": "code",
   "execution_count": 3,
   "metadata": {},
   "outputs": [],
   "source": [
    "dataset = dataset.sample(frac=1)\n",
    "dataset = dataset.drop(['Serial No.'], axis=1)"
   ]
  },
  {
   "cell_type": "code",
   "execution_count": 4,
   "metadata": {},
   "outputs": [],
   "source": [
    "def normalise(df):\n",
    "    global target\n",
    "    cols = df.columns\n",
    "    for c in cols:\n",
    "        if c != target:\n",
    "            sd = df[c].std()\n",
    "            mean = df[c].mean()\n",
    "            \n",
    "            df[c] = (df[c] - mean)/sd\n",
    "    return df\n",
    "dataset = normalise(dataset)"
   ]
  },
  {
   "cell_type": "code",
   "execution_count": 5,
   "metadata": {},
   "outputs": [],
   "source": [
    "target_values = dataset[target]"
   ]
  },
  {
   "cell_type": "markdown",
   "metadata": {},
   "source": [
    "Split in k folds"
   ]
  },
  {
   "cell_type": "code",
   "execution_count": 6,
   "metadata": {},
   "outputs": [],
   "source": [
    "from sklearn.model_selection import KFold"
   ]
  },
  {
   "cell_type": "code",
   "execution_count": 7,
   "metadata": {},
   "outputs": [],
   "source": [
    "def makeX(df):\n",
    "    if target in df.columns:\n",
    "        df = df.drop([target], axis=1)\n",
    "    X = df.values\n",
    "    X = np.insert(X, 0, values=1, axis=1)\n",
    "    return X\n"
   ]
  },
  {
   "cell_type": "code",
   "execution_count": 8,
   "metadata": {},
   "outputs": [],
   "source": [
    "X = makeX(dataset)"
   ]
  },
  {
   "cell_type": "code",
   "execution_count": 9,
   "metadata": {},
   "outputs": [],
   "source": [
    "def initTheta(n):\n",
    "    theta = np.zeros(n - 2 + 1) #remove chance of admit, serial no. add 1 b0 col\n",
    "    return theta"
   ]
  },
  {
   "cell_type": "code",
   "execution_count": 10,
   "metadata": {},
   "outputs": [],
   "source": [
    "def gradientDescent(mat, actual, alpha, lmbda, iterations):\n",
    "  \n",
    "    theta = initTheta(df_c) #df_c: no of columns in original dataframe\n",
    "    m = len(mat)\n",
    "    for i in range(0, iterations):\n",
    "        pred =  np.dot(mat, theta)\n",
    "        error = np.array(pred - actual)\n",
    "        gradient =  np.dot(error, mat[:,0])/m\n",
    "        theta[0] = theta[0] - alpha*gradient\n",
    "\n",
    "        for j in range(1, len(theta)):\n",
    "            gradient =  np.dot(error, mat[:,j])/m\n",
    "\n",
    "            coeff = (lmbda * theta[j])/m\n",
    "\n",
    "            gradient += coeff\n",
    "            theta[j] = theta[j] - alpha*gradient\n",
    "            \n",
    "    return theta"
   ]
  },
  {
   "cell_type": "code",
   "execution_count": 11,
   "metadata": {},
   "outputs": [],
   "source": [
    "def costFunc(true, pred, theta, lmbda):   \n",
    "    loss = pred - true\n",
    "    squared_error = np.sum((loss)**2)\n",
    "    \n",
    "    cost = squared_error + lmbda*np.sum(np.dot(theta.T, theta))\n",
    "    \n",
    "    return cost"
   ]
  },
  {
   "cell_type": "code",
   "execution_count": 12,
   "metadata": {},
   "outputs": [],
   "source": [
    "from sklearn.metrics import mean_squared_error"
   ]
  },
  {
   "cell_type": "code",
   "execution_count": 13,
   "metadata": {},
   "outputs": [],
   "source": [
    "alpha = 0.001\n",
    "lmbda = 10e-5\n",
    "iterations = 1000"
   ]
  },
  {
   "cell_type": "code",
   "execution_count": 14,
   "metadata": {
    "scrolled": false
   },
   "outputs": [
    {
     "name": "stdout",
     "output_type": "stream",
     "text": [
      "-----------------\n",
      "-----------------\n",
      "-----------------\n",
      "-----------------\n",
      "-----------------\n",
      "-----------------\n",
      "-----------------\n",
      "-----------------\n",
      "-----------------\n",
      "-----------------\n",
      "-----------------\n",
      "-----------------\n",
      "theta:  [0.45576467 0.02444439 0.02001778 0.01742872 0.01387499 0.01295614\n",
      " 0.03374797 0.01786218]\n",
      "theta:  [0.45542321 0.03303826 0.02732775 0.01542049 0.01451836 0.01583153\n",
      " 0.03237919 0.01905353]\n",
      "theta:  [0.45486077 0.02653275 0.02720234 0.01395516 0.01355467 0.01400456\n",
      " 0.03171913 0.0104281 ]\n",
      "theta:  [0.45576286 0.02606238 0.0253772  0.01615287 0.01389094 0.02048922\n",
      " 0.03500351 0.01577414]\n",
      "theta:  [0.45594579 0.02678718 0.02213623 0.01330866 0.01466371 0.01939577\n",
      " 0.03157713 0.01446238]\n",
      "theta:  [0.45583746 0.02761218 0.02467072 0.02057523 0.01338738 0.01774688\n",
      " 0.03455273 0.01912504]\n",
      "theta:  [0.45565912 0.0260595  0.0307585  0.01958741 0.01712318 0.01490164\n",
      " 0.03217816 0.01644775]\n",
      "theta:  [0.45597344 0.02802569 0.02034199 0.01509308 0.01564132 0.01571166\n",
      " 0.03026348 0.01315033]\n",
      "theta:  [0.45567384 0.02465694 0.02124631 0.02187127 0.01480586 0.01437658\n",
      " 0.03380073 0.02046681]\n",
      "theta:  [0.45526262 0.02710936 0.0286229  0.01682911 0.0163189  0.01196608\n",
      " 0.02952617 0.01407732]\n",
      "theta:  [0.45531899 0.02562841 0.02432465 0.01574819 0.0194322  0.01859344\n",
      " 0.03552518 0.01641563]\n",
      "theta:  [0.45634305 0.0248854  0.02384862 0.01509693 0.01754626 0.0182162\n",
      " 0.03270017 0.01798175]\n",
      "theta:  [0.45583813 0.02397959 0.0195995  0.01419875 0.01478265 0.022801\n",
      " 0.02879136 0.01552488]\n",
      "theta:  [0.4560829  0.02535996 0.02709067 0.01404677 0.01705226 0.02350019\n",
      " 0.03227697 0.01236775]\n",
      "-----------------\n",
      "-----------------\n",
      "-----------------\n",
      "-----------------\n",
      "-----------------\n",
      "-----------------\n",
      "-----------------\n",
      "-----------------\n",
      "-----------------\n",
      "-----------------\n",
      "-----------------\n",
      "-----------------\n",
      "-----------------\n",
      "-----------------\n",
      "-----------------\n",
      "-----------------\n",
      "-----------------\n",
      "-----------------\n",
      "-----------------\n",
      "-----------------\n",
      "-----------------\n",
      "-----------------\n",
      "-----------------\n",
      "-----------------\n",
      "-----------------\n",
      "-----------------\n",
      "-----------------\n",
      "[0.07621134398158591, 0.07600477443141222, 0.07632705309276315, 0.07567198013865042, 0.07582449038258092, 0.07551797541872692, 0.07601352826352387, 0.0752968165919756, 0.0756239993781799, 0.07547637726099342, 0.07543064295583674, 0.07608032748006453, 0.07594761147209424, 0.07570213633330605, 0.07609961062958118, 0.07587579984908148, 0.07590849613579825, 0.07580778257913912, 0.07567099535974833, 0.07580369435439616, 0.07591653364608454, 0.0756708210867471, 0.0755677300080294, 0.07588048971496289, 0.07580529059289884, 0.07581576426865386, 0.07575145645901606, 0.07558532740523366, 0.0755933735044376, 0.07557039395447962, 0.07560748770521128, 0.07560123674469504, 0.07550625614906065, 0.07576546483846533, 0.0755958248610407, 0.07557722865512688, 0.07567944318771606, 0.0755844637822381, 0.0755094295056706]\n"
     ]
    }
   ],
   "source": [
    "y = target_values.values\n",
    "k_error_list = []\n",
    "k_val =  np.arange(2,41,1)\n",
    "for k in k_val:\n",
    "    kf = KFold(n_splits=k)\n",
    "    kf.get_n_splits(X)\n",
    "    error_list = []\n",
    "#     print \"K: \",k,\n",
    "    for train_index, test_index in kf.split(X):\n",
    "#         print \"train_index: \",train_index\n",
    "        X_train, X_test = X[train_index], X[test_index]\n",
    "\n",
    "        y_train, y_test = y[train_index], y[test_index]\n",
    "\n",
    "        theta = gradientDescent(X_train, y_train, alpha, lmbda, iterations)\n",
    "        if k==14:\n",
    "            print \"theta: \",theta\n",
    "        y_pred = np.dot(X_test, theta)\n",
    "        err = mean_squared_error(y_pred,y_test)\n",
    "        error_list.append(err)\n",
    "    print \"-----------------\"\n",
    "    k_error_list.append(np.mean(error_list))\n",
    "print k_error_list"
   ]
  },
  {
   "cell_type": "code",
   "execution_count": 15,
   "metadata": {},
   "outputs": [
    {
     "data": {
      "image/png": "[encoded data removed]",
      "text/plain": [
       "<Figure size 864x432 with 1 Axes>"
      ]
     },
     "metadata": {
      "needs_background": "light"
     },
     "output_type": "display_data"
    }
   ],
   "source": [
    "fig, ax = plt.subplots(figsize=(12,6))\n",
    "ax.plot(k_val, k_error_list)\n",
    "ax.set_xlabel(\"K\")\n",
    "ax.set_ylabel(\"Cross Validation Error\")\n",
    "ax.set_title(\"Cross Validation Error vs K\")\n",
    "plt.show()"
   ]
  },
  {
   "cell_type": "code",
   "execution_count": 16,
   "metadata": {
    "scrolled": false
   },
   "outputs": [
    {
     "name": "stdout",
     "output_type": "stream",
     "text": [
      "450\n"
     ]
    }
   ],
   "source": [
    "k_error_list = []\n",
    "kf = KFold(n_splits=len(X))\n",
    "kf.get_n_splits(X)\n",
    "error_list = []\n",
    "for train_index, test_index in kf.split(X):\n",
    "#     print \"train index: \",len(train_index), \"test index: \", len(test_index)\n",
    "    X_train, X_test = X[train_index], X[test_index]\n",
    "\n",
    "    y_train, y_test = y[train_index], y[test_index]\n",
    "\n",
    "    theta = gradientDescent(X_train, y_train, alpha, lmbda, 1000)\n",
    "\n",
    "    y_pred = np.dot(X_test, theta)\n",
    "    err = costFunc(y_pred,y_test, theta, lmbda)\n",
    "    error_list.append(err)\n",
    "print len(error_list)"
   ]
  },
  {
   "cell_type": "code",
   "execution_count": 17,
   "metadata": {},
   "outputs": [
    {
     "name": "stdout",
     "output_type": "stream",
     "text": [
      "0.07566466557040165\n"
     ]
    }
   ],
   "source": [
    "print np.mean(error_list)"
   ]
  }
 ],
 "metadata": {
  "kernelspec": {
   "display_name": "Python 2",
   "language": "python",
   "name": "python2"
  },
  "language_info": {
   "codemirror_mode": {
    "name": "ipython",
    "version": 2
   },
   "file_extension": ".py",
   "mimetype": "text/x-python",
   "name": "python",
   "nbconvert_exporter": "python",
   "pygments_lexer": "ipython2",
   "version": "2.7.12"
  }
 },
 "nbformat": 4,
 "nbformat_minor": 2
}
