{
 "cells": [
  {
   "cell_type": "markdown",
   "metadata": {},
   "source": [
    "### Implement a model using linear regression to predict the probablity of getting the admit"
   ]
  },
  {
   "cell_type": "code",
   "execution_count": 1,
   "metadata": {},
   "outputs": [],
   "source": [
    "import numpy as np\n",
    "import pandas as pd"
   ]
  },
  {
   "cell_type": "code",
   "execution_count": 2,
   "metadata": {},
   "outputs": [],
   "source": [
    "from pylab import *\n",
    "import matplotlib\n",
    "import matplotlib.pyplot as plt"
   ]
  },
  {
   "cell_type": "code",
   "execution_count": 3,
   "metadata": {},
   "outputs": [
    {
     "name": "stdout",
     "output_type": "stream",
     "text": [
      "Dataset:  450 9\n"
     ]
    }
   ],
   "source": [
    "dataset = pd.read_csv(\"AdmissionDataset/data.csv\")\n",
    "df_r , df_c = dataset.shape\n",
    "print \"Dataset: \", df_r, df_c\n",
    "target = 'Chance of Admit '\n"
   ]
  },
  {
   "cell_type": "code",
   "execution_count": 4,
   "metadata": {},
   "outputs": [],
   "source": [
    "dataset = dataset.drop(['Serial No.'], axis=1)"
   ]
  },
  {
   "cell_type": "code",
   "execution_count": 5,
   "metadata": {},
   "outputs": [],
   "source": [
    "def normalise(df):\n",
    "    global target\n",
    "    cols = df.columns\n",
    "    for c in cols:\n",
    "        if c != target:\n",
    "            sd = df[c].std()\n",
    "            mean = df[c].mean()\n",
    "            \n",
    "            df[c] = (df[c] - mean)/sd\n",
    "    return df\n",
    "dataset = normalise(dataset)"
   ]
  },
  {
   "cell_type": "code",
   "execution_count": 6,
   "metadata": {},
   "outputs": [
    {
     "name": "stdout",
     "output_type": "stream",
     "text": [
      "train:  (360, 8)\n"
     ]
    }
   ],
   "source": [
    "dataset = dataset.sample(frac=1)\n",
    "train, validate = np.split(dataset, [int(.8*len(dataset))])\n",
    "train_rows = train.shape[0]\n",
    "print \"train: \",train.shape"
   ]
  },
  {
   "cell_type": "markdown",
   "metadata": {},
   "source": [
    "Compute feature matrix X"
   ]
  },
  {
   "cell_type": "code",
   "execution_count": 7,
   "metadata": {
    "scrolled": false
   },
   "outputs": [],
   "source": [
    "def makeX(df):\n",
    "    n = train.shape[0]\n",
    "    dimensions = train.shape[1]\n",
    "    if target in df.columns:\n",
    "        df = df.drop([target], axis=1)\n",
    "    X = df.values\n",
    "    X = np.insert(X, 0, values=1, axis=1)\n",
    "#     print \"row: \",X.shape[0], \"cols: \",X.shape[1]\n",
    "    return X\n",
    "    \n",
    "train_mat = makeX(train)\n",
    "validate_mat = makeX(validate)"
   ]
  },
  {
   "cell_type": "code",
   "execution_count": 8,
   "metadata": {},
   "outputs": [],
   "source": [
    "def initTheta(n):\n",
    "    theta = np.zeros(n - 2 + 1) #remove chance of admit, serial no. add 1 b0 col\n",
    "    return theta"
   ]
  },
  {
   "cell_type": "markdown",
   "metadata": {},
   "source": [
    "$$Cost = \\Sigma( y_i - \\Sigma \\beta_{j} x_{ij} )^2 + \\lambda \\Sigma w_{j}^2 $$"
   ]
  },
  {
   "cell_type": "code",
   "execution_count": 9,
   "metadata": {},
   "outputs": [],
   "source": [
    "def costFunc(X,y,theta,length, lmbda, flag):   \n",
    "    \n",
    "    pred = np.dot(X,theta)\n",
    "\n",
    "    loss = pred - y\n",
    "    squared_error = np.sum((loss)**2)\n",
    "    \n",
    "    cost = squared_error\n",
    "    if flag == 1:\n",
    "        print \"PRED: \",len(pred)\n",
    "       \n",
    "        print \"LOSS: \",len(loss)\n",
    "        print \"SQ err: \",squared_error\n",
    "        print \"cost: \",cost\n",
    "        print \"_-----------------------_\"\n",
    "    return cost"
   ]
  },
  {
   "cell_type": "markdown",
   "metadata": {},
   "source": [
    "$$\\theta_0 := \\theta_0 - \\alpha . 1/m \\Sigma (h_\\theta (x ^ {(i)} ) - y ^{(i)} ) x_0 ^ {(i)}$$\n",
    "$$\\theta_j := \\theta_j(1 - \\alpha . \\lambda/m) - \\alpha.1/m \\Sigma (h_\\theta (x ^ {(i)} ) - y ^{(i)} ) x_j ^ {(i)}$$"
   ]
  },
  {
   "cell_type": "code",
   "execution_count": 10,
   "metadata": {},
   "outputs": [],
   "source": [
    "def gradientDescent(mat, actual, alpha, lmbda):\n",
    "  \n",
    "    alpha_by_n = alpha/train_rows\n",
    "#     print \"alphaby n: \",alpha_by_n\n",
    "\n",
    "    theta = initTheta(df_c) #df_c: no of columns in original dataframe\n",
    "    \n",
    "#     print \"MAT:\",mat.shape\n",
    "    for i in range(0, 1000):\n",
    "        pred =  np.dot(mat, theta)\n",
    "        error = np.array(pred - actual)\n",
    "#         print \"error: \",type(error), (error.shape)\n",
    "#         print \"mat[:,0]: \",type(mat[:,0]), mat[:,0].shape\n",
    "        loss =  np.dot(error, mat[:,0])\n",
    "#         if i==0:\n",
    "#             print \"Loss: \",type(loss), loss.shape\n",
    "        gradient = np.sum(loss) * alpha_by_n\n",
    "#         print \"gradient: \",type(gradient)\n",
    "        theta[0] = theta[0] - gradient\n",
    "#         print \"i: \", i, \"theta[0]: \",theta[0]\n",
    "        for j in range(1, len(theta)):\n",
    "#             if i == 0:\n",
    "#                 print \"mat[:j]: \",mat[:,j].shape\n",
    "            cons = 1 - (alpha_by_n * lmbda)\n",
    "            theta[j] = theta[j]*cons\n",
    "#             if i == 0 and j==1:\n",
    "#                 print \"pred - actual\", type(pred - actual)\n",
    "#                 print \"np.dot((pred - actual),mat[:,j]\", type(np.dot((pred - actual),mat[:,j]))\n",
    "            loss = np.dot(error, mat[:,j])\n",
    "            gradient = np.sum(loss) * alpha_by_n\n",
    "            theta[j] = theta[j] - gradient\n",
    "#         if i==999:\n",
    "#             cost = costFunc(mat, actual, theta, train_rows,lmbda,1 )\n",
    "#         else:\n",
    "#         cost = costFunc(mat, actual, theta, train_rows,lmbda,0 )\n",
    "#         clist.append(cost)\n",
    "#         ilist.append(i)\n",
    "#     print \"RETURNING cost: \",cost\n",
    "    return theta"
   ]
  },
  {
   "cell_type": "code",
   "execution_count": 17,
   "metadata": {},
   "outputs": [
    {
     "name": "stdout",
     "output_type": "stream",
     "text": [
      "l:  99\n"
     ]
    }
   ],
   "source": [
    "l=[]\n",
    "n = 0.01\n",
    "while n<1:\n",
    "    l.append(np.log(n))\n",
    "    n+=0.01\n",
    "print \"l: \",len(l)"
   ]
  },
  {
   "cell_type": "code",
   "execution_count": 12,
   "metadata": {},
   "outputs": [],
   "source": [
    "from sklearn.metrics import mean_squared_error"
   ]
  },
  {
   "cell_type": "code",
   "execution_count": 18,
   "metadata": {},
   "outputs": [
    {
     "name": "stdout",
     "output_type": "stream",
     "text": [
      "i:  0 i:  1 i:  2 i:  3 i:  4 i:  5 i:  6 i:  7 i:  8 i:  9 i:  10 i:  11 i:  12 i:  13 i:  14 i:  15 i:  16 i:  17 i:  18 i:  19 i:  20 i:  21 i:  22 i:  23 i:  24 i:  25 i:  26 i:  27 i:  28 i:  29 i:  30 i:  31 i:  32 i:  33 i:  34 i:  35 i:  36 i:  37 i:  38 i:  39 i:  40 i:  41 i:  42 i:  43 i:  44 i:  45 i:  46 i:  47 i:  48 i:  49 i:  50 i:  51 i:  52 i:  53 i:  54 i:  55 i:  56 i:  57 i:  58 i:  59 i:  60 i:  61 i:  62 i:  63 i:  64 i:  65 i:  66 i:  67 i:  68 i:  69 i:  70 i:  71 i:  72 i:  73 i:  74 i:  75 i:  76 i:  77 i:  78 i:  79 i:  80 i:  81 i:  82 i:  83 i:  84 i:  85 i:  86 i:  87 i:  88 i:  89 i:  90 i:  91 i:  92 i:  93 i:  94 i:  95 i:  96 i:  97 i:  98\n"
     ]
    }
   ],
   "source": [
    "cl =[]\n",
    "for i in range(len(l)):\n",
    "    print \"i: \",i,\n",
    "    the = gradientDescent(train_mat, train[target], 0.01, l[i])\n",
    "#     print \"theta: \",the\n",
    "    val_pred = np.dot(validate_mat, the)\n",
    "    acc = mean_squared_error(validate[target],val_pred)\n",
    "    \n",
    "    cl.append(acc)\n",
    "#     print \"cost: \",cost"
   ]
  },
  {
   "cell_type": "code",
   "execution_count": 19,
   "metadata": {
    "scrolled": false
   },
   "outputs": [
    {
     "name": "stdout",
     "output_type": "stream",
     "text": [
      "newl:  99\n",
      "cl:  99\n"
     ]
    },
    {
     "data": {
      "text/plain": [
       "Text(0,0.5,'Cost')"
      ]
     },
     "execution_count": 19,
     "metadata": {},
     "output_type": "execute_result"
    },
    {
     "data": {
      "image/png": "[encoded data removed]",
      "text/plain": [
       "<Figure size 432x576 with 1 Axes>"
      ]
     },
     "metadata": {
      "needs_background": "light"
     },
     "output_type": "display_data"
    }
   ],
   "source": [
    "print \"newl: \",len(l)\n",
    "print \"cl: \",len(cl)\n",
    "fig, axes = plt.subplots(figsize=(6, 8))\n",
    "axes.plot(l,cl)\n",
    "plt.xlabel('lambda')\n",
    "plt.ylabel('Cost')\n",
    "# print the"
   ]
  },
  {
   "cell_type": "code",
   "execution_count": 15,
   "metadata": {
    "scrolled": false
   },
   "outputs": [],
   "source": [
    "# def predict(train_mat, target_col, alpha, toBePredicted): \n",
    "\n",
    "#     reqd_theta, reqd_ilist, reqd_clist = gradientDescent(train_mat, target_col, alpha, 9)\n",
    "#     y_matrix = np.dot(toBePredicted, reqd_theta)\n",
    "\n",
    "#     return y_matrix, reqd_theta\n",
    "# y_predict, weights = predict(train_mat, train[target], 0.1, validate_mat)\n",
    "# print \"VALIDATE: \",validate_mat.shape\n",
    "# print \"y_predict: \",len(y_predict), y_predict"
   ]
  },
  {
   "cell_type": "markdown",
   "metadata": {},
   "source": [
    "#### Compare  the  performance  of  Mean  square  error  loss  function  vs  Mean  Absolute error function vs Mean absolute percentage error function and explain the reasons for the observed behaviour"
   ]
  },
  {
   "cell_type": "code",
   "execution_count": 16,
   "metadata": {},
   "outputs": [],
   "source": [
    "def MSE(predicted_y, original_y):\n",
    "    original = original_y.values\n",
    "    sum = 0\n",
    "    n = len(original)\n",
    "    for i in range(0, n):\n",
    "        diff = predicted_y[i] - original[i]\n",
    "        squared_diff = diff**2\n",
    "        sum += squared_diff\n",
    "    error = sum/n\n",
    "    return error\n",
    "\n",
    "# MSE(y_predict, validate[target])"
   ]
  }
 ],
 "metadata": {
  "kernelspec": {
   "display_name": "Python 2",
   "language": "python",
   "name": "python2"
  },
  "language_info": {
   "codemirror_mode": {
    "name": "ipython",
    "version": 2
   },
   "file_extension": ".py",
   "mimetype": "text/x-python",
   "name": "python",
   "nbconvert_exporter": "python",
   "pygments_lexer": "ipython2",
   "version": "2.7.12"
  }
 },
 "nbformat": 4,
 "nbformat_minor": 2
}
